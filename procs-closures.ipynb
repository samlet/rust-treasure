{
 "cells": [
  {
   "cell_type": "code",
   "execution_count": 2,
   "metadata": {
    "ExecuteTime": {
     "end_time": "2020-08-25T15:03:42.137763Z",
     "start_time": "2020-08-25T15:03:38.858Z"
    }
   },
   "outputs": [
    {
     "name": "stdout",
     "output_type": "stream",
     "text": [
      "calculating slowly...\n"
     ]
    },
    {
     "data": {
      "text/plain": [
       "5"
      ]
     },
     "execution_count": 2,
     "metadata": {},
     "output_type": "execute_result"
    }
   ],
   "source": [
    "use std::thread;\n",
    "use std::time::Duration;\n",
    "\n",
    "fn simulated_expensive_calculation(intensity: u32) -> u32 {\n",
    "    println!(\"calculating slowly...\");\n",
    "    thread::sleep(Duration::from_secs(2));\n",
    "    intensity\n",
    "}\n",
    "\n",
    "simulated_expensive_calculation(5)"
   ]
  },
  {
   "cell_type": "code",
   "execution_count": 3,
   "metadata": {
    "ExecuteTime": {
     "end_time": "2020-08-25T15:05:10.239652Z",
     "start_time": "2020-08-25T15:05:04.875Z"
    }
   },
   "outputs": [
    {
     "name": "stdout",
     "output_type": "stream",
     "text": [
      "calculating slowly...\n",
      "Today, do 10 pushups!\n",
      "calculating slowly...\n",
      "Next, do 10 situps!\n"
     ]
    },
    {
     "data": {
      "text/plain": [
       "()"
      ]
     },
     "execution_count": 3,
     "metadata": {},
     "output_type": "execute_result"
    }
   ],
   "source": [
    "fn main() {\n",
    "    let simulated_user_specified_value = 10;\n",
    "    let simulated_random_number = 7;\n",
    "\n",
    "    generate_workout(\n",
    "        simulated_user_specified_value,\n",
    "        simulated_random_number\n",
    "    );\n",
    "}\n",
    "\n",
    "fn generate_workout(intensity: u32, random_number: u32) {\n",
    "    if intensity < 25 {\n",
    "        println!(\n",
    "            \"Today, do {} pushups!\",\n",
    "            simulated_expensive_calculation(intensity)\n",
    "        );\n",
    "        println!(\n",
    "            \"Next, do {} situps!\",\n",
    "            simulated_expensive_calculation(intensity)\n",
    "        );\n",
    "    } else {\n",
    "        if random_number == 3 {\n",
    "            println!(\"Take a break today! Remember to stay hydrated!\");\n",
    "        } else {\n",
    "            println!(\n",
    "                \"Today, run for {} minutes!\",\n",
    "                simulated_expensive_calculation(intensity)\n",
    "            );\n",
    "        }\n",
    "    }\n",
    "}\n",
    "\n",
    "main()"
   ]
  },
  {
   "cell_type": "markdown",
   "metadata": {},
   "source": [
    "代码有多处调用了慢计算函数 simulated_expensive_calculation 。第一个 if 块调用了 simulated_expensive_calculation 两次， else 中的 if 没有调用它，而第二个 else 中的代码调用了它一次。\n",
    "\n",
    "generate_workout 函数的期望行为是首先检查用户需要低强度（由小于 25 的系数表示）锻炼还是高强度（25 或以上）锻炼。\n",
    "\n",
    "低强度锻炼计划会根据由 simulated_expensive_calculation 函数所模拟的复杂算法建议一定数量的俯卧撑和仰卧起坐。\n",
    "\n",
    "如果用户需要高强度锻炼，这里有一些额外的逻辑：如果 app 生成的随机数刚好是 3，app 相反会建议用户稍做休息并补充水分。如果不是，则用户会从复杂算法中得到数分钟跑步的高强度锻炼计划。"
   ]
  },
  {
   "cell_type": "code",
   "execution_count": 4,
   "metadata": {
    "ExecuteTime": {
     "end_time": "2020-08-25T15:07:46.006789Z",
     "start_time": "2020-08-25T15:07:42.732Z"
    }
   },
   "outputs": [
    {
     "name": "stdout",
     "output_type": "stream",
     "text": [
      "calculating slowly...\n",
      "Today, do 10 pushups!\n",
      "Next, do 10 situps!\n"
     ]
    },
    {
     "data": {
      "text/plain": [
       "()"
      ]
     },
     "execution_count": 4,
     "metadata": {},
     "output_type": "execute_result"
    }
   ],
   "source": [
    "fn generate_workout(intensity: u32, random_number: u32) {\n",
    "    let expensive_result =\n",
    "        simulated_expensive_calculation(intensity);\n",
    "\n",
    "    if intensity < 25 {\n",
    "        println!(\n",
    "            \"Today, do {} pushups!\",\n",
    "            expensive_result\n",
    "        );\n",
    "        println!(\n",
    "            \"Next, do {} situps!\",\n",
    "            expensive_result\n",
    "        );\n",
    "    } else {\n",
    "        if random_number == 3 {\n",
    "            println!(\"Take a break today! Remember to stay hydrated!\");\n",
    "        } else {\n",
    "            println!(\n",
    "                \"Today, run for {} minutes!\",\n",
    "                expensive_result\n",
    "            );\n",
    "        }\n",
    "    }\n",
    "}\n",
    "\n",
    "main()"
   ]
  },
  {
   "cell_type": "markdown",
   "metadata": {},
   "source": [
    "这个修改统一了 simulated_expensive_calculation 调用并解决了第一个 if 块中不必要的两次调用函数的问题。不幸的是，现在所有的情况下都需要调用函数并等待结果，包括那个完全不需要这一结果的内部 if 块。\n",
    "\n"
   ]
  },
  {
   "cell_type": "code",
   "execution_count": 6,
   "metadata": {
    "ExecuteTime": {
     "end_time": "2020-08-25T15:08:55.215854Z",
     "start_time": "2020-08-25T15:08:52.043Z"
    }
   },
   "outputs": [
    {
     "name": "stdout",
     "output_type": "stream",
     "text": [
      "calculating slowly...\n"
     ]
    },
    {
     "data": {
      "text/plain": [
       "()"
      ]
     },
     "execution_count": 6,
     "metadata": {},
     "output_type": "execute_result"
    }
   ],
   "source": [
    "// 重构使用闭包储存代码\n",
    "fn f(){\n",
    "    let expensive_closure = |num| {\n",
    "        println!(\"calculating slowly...\");\n",
    "        thread::sleep(Duration::from_secs(2));\n",
    "        num\n",
    "    };\n",
    "    expensive_closure(5);\n",
    "}\n",
    "f()"
   ]
  },
  {
   "cell_type": "code",
   "execution_count": 8,
   "metadata": {
    "ExecuteTime": {
     "end_time": "2020-08-25T15:12:18.611794Z",
     "start_time": "2020-08-25T15:12:13.708Z"
    }
   },
   "outputs": [
    {
     "name": "stdout",
     "output_type": "stream",
     "text": [
      "calculating slowly...\n",
      ".Today, do 10 pushups!\n",
      "calculating slowly...\n",
      ".Next, do 10 situps!\n"
     ]
    },
    {
     "data": {
      "text/plain": [
       "()"
      ]
     },
     "execution_count": 8,
     "metadata": {},
     "output_type": "execute_result"
    }
   ],
   "source": [
    "fn generate_workout(intensity: u32, random_number: u32) {\n",
    "    let expensive_closure = |num| {\n",
    "        println!(\"calculating slowly...\");\n",
    "        thread::sleep(Duration::from_secs(2));\n",
    "        num\n",
    "    };\n",
    "\n",
    "    if intensity < 25 {\n",
    "        println!(\n",
    "            \".Today, do {} pushups!\",\n",
    "            expensive_closure(intensity)\n",
    "        );\n",
    "        println!(\n",
    "            \".Next, do {} situps!\",\n",
    "            expensive_closure(intensity)\n",
    "        );\n",
    "    } else {\n",
    "        if random_number == 3 {\n",
    "            println!(\"Take a break today! Remember to stay hydrated!\");\n",
    "        } else {\n",
    "            println!(\n",
    "                \".Today, run for {} minutes!\",\n",
    "                expensive_closure(intensity)\n",
    "            );\n",
    "        }\n",
    "    }\n",
    "}\n",
    "\n",
    "main()"
   ]
  },
  {
   "cell_type": "markdown",
   "metadata": {},
   "source": [
    "然而，我们又重新引入了示例 13-3 中的问题：仍然在第一个 if 块中调用了闭包两次，这调用了慢计算代码两次而使得用户需要多等待一倍的时间。可以通过在 if 块中创建一个本地变量存放闭包调用的结果来解决这个问题，不过闭包可以提供另外一种解决方案。我们稍后会讨论这个方案，不过目前让我们首先讨论一下为何闭包定义中和所涉及的 trait 中没有类型注解。\n",
    "\n"
   ]
  },
  {
   "cell_type": "markdown",
   "metadata": {},
   "source": [
    "强制在这些小的匿名函数中注明类型是很恼人的，并且与编译器已知的信息存在大量的重复。\n",
    "\n",
    "类似于变量，如果相比严格的必要性你更希望增加明确性并变得更啰嗦，可以选择增加类型注解；为示例 13-5 中定义的闭包标注类型将看起来像示例 13-7 中的定义：\n",
    "\n",
    "文件名: src/main.rs\n",
    "\n",
    "```rust\n",
    "# use std::thread;\n",
    "# use std::time::Duration;\n",
    "#\n",
    "let expensive_closure = |num: u32| -> u32 {\n",
    "    println!(\"calculating slowly...\");\n",
    "    thread::sleep(Duration::from_secs(2));\n",
    "    num\n",
    "};\n",
    "```"
   ]
  },
  {
   "cell_type": "markdown",
   "metadata": {},
   "source": [
    "有了类型注解闭包的语法就更类似函数了。如下是一个对其参数加一的函数的定义与拥有相同行为闭包语法的纵向对比。这里增加了一些空格来对齐相应部分。这展示了闭包语法如何类似于函数语法，除了使用竖线而不是括号以及几个可选的语法之外："
   ]
  },
  {
   "cell_type": "code",
   "execution_count": 16,
   "metadata": {
    "ExecuteTime": {
     "end_time": "2020-08-25T15:16:31.921263Z",
     "start_time": "2020-08-25T15:16:31.076Z"
    }
   },
   "outputs": [
    {
     "data": {
      "text/plain": [
       "()"
      ]
     },
     "execution_count": 16,
     "metadata": {},
     "output_type": "execute_result"
    }
   ],
   "source": [
    "fn f(){\n",
    "    fn  add_one_v1   (x: u32) -> u32 { x + 1 }\n",
    "    let add_one_v2 = |x: u32| -> u32 { x + 1 };    \n",
    "}\n",
    "fn f2(){\n",
    "    // let add_one_v3 = |x|             { x + 1 };\n",
    "    // let add_one_v4 = |x|               x + 1  ;\n",
    "}\n",
    "f()"
   ]
  },
  {
   "cell_type": "code",
   "execution_count": 20,
   "metadata": {
    "ExecuteTime": {
     "end_time": "2020-08-25T15:17:23.199780Z",
     "start_time": "2020-08-25T15:17:21.793Z"
    }
   },
   "outputs": [
    {
     "data": {
      "text/plain": [
       "\"hello\""
      ]
     },
     "execution_count": 20,
     "metadata": {},
     "output_type": "execute_result"
    }
   ],
   "source": [
    "fn f()-> String{\n",
    "    let example_closure = |x| x;\n",
    "\n",
    "    let s = example_closure(String::from(\"hello\"));\n",
    "    s\n",
    "}\n",
    "f()"
   ]
  },
  {
   "cell_type": "code",
   "execution_count": 22,
   "metadata": {
    "ExecuteTime": {
     "end_time": "2020-08-25T15:20:32.290915Z",
     "start_time": "2020-08-25T15:20:31.740Z"
    }
   },
   "outputs": [],
   "source": [
    "// 使用带有泛型和 Fn trait 的闭包\n",
    "\n",
    "struct Cacher<T>\n",
    "    where T: Fn(u32) -> u32\n",
    "{\n",
    "    calculation: T,\n",
    "    value: Option<u32>,\n",
    "}\n",
    "\n",
    "impl<T> Cacher<T>\n",
    "    where T: Fn(u32) -> u32\n",
    "{\n",
    "    fn new(calculation: T) -> Cacher<T> {\n",
    "        Cacher {\n",
    "            calculation,\n",
    "            value: None,\n",
    "        }\n",
    "    }\n",
    "\n",
    "    fn value(&mut self, arg: u32) -> u32 {\n",
    "        match self.value {\n",
    "            Some(v) => v,\n",
    "            None => {\n",
    "                let v = (self.calculation)(arg);\n",
    "                self.value = Some(v);\n",
    "                v\n",
    "            },\n",
    "        }\n",
    "    }\n",
    "}"
   ]
  },
  {
   "cell_type": "code",
   "execution_count": 23,
   "metadata": {
    "ExecuteTime": {
     "end_time": "2020-08-25T15:21:27.213050Z",
     "start_time": "2020-08-25T15:21:26.394Z"
    }
   },
   "outputs": [],
   "source": [
    "fn generate_workout(intensity: u32, random_number: u32) {\n",
    "    let mut expensive_result = Cacher::new(|num| {\n",
    "        println!(\"calculating slowly...\");\n",
    "        thread::sleep(Duration::from_secs(2));\n",
    "        num\n",
    "    });\n",
    "\n",
    "    if intensity < 25 {\n",
    "        println!(\n",
    "            \"Today, do {} pushups!\",\n",
    "            expensive_result.value(intensity)\n",
    "        );\n",
    "        println!(\n",
    "            \"Next, do {} situps!\",\n",
    "            expensive_result.value(intensity)\n",
    "        );\n",
    "    } else {\n",
    "        if random_number == 3 {\n",
    "            println!(\"Take a break today! Remember to stay hydrated!\");\n",
    "        } else {\n",
    "            println!(\n",
    "                \"Today, run for {} minutes!\",\n",
    "                expensive_result.value(intensity)\n",
    "            );\n",
    "        }\n",
    "    }\n",
    "}"
   ]
  },
  {
   "cell_type": "code",
   "execution_count": 24,
   "metadata": {
    "ExecuteTime": {
     "end_time": "2020-08-25T15:22:15.956978Z",
     "start_time": "2020-08-25T15:22:12.783Z"
    }
   },
   "outputs": [
    {
     "name": "stdout",
     "output_type": "stream",
     "text": [
      "calculating slowly...\n",
      "Today, do 10 pushups!\n",
      "Next, do 10 situps!\n"
     ]
    },
    {
     "data": {
      "text/plain": [
       "()"
      ]
     },
     "execution_count": 24,
     "metadata": {},
     "output_type": "execute_result"
    }
   ],
   "source": [
    "main()"
   ]
  },
  {
   "cell_type": "code",
   "execution_count": 25,
   "metadata": {
    "ExecuteTime": {
     "end_time": "2020-08-25T15:34:55.586615Z",
     "start_time": "2020-08-25T15:34:54.028Z"
    }
   },
   "outputs": [
    {
     "data": {
      "text/plain": [
       "()"
      ]
     },
     "execution_count": 25,
     "metadata": {},
     "output_type": "execute_result"
    }
   ],
   "source": [
    "// 闭包会捕获其环境\n",
    "\n",
    "fn main() {\n",
    "    let x = 4;\n",
    "\n",
    "    let equal_to_x = |z| z == x;\n",
    "\n",
    "    let y = 4;\n",
    "\n",
    "    assert!(equal_to_x(y));\n",
    "}\n",
    "\n",
    "main()"
   ]
  },
  {
   "cell_type": "markdown",
   "metadata": {},
   "source": [
    "函数则不能做到同样的事，如果尝试如下例子，它并不能编译：\n",
    "\n",
    "文件名: src/main.rs\n",
    "\n",
    "```rust\n",
    "fn main() {\n",
    "    let x = 4;\n",
    "\n",
    "    fn equal_to_x(z: i32) -> bool { z == x }\n",
    "\n",
    "    let y = 4;\n",
    "\n",
    "    assert!(equal_to_x(y));\n",
    "}\n",
    "```"
   ]
  },
  {
   "cell_type": "markdown",
   "metadata": {},
   "source": [
    "### 闭包可以通过三种方式捕获其环境\n",
    "闭包可以通过三种方式捕获其环境，他们直接对应函数的三种获取参数的方式：获取所有权，可变借用和不可变借用。这三种捕获值的方式被编码为如下三个 Fn trait：\n",
    "\n",
    "- FnOnce 消费从周围作用域捕获的变量，闭包周围的作用域被称为其 环境，environment。为了消费捕获到的变量，闭包必须获取其所有权并在定义闭包时将其移动进闭包。其名称的 Once 部分代表了闭包不能多次获取相同变量的所有权的事实，所以它只能被调用一次。\n",
    "- FnMut 获取可变的借用值所以可以改变其环境\n",
    "- Fn 从其环境获取不可变的借用值\n",
    "\n",
    "当创建一个闭包时，Rust 根据其如何使用环境中变量来推断我们希望如何引用环境。由于所有闭包都可以被调用至少一次，所以所有闭包都实现了 FnOnce 。那些并没有移动被捕获变量的所有权到闭包内的闭包也实现了 FnMut ，而不需要对被捕获的变量进行可变访问的闭包则也实现了 Fn 。 在示例 13-12 中，equal_to_x 闭包不可变的借用了 x（所以 equal_to_x 具有 Fn trait），因为闭包体只需要读取 x 的值。\n",
    "\n",
    "如果你希望强制闭包获取其使用的环境值的所有权，可以在参数列表前使用 move 关键字。这个技巧在将闭包传递给新线程以便将数据移动到新线程中时最为实用。"
   ]
  },
  {
   "cell_type": "code",
   "execution_count": null,
   "metadata": {},
   "outputs": [],
   "source": []
  }
 ],
 "metadata": {
  "kernelspec": {
   "display_name": "Rust",
   "language": "rust",
   "name": "rust"
  },
  "language_info": {
   "codemirror_mode": "rust",
   "file_extension": ".rs",
   "mimetype": "text/rust",
   "name": "Rust",
   "pygment_lexer": "rust",
   "version": ""
  },
  "varInspector": {
   "cols": {
    "lenName": 16,
    "lenType": 16,
    "lenVar": 40
   },
   "kernels_config": {
    "python": {
     "delete_cmd_postfix": "",
     "delete_cmd_prefix": "del ",
     "library": "var_list.py",
     "varRefreshCmd": "print(var_dic_list())"
    },
    "r": {
     "delete_cmd_postfix": ") ",
     "delete_cmd_prefix": "rm(",
     "library": "var_list.r",
     "varRefreshCmd": "cat(var_dic_list()) "
    }
   },
   "types_to_exclude": [
    "module",
    "function",
    "builtin_function_or_method",
    "instance",
    "_Feature"
   ],
   "window_display": false
  }
 },
 "nbformat": 4,
 "nbformat_minor": 4
}
