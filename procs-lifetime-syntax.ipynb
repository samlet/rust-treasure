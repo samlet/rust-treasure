{
 "cells": [
  {
   "cell_type": "markdown",
   "metadata": {},
   "source": [
    "现在函数签名表明对于某些生命周期 'a，函数会获取两个参数，他们都是与生命周期 'a 存在的一样长的字符串 slice。函数会返回一个同样也与生命周期 'a 存在的一样长的字符串 slice。这就是我们告诉 Rust 需要其保证的契约。记住通过在函数签名中指定生命周期参数时，我们并没有改变任何传入后返回的值的生命周期。而是指出任何不遵守这个协议的传入值都将被借用检查器拒绝。注意 longest 函数并不需要知道 x 和 y 具体会存在多久，而只需要知道有某个可以被 'a 替代的作用域将会满足这个签名。"
   ]
  },
  {
   "cell_type": "code",
   "execution_count": 2,
   "metadata": {
    "ExecuteTime": {
     "end_time": "2020-08-25T00:28:49.867563Z",
     "start_time": "2020-08-25T00:28:49.347Z"
    }
   },
   "outputs": [],
   "source": [
    "fn longest<'a>(x: &'a str, y: &'a str) -> &'a str {\n",
    "    if x.len() > y.len() {\n",
    "        x\n",
    "    } else {\n",
    "        y\n",
    "    }\n",
    "}"
   ]
  },
  {
   "cell_type": "code",
   "execution_count": 3,
   "metadata": {
    "ExecuteTime": {
     "end_time": "2020-08-25T00:29:49.547210Z",
     "start_time": "2020-08-25T00:29:48.254Z"
    }
   },
   "outputs": [
    {
     "name": "stdout",
     "output_type": "stream",
     "text": [
      "The longest string is long string is long\n"
     ]
    },
    {
     "data": {
      "text/plain": [
       "()"
      ]
     },
     "execution_count": 3,
     "metadata": {},
     "output_type": "execute_result"
    }
   ],
   "source": [
    "fn main() {\n",
    "    let string1 = String::from(\"long string is long\");\n",
    "\n",
    "    {\n",
    "        let string2 = String::from(\"xyz\");\n",
    "        let result = longest(string1.as_str(), string2.as_str());\n",
    "        println!(\"The longest string is {}\", result);\n",
    "    }\n",
    "}\n",
    "main()"
   ]
  },
  {
   "cell_type": "code",
   "execution_count": 4,
   "metadata": {
    "ExecuteTime": {
     "end_time": "2020-08-25T00:30:40.687208Z",
     "start_time": "2020-08-25T00:30:40.190Z"
    }
   },
   "outputs": [
    {
     "ename": "Error",
     "evalue": "`string2` does not live long enough",
     "output_type": "error",
     "traceback": [
      "        result = longest(string1.as_str(), string2.as_str());",
      "\u001b[91m                                           ^^^^^^^\u001b[0m \u001b[94mborrowed value does not live long enough\u001b[0m",
      "    }",
      "\u001b[91m    ^\u001b[0m \u001b[94m`string2` dropped here while still borrowed\u001b[0m",
      "    println!(\"The longest string is {}\", result);",
      "\u001b[91m                                         ^^^^^^\u001b[0m \u001b[94mborrow later used here\u001b[0m",
      "`string2` does not live long enough"
     ]
    }
   ],
   "source": [
    "fn main() {\n",
    "    let string1 = String::from(\"long string is long\");\n",
    "    let result;\n",
    "    {\n",
    "        let string2 = String::from(\"xyz\");\n",
    "        result = longest(string1.as_str(), string2.as_str());\n",
    "    }\n",
    "    println!(\"The longest string is {}\", result);\n",
    "}\n",
    "main()"
   ]
  },
  {
   "cell_type": "markdown",
   "metadata": {},
   "source": [
    "错误表明为了保证 println! 中的 result 是有效的，string2 需要直到外部作用域结束都是有效的。Rust 知道这些是因为（longest）函数的参数和返回值都使用了相同的生命周期参数 'a。\n",
    "\n"
   ]
  },
  {
   "cell_type": "code",
   "execution_count": 6,
   "metadata": {
    "ExecuteTime": {
     "end_time": "2020-08-25T00:32:28.036187Z",
     "start_time": "2020-08-25T00:32:26.945Z"
    }
   },
   "outputs": [
    {
     "data": {
      "text/plain": [
       "()"
      ]
     },
     "execution_count": 6,
     "metadata": {},
     "output_type": "execute_result"
    }
   ],
   "source": [
    "// 结构体定义中的生命周期注解\n",
    "// 一个存放引用的结构体，所以其定义需要生命周期注解\n",
    "struct ImportantExcerpt<'a> {\n",
    "    part: &'a str,\n",
    "}\n",
    "\n",
    "fn main() {\n",
    "    let novel = String::from(\"Call me Ishmael. Some years ago...\");\n",
    "    let first_sentence = novel.split('.')\n",
    "        .next()\n",
    "        .expect(\"Could not find a '.'\");\n",
    "    let i = ImportantExcerpt { part: first_sentence };\n",
    "    \n",
    "    // 直到 ImportantExcerpt 离开作用域之后 novel 都不会离开作用域，\n",
    "    // 所以 ImportantExcerpt 实例中的引用是有效的\n",
    "}\n",
    "main()"
   ]
  },
  {
   "cell_type": "code",
   "execution_count": 7,
   "metadata": {
    "ExecuteTime": {
     "end_time": "2020-08-25T00:34:04.069687Z",
     "start_time": "2020-08-25T00:34:03.346Z"
    }
   },
   "outputs": [],
   "source": [
    "// 没有使用生命周期注解的函数，即便其参数和返回值都是引用\n",
    "fn first_word(s: &str) -> &str {\n",
    "    let bytes = s.as_bytes();\n",
    "\n",
    "    for (i, &item) in bytes.iter().enumerate() {\n",
    "        if item == b' ' {\n",
    "            return &s[0..i];\n",
    "        }\n",
    "    }\n",
    "\n",
    "    &s[..]\n",
    "}"
   ]
  },
  {
   "cell_type": "markdown",
   "metadata": {},
   "source": [
    "在编写了很多 Rust 代码后，Rust 团队发现在特定情况下 Rust 程序员们总是重复地编写一模一样的生命周期注解。这些场景是可预测的并且遵循几个明确的模式。接着 Rust 团队就把这些模式编码进了 Rust 编译器中，如此借用检查器在这些情况下就能推断出生命周期而不再强制程序员显式的增加注解。\n",
    "\n",
    "这里我们提到一些 Rust 的历史是因为更多的明确的模式被合并和添加到编译器中是完全可能的。未来只会需要更少的生命周期注解。\n",
    "\n",
    "被编码进 Rust 引用分析的模式被称为 **生命周期省略规则（lifetime elision rules）**。这并不是需要程序员遵守的规则；这些规则是一系列特定的场景，此时编译器会考虑，如果代码符合这些场景，就无需明确指定生命周期。\n",
    "\n",
    "省略规则并不提供完整的推断：如果 Rust 在明确遵守这些规则的前提下变量的生命周期仍然是模棱两可的话，它不会猜测剩余引用的生命周期应该是什么。在这种情况，编译器会给出一个错误，这可以通过增加对应引用之间相联系的生命周期注解来解决。\n",
    "\n",
    "函数或方法的参数的生命周期被称为 输入生命周期（input lifetimes），而返回值的生命周期被称为 输出生命周期（output lifetimes）。\n",
    "\n",
    "编译器采用三条规则来判断引用何时不需要明确的注解。第一条规则适用于输入生命周期，后两条规则适用于输出生命周期。如果编译器检查完这三条规则后仍然存在没有计算出生命周期的引用，编译器将会停止并生成错误。这些规则适用于 fn 定义，以及 impl 块。\n",
    "\n",
    "第一条规则是每一个是引用的参数都有它自己的生命周期参数。换句话说就是，有一个引用参数的函数有一个生命周期参数：fn foo<'a>(x: &'a i32)，有两个引用参数的函数有两个不同的生命周期参数，fn foo<'a, 'b>(x: &'a i32, y: &'b i32)，依此类推。\n",
    "\n",
    "第二条规则是如果只有一个输入生命周期参数，那么它被赋予所有输出生命周期参数：fn foo<'a>(x: &'a i32) -> &'a i32。\n",
    "\n",
    "第三条规则是如果方法有多个输入生命周期参数，不过其中之一因为方法的缘故为 &self 或 &mut self，那么 self 的生命周期被赋给所有输出生命周期参数。第三条规则使得方法更容易读写，因为只需更少的符号。\n",
    "\n"
   ]
  },
  {
   "cell_type": "code",
   "execution_count": 9,
   "metadata": {
    "ExecuteTime": {
     "end_time": "2020-08-25T00:37:26.181817Z",
     "start_time": "2020-08-25T00:37:25.483Z"
    }
   },
   "outputs": [],
   "source": [
    "// 方法定义中的生命周期注解\n",
    "\n",
    " struct ImportantExcerpt<'a> {\n",
    "     part: &'a str,\n",
    " }\n",
    "\n",
    "impl<'a> ImportantExcerpt<'a> {\n",
    "    fn level(&self) -> i32 {\n",
    "        3\n",
    "    }\n",
    "    fn announce_and_return_part(&self, announcement: &str) -> &str {\n",
    "        println!(\"Attention please: {}\", announcement);\n",
    "        self.part\n",
    "    }\n",
    "}"
   ]
  },
  {
   "cell_type": "code",
   "execution_count": 10,
   "metadata": {
    "ExecuteTime": {
     "end_time": "2020-08-25T00:38:11.774613Z",
     "start_time": "2020-08-25T00:38:10.058Z"
    }
   },
   "outputs": [
    {
     "data": {
      "text/plain": [
       "\"I have a static lifetime.\""
      ]
     },
     "execution_count": 10,
     "metadata": {},
     "output_type": "execute_result"
    }
   ],
   "source": [
    "// 静态生命周期, 其生命周期能够存活于整个程序期间。\n",
    "let s: &'static str = \"I have a static lifetime.\";\n",
    "s"
   ]
  },
  {
   "cell_type": "code",
   "execution_count": 11,
   "metadata": {
    "ExecuteTime": {
     "end_time": "2020-08-25T00:39:36.992920Z",
     "start_time": "2020-08-25T00:39:36.193Z"
    }
   },
   "outputs": [],
   "source": [
    "// 在同一函数中指定泛型类型参数、trait bounds 和生命周期的语法！\n",
    "use std::fmt::Display;\n",
    "\n",
    "fn longest_with_an_announcement<'a, T>(x: &'a str, y: &'a str, ann: T) -> &'a str\n",
    "    where T: Display\n",
    "{\n",
    "    println!(\"Announcement! {}\", ann);\n",
    "    if x.len() > y.len() {\n",
    "        x\n",
    "    } else {\n",
    "        y\n",
    "    }\n",
    "}"
   ]
  }
 ],
 "metadata": {
  "kernelspec": {
   "display_name": "Rust",
   "language": "rust",
   "name": "rust"
  },
  "language_info": {
   "codemirror_mode": "rust",
   "file_extension": ".rs",
   "mimetype": "text/rust",
   "name": "Rust",
   "pygment_lexer": "rust",
   "version": ""
  },
  "varInspector": {
   "cols": {
    "lenName": 16,
    "lenType": 16,
    "lenVar": 40
   },
   "kernels_config": {
    "python": {
     "delete_cmd_postfix": "",
     "delete_cmd_prefix": "del ",
     "library": "var_list.py",
     "varRefreshCmd": "print(var_dic_list())"
    },
    "r": {
     "delete_cmd_postfix": ") ",
     "delete_cmd_prefix": "rm(",
     "library": "var_list.r",
     "varRefreshCmd": "cat(var_dic_list()) "
    }
   },
   "types_to_exclude": [
    "module",
    "function",
    "builtin_function_or_method",
    "instance",
    "_Feature"
   ],
   "window_display": false
  }
 },
 "nbformat": 4,
 "nbformat_minor": 4
}
