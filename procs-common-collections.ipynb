{
 "cells": [
  {
   "cell_type": "code",
   "execution_count": 2,
   "metadata": {
    "ExecuteTime": {
     "end_time": "2020-08-24T20:02:14.744219Z",
     "start_time": "2020-08-24T20:02:13.532Z"
    }
   },
   "outputs": [],
   "source": [
    "let v: Vec<i32> = Vec::new();\n"
   ]
  },
  {
   "cell_type": "code",
   "execution_count": 4,
   "metadata": {
    "ExecuteTime": {
     "end_time": "2020-08-24T20:02:24.167718Z",
     "start_time": "2020-08-24T20:02:22.736Z"
    }
   },
   "outputs": [
    {
     "data": {
      "text/plain": [
       "[1, 2, 3]"
      ]
     },
     "execution_count": 4,
     "metadata": {},
     "output_type": "execute_result"
    }
   ],
   "source": [
    "let v = vec![1, 2, 3];\n",
    "v"
   ]
  },
  {
   "cell_type": "code",
   "execution_count": 5,
   "metadata": {
    "ExecuteTime": {
     "end_time": "2020-08-24T20:02:51.813496Z",
     "start_time": "2020-08-24T20:02:50.598Z"
    }
   },
   "outputs": [],
   "source": [
    "let mut v = Vec::new();\n",
    "\n",
    "v.push(5);\n",
    "v.push(6);\n",
    "v.push(7);\n",
    "v.push(8);"
   ]
  },
  {
   "cell_type": "code",
   "execution_count": 7,
   "metadata": {
    "ExecuteTime": {
     "end_time": "2020-08-24T20:03:25.243290Z",
     "start_time": "2020-08-24T20:03:23.679Z"
    }
   },
   "outputs": [
    {
     "name": "stdout",
     "output_type": "stream",
     "text": [
      "The third element is 3\n",
      "The third element is 3\n"
     ]
    },
    {
     "data": {
      "text/plain": [
       "()"
      ]
     },
     "execution_count": 7,
     "metadata": {},
     "output_type": "execute_result"
    }
   ],
   "source": [
    "fn f(){\n",
    "    let v = vec![1, 2, 3, 4, 5];\n",
    "\n",
    "    let third: &i32 = &v[2];\n",
    "    println!(\"The third element is {}\", third);\n",
    "\n",
    "    match v.get(2) {\n",
    "        Some(third) => println!(\"The third element is {}\", third),\n",
    "        None => println!(\"There is no third element.\"),\n",
    "    }\n",
    "}\n",
    "f()"
   ]
  },
  {
   "cell_type": "code",
   "execution_count": 11,
   "metadata": {
    "ExecuteTime": {
     "end_time": "2020-08-24T20:04:29.714785Z",
     "start_time": "2020-08-24T20:04:28.609Z"
    }
   },
   "outputs": [
    {
     "data": {
      "text/plain": [
       "()"
      ]
     },
     "execution_count": 11,
     "metadata": {},
     "output_type": "execute_result"
    }
   ],
   "source": [
    "fn f(){\n",
    "    let v = vec![1, 2, 3, 4, 5];\n",
    "    \n",
    "    // 对于第一个 [] 方法，当引用一个不存在的元素时 Rust 会造成 panic。\n",
    "    // 这个方法更适合当程序认为尝试访问超过 vector 结尾的元素是一个严重错误的情况，这时应该使程序崩溃。\n",
    "    // let does_not_exist = &v[100];\n",
    "    // 当 get 方法被传递了一个数组外的索引时，它不会 panic 而是返回 None。\n",
    "    // 当偶尔出现超过 vector 范围的访问属于正常情况的时候可以考虑使用它。\n",
    "    let does_not_exist = v.get(100);\n",
    "}\n",
    "f()"
   ]
  },
  {
   "cell_type": "code",
   "execution_count": 12,
   "metadata": {
    "ExecuteTime": {
     "end_time": "2020-08-24T20:06:11.919294Z",
     "start_time": "2020-08-24T20:06:11.387Z"
    }
   },
   "outputs": [
    {
     "ename": "Error",
     "evalue": "cannot borrow `v` as mutable because it is also borrowed as immutable",
     "output_type": "error",
     "traceback": [
      "    v.push(6);",
      "\u001b[91m    ^^^^^^^^^\u001b[0m \u001b[94mmutable borrow occurs here\u001b[0m",
      "    let first = &v[0];",
      "\u001b[91m                 ^\u001b[0m \u001b[94mimmutable borrow occurs here\u001b[0m",
      "    println!(\"The first element is: {}\", first);",
      "\u001b[91m                                         ^^^^^\u001b[0m \u001b[94mimmutable borrow later used here\u001b[0m",
      "cannot borrow `v` as mutable because it is also borrowed as immutable"
     ]
    }
   ],
   "source": [
    "fn f(){\n",
    "    let mut v = vec![1, 2, 3, 4, 5];\n",
    "\n",
    "    let first = &v[0];\n",
    "    v.push(6);\n",
    "    println!(\"The first element is: {}\", first);\n",
    "}\n",
    "f()\n",
    "\n",
    "/*\n",
    "为什么第一个元素的引用会关心 vector 结尾的变化？不能这么做的原因是由于 vector 的工作方式：\n",
    "在 vector 的结尾增加新元素时，在没有足够空间将所有所有元素依次相邻存放的情况下，\n",
    "可能会要求分配新内存并将老的元素拷贝到新的空间中。这时，第一个元素的引用就指向了被释放的内存。\n",
    "借用规则阻止程序陷入这种状况。\n",
    "*/"
   ]
  },
  {
   "cell_type": "code",
   "execution_count": 13,
   "metadata": {
    "ExecuteTime": {
     "end_time": "2020-08-24T20:07:19.410359Z",
     "start_time": "2020-08-24T20:07:17.148Z"
    }
   },
   "outputs": [
    {
     "name": "stdout",
     "output_type": "stream",
     "text": [
      "100\n",
      "32\n",
      "57\n"
     ]
    },
    {
     "data": {
      "text/plain": [
       "()"
      ]
     },
     "execution_count": 13,
     "metadata": {},
     "output_type": "execute_result"
    }
   ],
   "source": [
    "// 遍历 vector 中的元素\n",
    "let v = vec![100, 32, 57];\n",
    "for i in &v {\n",
    "    println!(\"{}\", i);\n",
    "}"
   ]
  },
  {
   "cell_type": "code",
   "execution_count": 14,
   "metadata": {
    "ExecuteTime": {
     "end_time": "2020-08-24T20:07:50.312929Z",
     "start_time": "2020-08-24T20:07:48.376Z"
    }
   },
   "outputs": [
    {
     "data": {
      "text/plain": [
       "[150, 82, 107]"
      ]
     },
     "execution_count": 14,
     "metadata": {},
     "output_type": "execute_result"
    }
   ],
   "source": [
    "// 也可以遍历可变 vector 的每一个元素的可变引用以便能改变他们\n",
    "let mut v = vec![100, 32, 57];\n",
    "for i in &mut v {\n",
    "    *i += 50;\n",
    "}\n",
    "v"
   ]
  },
  {
   "cell_type": "code",
   "execution_count": 15,
   "metadata": {
    "ExecuteTime": {
     "end_time": "2020-08-24T20:09:12.677097Z",
     "start_time": "2020-08-24T20:09:11.035Z"
    }
   },
   "outputs": [],
   "source": [
    "// 使用枚举来储存多种类型\n",
    "\n",
    "enum SpreadsheetCell {\n",
    "    Int(i32),\n",
    "    Float(f64),\n",
    "    Text(String),\n",
    "}\n",
    "\n",
    "let row = vec![\n",
    "    SpreadsheetCell::Int(3),\n",
    "    SpreadsheetCell::Text(String::from(\"blue\")),\n",
    "    SpreadsheetCell::Float(10.12),\n",
    "];"
   ]
  },
  {
   "cell_type": "code",
   "execution_count": 16,
   "metadata": {
    "ExecuteTime": {
     "end_time": "2020-08-24T20:27:44.593391Z",
     "start_time": "2020-08-24T20:27:42.383Z"
    }
   },
   "outputs": [
    {
     "data": {
      "text/plain": [
       "{\"Blue\": 10, \"Yellow\": 50}"
      ]
     },
     "execution_count": 16,
     "metadata": {},
     "output_type": "execute_result"
    }
   ],
   "source": [
    "// 新建一个哈希 map\n",
    "use std::collections::HashMap;\n",
    "\n",
    "let mut scores = HashMap::new();\n",
    "\n",
    "scores.insert(String::from(\"Blue\"), 10);\n",
    "scores.insert(String::from(\"Yellow\"), 50);\n",
    "\n",
    "scores"
   ]
  },
  {
   "cell_type": "code",
   "execution_count": 16,
   "metadata": {
    "ExecuteTime": {
     "end_time": "2020-08-24T20:39:56.821070Z",
     "start_time": "2020-08-24T20:39:54.695Z"
    }
   },
   "outputs": [
    {
     "name": "stdout",
     "output_type": "stream",
     "text": [
      "{\"Yellow\": 50, \"Blue\": 10}\n"
     ]
    },
    {
     "data": {
      "text/plain": [
       "()"
      ]
     },
     "execution_count": 16,
     "metadata": {},
     "output_type": "execute_result"
    }
   ],
   "source": [
    "use std::collections::HashMap;\n",
    "// fn f() -> HashMap<String, i32>{\n",
    "fn f() {\n",
    "    // 使用 zip 方法来创建一个元组的 vector\n",
    "    let teams  = vec![String::from(\"Blue\"), String::from(\"Yellow\")];\n",
    "    let initial_scores = vec![10, 50];\n",
    "\n",
    "    let scores: HashMap<_, _> = teams.iter().zip(initial_scores.iter()).collect();\n",
    "\n",
    "    println!(\"{:?}\", scores);\n",
    "}\n",
    "f()"
   ]
  },
  {
   "cell_type": "code",
   "execution_count": 7,
   "metadata": {
    "ExecuteTime": {
     "end_time": "2020-08-24T20:34:34.210859Z",
     "start_time": "2020-08-24T20:34:32.232Z"
    }
   },
   "outputs": [
    {
     "data": {
      "text/plain": [
       "{\"Favorite color\": \"Blue\"}"
      ]
     },
     "execution_count": 7,
     "metadata": {},
     "output_type": "execute_result"
    }
   ],
   "source": [
    "use std::collections::HashMap;\n",
    "\n",
    "let field_name = String::from(\"Favorite color\");\n",
    "let field_value = String::from(\"Blue\");\n",
    "\n",
    "let mut map = HashMap::new();\n",
    "map.insert(field_name, field_value);\n",
    "// 这里 field_name 和 field_value 不再有效，\n",
    "// 尝试使用它们看看会出现什么编译错误！\n",
    "\n",
    "map"
   ]
  },
  {
   "cell_type": "markdown",
   "metadata": {},
   "source": [
    "当 insert 调用将 field_name 和 field_value 移动到哈希 map 中后，将不能使用这两个绑定。\n",
    "\n",
    "如果将值的引用插入哈希 map，这些值本身将不会被移动进哈希 map。但是这些引用指向的值必须至少在哈希 map 有效时也是有效的。"
   ]
  },
  {
   "cell_type": "code",
   "execution_count": 10,
   "metadata": {
    "ExecuteTime": {
     "end_time": "2020-08-24T20:35:57.063298Z",
     "start_time": "2020-08-24T20:35:55.015Z"
    }
   },
   "outputs": [
    {
     "data": {
      "text/plain": [
       "()"
      ]
     },
     "execution_count": 10,
     "metadata": {},
     "output_type": "execute_result"
    }
   ],
   "source": [
    "fn f(){\n",
    "    let mut scores = HashMap::new();\n",
    "\n",
    "    scores.insert(String::from(\"Blue\"), 10);\n",
    "    scores.insert(String::from(\"Yellow\"), 50);\n",
    "\n",
    "    let team_name = String::from(\"Blue\");\n",
    "    let score = scores.get(&team_name);\n",
    "}\n",
    "f()"
   ]
  },
  {
   "cell_type": "code",
   "execution_count": 11,
   "metadata": {
    "ExecuteTime": {
     "end_time": "2020-08-24T20:36:23.869460Z",
     "start_time": "2020-08-24T20:36:22.301Z"
    }
   },
   "outputs": [
    {
     "name": "stdout",
     "output_type": "stream",
     "text": [
      "Yellow: 50\n",
      "Blue: 10\n"
     ]
    },
    {
     "data": {
      "text/plain": [
       "()"
      ]
     },
     "execution_count": 11,
     "metadata": {},
     "output_type": "execute_result"
    }
   ],
   "source": [
    "fn f(){\n",
    "    use std::collections::HashMap;\n",
    "\n",
    "    let mut scores = HashMap::new();\n",
    "\n",
    "    scores.insert(String::from(\"Blue\"), 10);\n",
    "    scores.insert(String::from(\"Yellow\"), 50);\n",
    "\n",
    "    for (key, value) in &scores {\n",
    "        println!(\"{}: {}\", key, value);\n",
    "    }\n",
    "}\n",
    "f()"
   ]
  },
  {
   "cell_type": "code",
   "execution_count": 12,
   "metadata": {
    "ExecuteTime": {
     "end_time": "2020-08-24T20:36:54.648746Z",
     "start_time": "2020-08-24T20:36:53.213Z"
    }
   },
   "outputs": [
    {
     "name": "stdout",
     "output_type": "stream",
     "text": [
      "{\"Blue\": 25}\n"
     ]
    }
   ],
   "source": [
    "use std::collections::HashMap;\n",
    "\n",
    "let mut scores = HashMap::new();\n",
    "\n",
    "scores.insert(String::from(\"Blue\"), 10);\n",
    "scores.insert(String::from(\"Blue\"), 25);\n",
    "\n",
    "println!(\"{:?}\", scores);"
   ]
  },
  {
   "cell_type": "code",
   "execution_count": 14,
   "metadata": {
    "ExecuteTime": {
     "end_time": "2020-08-24T20:37:20.110787Z",
     "start_time": "2020-08-24T20:37:18.402Z"
    }
   },
   "outputs": [
    {
     "name": "stdout",
     "output_type": "stream",
     "text": [
      "{\"Blue\": 10, \"Yellow\": 50}\n"
     ]
    }
   ],
   "source": [
    "// 只在键没有对应值时插入\n",
    "// use std::collections::HashMap;\n",
    "\n",
    "let mut scores = HashMap::new();\n",
    "scores.insert(String::from(\"Blue\"), 10);\n",
    "\n",
    "scores.entry(String::from(\"Yellow\")).or_insert(50);\n",
    "scores.entry(String::from(\"Blue\")).or_insert(50);\n",
    "\n",
    "println!(\"{:?}\", scores);"
   ]
  },
  {
   "cell_type": "markdown",
   "metadata": {},
   "source": [
    "### 根据旧值更新一个值\n",
    "另一个常见的哈希 map 的应用场景是找到一个键对应的值并根据旧的值更新它。例如，示例 8-26 中的代码计数一些文本中每一个单词分别出现了多少次。我们使用哈希 map 以单词作为键并递增其值来记录我们遇到过几次这个单词。如果是第一次看到某个单词，就插入值 0。\n",
    "\n",
    "这会打印出 `{\"world\": 2, \"hello\": 1, \"wonderful\": 1}`，or_insert 方法事实上会返回这个键的值的一个可变引用`（&mut V）`。这里我们将这个可变引用储存在 count 变量中，所以为了赋值必须首先使用星号（*）解引用 count。这个可变引用在 for 循环的结尾离开作用域，这样所有这些改变都是安全的并符合借用规则。\n",
    "\n"
   ]
  },
  {
   "cell_type": "code",
   "execution_count": 15,
   "metadata": {
    "ExecuteTime": {
     "end_time": "2020-08-24T20:39:14.377260Z",
     "start_time": "2020-08-24T20:39:12.246Z"
    }
   },
   "outputs": [
    {
     "name": "stdout",
     "output_type": "stream",
     "text": [
      "{\"wonderful\": 1, \"hello\": 1, \"world\": 2}\n"
     ]
    }
   ],
   "source": [
    "let text = \"hello world wonderful world\";\n",
    "\n",
    "let mut map = HashMap::new();\n",
    "\n",
    "for word in text.split_whitespace() {\n",
    "    let count = map.entry(word).or_insert(0);\n",
    "    *count += 1;\n",
    "}\n",
    "\n",
    "println!(\"{:?}\", map);"
   ]
  },
  {
   "cell_type": "markdown",
   "metadata": {},
   "source": [
    "### 哈希函数\n",
    "HashMap 默认使用一种 “密码学安全的”（“cryptographically strong” ）siphash 哈希函数，它可以抵抗拒绝服务（Denial of Service, DoS）攻击。然而这并不是可用的最快的算法，不过为了更高的安全性值得付出一些性能的代价。如果性能监测显示此哈希函数非常慢，以致于你无法接受，你可以指定一个不同的 hasher 来切换为其它函数。hasher 是一个实现了 BuildHasher trait 的类型。第十章会讨论 trait 和如何实现它们。你并不需要从头开始实现你自己的 hasher；crates.io 有其他人分享的实现了许多常用哈希算法的 hasher 的库。"
   ]
  }
 ],
 "metadata": {
  "kernelspec": {
   "display_name": "Rust",
   "language": "rust",
   "name": "rust"
  },
  "language_info": {
   "codemirror_mode": "rust",
   "file_extension": ".rs",
   "mimetype": "text/rust",
   "name": "Rust",
   "pygment_lexer": "rust",
   "version": ""
  },
  "varInspector": {
   "cols": {
    "lenName": 16,
    "lenType": 16,
    "lenVar": 40
   },
   "kernels_config": {
    "python": {
     "delete_cmd_postfix": "",
     "delete_cmd_prefix": "del ",
     "library": "var_list.py",
     "varRefreshCmd": "print(var_dic_list())"
    },
    "r": {
     "delete_cmd_postfix": ") ",
     "delete_cmd_prefix": "rm(",
     "library": "var_list.r",
     "varRefreshCmd": "cat(var_dic_list()) "
    }
   },
   "types_to_exclude": [
    "module",
    "function",
    "builtin_function_or_method",
    "instance",
    "_Feature"
   ],
   "window_display": false
  }
 },
 "nbformat": 4,
 "nbformat_minor": 4
}
