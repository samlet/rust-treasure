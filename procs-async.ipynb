{
 "cells": [
  {
   "cell_type": "code",
   "execution_count": 2,
   "metadata": {
    "ExecuteTime": {
     "end_time": "2020-08-25T18:31:18.137115Z",
     "start_time": "2020-08-25T18:29:28.572Z"
    }
   },
   "outputs": [],
   "source": [
    ":dep futures = \"0.3\""
   ]
  },
  {
   "cell_type": "code",
   "execution_count": 3,
   "metadata": {
    "ExecuteTime": {
     "end_time": "2020-08-25T18:32:39.896209Z",
     "start_time": "2020-08-25T18:32:38.292Z"
    }
   },
   "outputs": [
    {
     "name": "stdout",
     "output_type": "stream",
     "text": [
      "hello, world!\n"
     ]
    },
    {
     "data": {
      "text/plain": [
       "()"
      ]
     },
     "execution_count": 3,
     "metadata": {},
     "output_type": "execute_result"
    }
   ],
   "source": [
    "// `block_on` blocks the current thread until the provided future has run to\n",
    "// completion. Other executors provide more complex behavior, like scheduling\n",
    "// multiple futures onto the same thread.\n",
    "use futures::executor::block_on;\n",
    "\n",
    "async fn hello_world() {\n",
    "    println!(\"hello, world!\");\n",
    "}\n",
    "\n",
    "fn main() {\n",
    "    let future = hello_world(); // Nothing is printed\n",
    "    block_on(future); // `future` is run and \"hello, world!\" is printed\n",
    "}\n",
    "main()"
   ]
  },
  {
   "cell_type": "markdown",
   "metadata": {
    "ExecuteTime": {
     "end_time": "2020-08-25T18:33:21.541008Z",
     "start_time": "2020-08-25T18:33:20.687Z"
    }
   },
   "source": [
    "```rust\n",
    "async fn learn_song() -> Song { /* ... */ }\n",
    "async fn sing_song(song: Song) { /* ... */ }\n",
    "async fn dance() { /* ... */ }\n",
    "```\n",
    "```rust\n",
    "async fn learn_and_sing() {\n",
    "    // Wait until the song has been learned before singing it.\n",
    "    // We use `.await` here rather than `block_on` to prevent blocking the\n",
    "    // thread, which makes it possible to `dance` at the same time.\n",
    "    let song = learn_song().await;\n",
    "    sing_song(song).await;\n",
    "}\n",
    "\n",
    "async fn async_main() {\n",
    "    let f1 = learn_and_sing();\n",
    "    let f2 = dance();\n",
    "\n",
    "    // `join!` is like `.await` but can wait for multiple futures concurrently.\n",
    "    // If we're temporarily blocked in the `learn_and_sing` future, the `dance`\n",
    "    // future will take over the current thread. If `dance` becomes blocked,\n",
    "    // `learn_and_sing` can take back over. If both futures are blocked, then\n",
    "    // `async_main` is blocked and will yield to the executor.\n",
    "    futures::join!(f1, f2);\n",
    "}\n",
    "\n",
    "fn main() {\n",
    "    block_on(async_main());\n",
    "}\n",
    "\n",
    "main()\n",
    "```"
   ]
  }
 ],
 "metadata": {
  "kernelspec": {
   "display_name": "Rust",
   "language": "rust",
   "name": "rust"
  },
  "language_info": {
   "codemirror_mode": "rust",
   "file_extension": ".rs",
   "mimetype": "text/rust",
   "name": "Rust",
   "pygment_lexer": "rust",
   "version": ""
  },
  "varInspector": {
   "cols": {
    "lenName": 16,
    "lenType": 16,
    "lenVar": 40
   },
   "kernels_config": {
    "python": {
     "delete_cmd_postfix": "",
     "delete_cmd_prefix": "del ",
     "library": "var_list.py",
     "varRefreshCmd": "print(var_dic_list())"
    },
    "r": {
     "delete_cmd_postfix": ") ",
     "delete_cmd_prefix": "rm(",
     "library": "var_list.r",
     "varRefreshCmd": "cat(var_dic_list()) "
    }
   },
   "types_to_exclude": [
    "module",
    "function",
    "builtin_function_or_method",
    "instance",
    "_Feature"
   ],
   "window_display": false
  }
 },
 "nbformat": 4,
 "nbformat_minor": 4
}
