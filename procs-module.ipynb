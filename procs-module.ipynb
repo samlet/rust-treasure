{
 "cells": [
  {
   "cell_type": "code",
   "execution_count": 6,
   "metadata": {
    "ExecuteTime": {
     "end_time": "2020-08-24T19:34:58.278743Z",
     "start_time": "2020-08-24T19:34:57.167Z"
    }
   },
   "outputs": [
    {
     "data": {
      "text/plain": [
       "()"
      ]
     },
     "execution_count": 6,
     "metadata": {},
     "output_type": "execute_result"
    }
   ],
   "source": [
    "mod back_of_house {  \n",
    "    pub enum Appetizer {\n",
    "        Soup,\n",
    "        Salad,\n",
    "    }\n",
    "}\n",
    "\n",
    "pub fn eat_at_restaurant() {\n",
    "    let order1 = back_of_house::Appetizer::Soup;\n",
    "    let order2 = back_of_house::Appetizer::Salad;\n",
    "    \n",
    "    // println!(\"{}, {}\", order1, order2)\n",
    "}\n",
    "\n",
    "eat_at_restaurant()"
   ]
  },
  {
   "cell_type": "code",
   "execution_count": 7,
   "metadata": {
    "ExecuteTime": {
     "end_time": "2020-08-24T19:36:58.400631Z",
     "start_time": "2020-08-24T19:36:52.410Z"
    }
   },
   "outputs": [
    {
     "data": {
      "text/plain": [
       "\"AQIDBA==\""
      ]
     },
     "execution_count": 7,
     "metadata": {},
     "output_type": "execute_result"
    }
   ],
   "source": [
    ":dep base64 = \"0.10.1\"\n",
    "base64::encode(&vec![1, 2, 3, 4])"
   ]
  },
  {
   "cell_type": "code",
   "execution_count": 8,
   "metadata": {
    "ExecuteTime": {
     "end_time": "2020-08-24T19:46:18.965595Z",
     "start_time": "2020-08-24T19:46:17.946Z"
    }
   },
   "outputs": [],
   "source": [
    "// 使用 use 关键字将名称引入作用域\n",
    "\n",
    "mod front_of_house {\n",
    "    pub mod hosting {\n",
    "        pub fn add_to_waitlist() {}\n",
    "    }\n",
    "}\n",
    "\n",
    "use crate::front_of_house::hosting;\n",
    "\n",
    "pub fn eat_at_restaurant() {\n",
    "    hosting::add_to_waitlist();\n",
    "    hosting::add_to_waitlist();\n",
    "    hosting::add_to_waitlist();\n",
    "}"
   ]
  },
  {
   "cell_type": "code",
   "execution_count": 2,
   "metadata": {
    "ExecuteTime": {
     "end_time": "2020-08-24T19:47:40.726030Z",
     "start_time": "2020-08-24T19:47:40.213Z"
    }
   },
   "outputs": [],
   "source": [
    "// 使用 use 和相对路径来将一个项引入作用域\n",
    "mod front_of_house {\n",
    "    pub mod hosting {\n",
    "        pub fn add_to_waitlist() {}\n",
    "    }\n",
    "}\n",
    "\n",
    "use front_of_house::hosting;\n",
    "\n",
    "pub fn eat_at_restaurant() {\n",
    "    hosting::add_to_waitlist();\n",
    "    hosting::add_to_waitlist();\n",
    "    hosting::add_to_waitlist();\n",
    "}"
   ]
  },
  {
   "cell_type": "code",
   "execution_count": 3,
   "metadata": {
    "ExecuteTime": {
     "end_time": "2020-08-24T19:48:31.649891Z",
     "start_time": "2020-08-24T19:48:31.118Z"
    }
   },
   "outputs": [],
   "source": [
    "use crate::front_of_house::hosting::add_to_waitlist;\n",
    "\n",
    "pub fn eat_at_restaurant() {\n",
    "    add_to_waitlist();\n",
    "    add_to_waitlist();\n",
    "    add_to_waitlist();\n",
    "}\n",
    "// 使用 use 将函数的父模块引入作用域，我们必须在调用函数时指定父模块，\n",
    "// 这样可以清晰地表明函数不是在本地定义的，同时使完整路径的重复度最小化"
   ]
  },
  {
   "cell_type": "code",
   "execution_count": 4,
   "metadata": {
    "ExecuteTime": {
     "end_time": "2020-08-24T19:49:12.431895Z",
     "start_time": "2020-08-24T19:49:10.650Z"
    }
   },
   "outputs": [
    {
     "data": {
      "text/plain": [
       "()"
      ]
     },
     "execution_count": 4,
     "metadata": {},
     "output_type": "execute_result"
    }
   ],
   "source": [
    "use std::collections::HashMap;\n",
    "\n",
    "fn main() {\n",
    "    let mut map = HashMap::new();\n",
    "    map.insert(1, 2);\n",
    "}\n",
    "main()"
   ]
  },
  {
   "cell_type": "code",
   "execution_count": 6,
   "metadata": {
    "ExecuteTime": {
     "end_time": "2020-08-24T19:50:29.275193Z",
     "start_time": "2020-08-24T19:50:28.544Z"
    }
   },
   "outputs": [],
   "source": [
    "// 如何将两个具有相同名称但不同父模块的 Result 类型引入作用域，以及如何引用它们。\n",
    "use std::fmt;\n",
    "use std::io;\n",
    "\n",
    "fn function1() -> fmt::Result {\n",
    "    // --snip--\n",
    "    Ok(())\n",
    "}\n",
    "\n",
    "fn function2() -> io::Result<()> {\n",
    "    // --snip--\n",
    "    Ok(())\n",
    "}"
   ]
  },
  {
   "cell_type": "code",
   "execution_count": 7,
   "metadata": {
    "ExecuteTime": {
     "end_time": "2020-08-24T19:50:57.855120Z",
     "start_time": "2020-08-24T19:50:57.359Z"
    }
   },
   "outputs": [],
   "source": [
    "use std::fmt::Result;\n",
    "// 使用 as 关键字提供新的名称\n",
    "use std::io::Result as IoResult;\n",
    "\n",
    "fn function1() -> Result {\n",
    "    // --snip--\n",
    "     Ok(())\n",
    "}\n",
    "\n",
    "fn function2() -> IoResult<()> {\n",
    "    // --snip--\n",
    "     Ok(())\n",
    "}"
   ]
  },
  {
   "cell_type": "markdown",
   "metadata": {},
   "source": [
    "### pub use 重导出名称\n",
    "当使用 use 关键字将名称导入作用域时，在新作用域中可用的名称是私有的。如果为了让调用你编写的代码的代码能够像在自己的作用域内引用这些类型，可以结合 pub 和 use。这个技术被称为 “重导出（re-exporting）”，因为这样做将项引入作用域并同时使其可供其他代码引入自己的作用域。\n",
    "\n"
   ]
  },
  {
   "cell_type": "code",
   "execution_count": 2,
   "metadata": {
    "ExecuteTime": {
     "end_time": "2020-08-24T19:52:39.847069Z",
     "start_time": "2020-08-24T19:52:39.351Z"
    }
   },
   "outputs": [],
   "source": [
    "mod front_of_house {\n",
    "    pub mod hosting {\n",
    "        pub fn add_to_waitlist() {}\n",
    "    }\n",
    "}\n",
    "\n",
    "pub use crate::front_of_house::hosting;\n",
    "\n",
    "pub fn eat_at_restaurant() {\n",
    "    hosting::add_to_waitlist();\n",
    "    hosting::add_to_waitlist();\n",
    "    hosting::add_to_waitlist();\n",
    "}"
   ]
  },
  {
   "cell_type": "code",
   "execution_count": 4,
   "metadata": {
    "ExecuteTime": {
     "end_time": "2020-08-24T19:53:40.822699Z",
     "start_time": "2020-08-24T19:53:34.510Z"
    }
   },
   "outputs": [],
   "source": [
    ":dep rand = \"0.5.5\""
   ]
  },
  {
   "cell_type": "code",
   "execution_count": 7,
   "metadata": {
    "ExecuteTime": {
     "end_time": "2020-08-24T19:54:06.092412Z",
     "start_time": "2020-08-24T19:54:05.083Z"
    }
   },
   "outputs": [
    {
     "name": "stdout",
     "output_type": "stream",
     "text": [
      "40\n"
     ]
    },
    {
     "data": {
      "text/plain": [
       "()"
      ]
     },
     "execution_count": 7,
     "metadata": {},
     "output_type": "execute_result"
    }
   ],
   "source": [
    "use rand::Rng;\n",
    "\n",
    "fn main() {\n",
    "    let secret_number = rand::thread_rng().gen_range(1, 101);\n",
    "    println!(\"{}\", secret_number);\n",
    "}\n",
    "main()"
   ]
  },
  {
   "cell_type": "code",
   "execution_count": 8,
   "metadata": {
    "ExecuteTime": {
     "end_time": "2020-08-24T19:54:37.321875Z",
     "start_time": "2020-08-24T19:54:36.724Z"
    }
   },
   "outputs": [],
   "source": [
    "use std::{cmp::Ordering, io};\n"
   ]
  },
  {
   "cell_type": "code",
   "execution_count": 2,
   "metadata": {
    "ExecuteTime": {
     "end_time": "2020-08-24T19:55:19.612896Z",
     "start_time": "2020-08-24T19:55:19.089Z"
    }
   },
   "outputs": [],
   "source": [
    "// use std::io;\n",
    "// use std::io::Write;\n",
    "use std::io::{self, Write};\n"
   ]
  },
  {
   "cell_type": "code",
   "execution_count": 3,
   "metadata": {
    "ExecuteTime": {
     "end_time": "2020-08-24T19:55:31.798630Z",
     "start_time": "2020-08-24T19:55:31.283Z"
    }
   },
   "outputs": [],
   "source": [
    "// 如果希望将一个路径下 所有 公有项引入作用域，可以指定路径后跟 *，glob 运算符：\n",
    "\n",
    "use std::collections::*;"
   ]
  }
 ],
 "metadata": {
  "kernelspec": {
   "display_name": "Rust",
   "language": "rust",
   "name": "rust"
  },
  "language_info": {
   "codemirror_mode": "rust",
   "file_extension": ".rs",
   "mimetype": "text/rust",
   "name": "Rust",
   "pygment_lexer": "rust",
   "version": ""
  },
  "varInspector": {
   "cols": {
    "lenName": 16,
    "lenType": 16,
    "lenVar": 40
   },
   "kernels_config": {
    "python": {
     "delete_cmd_postfix": "",
     "delete_cmd_prefix": "del ",
     "library": "var_list.py",
     "varRefreshCmd": "print(var_dic_list())"
    },
    "r": {
     "delete_cmd_postfix": ") ",
     "delete_cmd_prefix": "rm(",
     "library": "var_list.r",
     "varRefreshCmd": "cat(var_dic_list()) "
    }
   },
   "types_to_exclude": [
    "module",
    "function",
    "builtin_function_or_method",
    "instance",
    "_Feature"
   ],
   "window_display": false
  }
 },
 "nbformat": 4,
 "nbformat_minor": 4
}
