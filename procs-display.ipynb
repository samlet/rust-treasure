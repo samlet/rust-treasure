{
 "cells": [
  {
   "cell_type": "code",
   "execution_count": 2,
   "metadata": {
    "ExecuteTime": {
     "end_time": "2020-08-25T00:09:02.834854Z",
     "start_time": "2020-08-25T00:09:02.316Z"
    }
   },
   "outputs": [],
   "source": [
    "// ⊕ [Display - Rust By Example](https://doc.rust-lang.org/stable/rust-by-example/hello/print/print_display.html)\n",
    "\n",
    "// Import (via `use`) the `fmt` module to make it available.\n",
    "use std::fmt;\n",
    "\n",
    "// Define a structure for which `fmt::Display` will be implemented. This is\n",
    "// a tuple struct named `Structure` that contains an `i32`.\n",
    "struct Structure(i32);\n",
    "\n",
    "// To use the `{}` marker, the trait `fmt::Display` must be implemented\n",
    "// manually for the type.\n",
    "impl fmt::Display for Structure {\n",
    "    // This trait requires `fmt` with this exact signature.\n",
    "    fn fmt(&self, f: &mut fmt::Formatter) -> fmt::Result {\n",
    "        // Write strictly the first element into the supplied output\n",
    "        // stream: `f`. Returns `fmt::Result` which indicates whether the\n",
    "        // operation succeeded or failed. Note that `write!` uses syntax which\n",
    "        // is very similar to `println!`.\n",
    "        write!(f, \"{}\", self.0)\n",
    "    }\n",
    "}"
   ]
  },
  {
   "cell_type": "code",
   "execution_count": 4,
   "metadata": {
    "ExecuteTime": {
     "end_time": "2020-08-25T00:09:33.765359Z",
     "start_time": "2020-08-25T00:09:32.658Z"
    }
   },
   "outputs": [
    {
     "name": "stdout",
     "output_type": "stream",
     "text": [
      "Compare structures:\n",
      "Display: (0, 14)\n",
      "Debug: MinMax(0, 14)\n",
      "The big range is (-300, 300) and the small is (-3, 3)\n",
      "Compare points:\n",
      "Display: x: 3.3, y: 7.2\n",
      "Debug: Point2D { x: 3.3, y: 7.2 }\n"
     ]
    },
    {
     "data": {
      "text/plain": [
       "()"
      ]
     },
     "execution_count": 4,
     "metadata": {},
     "output_type": "execute_result"
    }
   ],
   "source": [
    "// use std::fmt; // Import `fmt`\n",
    "\n",
    "// A structure holding two numbers. `Debug` will be derived so the results can\n",
    "// be contrasted with `Display`.\n",
    "#[derive(Debug)]\n",
    "struct MinMax(i64, i64);\n",
    "\n",
    "// Implement `Display` for `MinMax`.\n",
    "impl fmt::Display for MinMax {\n",
    "    fn fmt(&self, f: &mut fmt::Formatter) -> fmt::Result {\n",
    "        // Use `self.number` to refer to each positional data point.\n",
    "        write!(f, \"({}, {})\", self.0, self.1)\n",
    "    }\n",
    "}\n",
    "\n",
    "// Define a structure where the fields are nameable for comparison.\n",
    "#[derive(Debug)]\n",
    "struct Point2D {\n",
    "    x: f64,\n",
    "    y: f64,\n",
    "}\n",
    "\n",
    "// Similarly, implement `Display` for `Point2D`\n",
    "impl fmt::Display for Point2D {\n",
    "    fn fmt(&self, f: &mut fmt::Formatter) -> fmt::Result {\n",
    "        // Customize so only `x` and `y` are denoted.\n",
    "        write!(f, \"x: {}, y: {}\", self.x, self.y)\n",
    "    }\n",
    "}\n",
    "\n",
    "fn main() {\n",
    "    let minmax = MinMax(0, 14);\n",
    "\n",
    "    println!(\"Compare structures:\");\n",
    "    println!(\"Display: {}\", minmax);\n",
    "    println!(\"Debug: {:?}\", minmax);\n",
    "\n",
    "    let big_range =   MinMax(-300, 300);\n",
    "    let small_range = MinMax(-3, 3);\n",
    "\n",
    "    println!(\"The big range is {big} and the small is {small}\",\n",
    "             small = small_range,\n",
    "             big = big_range);\n",
    "\n",
    "    let point = Point2D { x: 3.3, y: 7.2 };\n",
    "\n",
    "    println!(\"Compare points:\");\n",
    "    println!(\"Display: {}\", point);\n",
    "    println!(\"Debug: {:?}\", point);\n",
    "\n",
    "    // Error. Both `Debug` and `Display` were implemented, but `{:b}`\n",
    "    // requires `fmt::Binary` to be implemented. This will not work.\n",
    "    // println!(\"What does Point2D look like in binary: {:b}?\", point);\n",
    "}\n",
    "\n",
    "main()"
   ]
  }
 ],
 "metadata": {
  "kernelspec": {
   "display_name": "Rust",
   "language": "rust",
   "name": "rust"
  },
  "language_info": {
   "codemirror_mode": "rust",
   "file_extension": ".rs",
   "mimetype": "text/rust",
   "name": "Rust",
   "pygment_lexer": "rust",
   "version": ""
  },
  "varInspector": {
   "cols": {
    "lenName": 16,
    "lenType": 16,
    "lenVar": 40
   },
   "kernels_config": {
    "python": {
     "delete_cmd_postfix": "",
     "delete_cmd_prefix": "del ",
     "library": "var_list.py",
     "varRefreshCmd": "print(var_dic_list())"
    },
    "r": {
     "delete_cmd_postfix": ") ",
     "delete_cmd_prefix": "rm(",
     "library": "var_list.r",
     "varRefreshCmd": "cat(var_dic_list()) "
    }
   },
   "types_to_exclude": [
    "module",
    "function",
    "builtin_function_or_method",
    "instance",
    "_Feature"
   ],
   "window_display": false
  }
 },
 "nbformat": 4,
 "nbformat_minor": 4
}
