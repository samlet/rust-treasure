{
 "cells": [
  {
   "cell_type": "code",
   "execution_count": 3,
   "metadata": {
    "ExecuteTime": {
     "end_time": "2020-08-24T08:53:39.667930Z",
     "start_time": "2020-08-24T08:53:38.178Z"
    }
   },
   "outputs": [
    {
     "data": {
      "text/plain": [
       "(V4, V6)"
      ]
     },
     "execution_count": 3,
     "metadata": {},
     "output_type": "execute_result"
    }
   ],
   "source": [
    "#[derive(Debug)]\n",
    "enum IpAddrKind {\n",
    "    V4,\n",
    "    V6,\n",
    "}\n",
    "\n",
    "let four = IpAddrKind::V4;\n",
    "let six = IpAddrKind::V6;\n",
    "\n",
    "(four, six)"
   ]
  },
  {
   "cell_type": "code",
   "execution_count": 5,
   "metadata": {
    "ExecuteTime": {
     "end_time": "2020-08-24T10:16:21.983755Z",
     "start_time": "2020-08-24T10:16:21.513Z"
    }
   },
   "outputs": [],
   "source": [
    "fn route(ip_type: IpAddrKind) { }\n",
    "route(IpAddrKind::V4);\n",
    "route(IpAddrKind::V6);"
   ]
  },
  {
   "cell_type": "code",
   "execution_count": 6,
   "metadata": {
    "ExecuteTime": {
     "end_time": "2020-08-24T10:16:40.358101Z",
     "start_time": "2020-08-24T10:16:38.982Z"
    }
   },
   "outputs": [],
   "source": [
    "struct IpAddr {\n",
    "    kind: IpAddrKind,\n",
    "    address: String,\n",
    "}\n",
    "\n",
    "let home = IpAddr {\n",
    "    kind: IpAddrKind::V4,\n",
    "    address: String::from(\"127.0.0.1\"),\n",
    "};\n",
    "\n",
    "let loopback = IpAddr {\n",
    "    kind: IpAddrKind::V6,\n",
    "    address: String::from(\"::1\"),\n",
    "};"
   ]
  },
  {
   "cell_type": "markdown",
   "metadata": {},
   "source": [
    "我们可以使用一种更简洁的方式来表达相同的概念，仅仅使用枚举并将数据直接放进每一个枚举成员而不是将枚举作为结构体的一部分。IpAddr 枚举的新定义表明了 V4 和 V6 成员都关联了 String 值："
   ]
  },
  {
   "cell_type": "code",
   "execution_count": 9,
   "metadata": {
    "ExecuteTime": {
     "end_time": "2020-08-24T10:17:49.742269Z",
     "start_time": "2020-08-24T10:17:48.207Z"
    }
   },
   "outputs": [
    {
     "data": {
      "text/plain": [
       "V6(\"::1\")"
      ]
     },
     "execution_count": 9,
     "metadata": {},
     "output_type": "execute_result"
    }
   ],
   "source": [
    "#[derive(Debug)]\n",
    "enum IpAddr {\n",
    "    V4(String),\n",
    "    V6(String),\n",
    "}\n",
    "\n",
    "let home = IpAddr::V4(String::from(\"127.0.0.1\"));\n",
    "let loopback = IpAddr::V6(String::from(\"::1\"));\n",
    "loopback"
   ]
  },
  {
   "cell_type": "markdown",
   "metadata": {},
   "source": [
    "用枚举替代结构体还有另一个优势：每个成员可以处理不同类型和数量的数据。IPv4 版本的 IP 地址总是含有四个值在 0 和 255 之间的数字部分。如果我们想要将 V4 地址存储为四个 u8 值而 V6 地址仍然表现为一个 String，这就不能使用结构体了。枚举则可以轻易处理的这个情况：\n",
    "\n"
   ]
  },
  {
   "cell_type": "code",
   "execution_count": 10,
   "metadata": {
    "ExecuteTime": {
     "end_time": "2020-08-24T10:18:39.075468Z",
     "start_time": "2020-08-24T10:18:36.864Z"
    }
   },
   "outputs": [
    {
     "name": "stderr",
     "output_type": "stream",
     "text": [
      "The type of the variable home was redefined, so was lost.\n",
      "The type of the variable loopback was redefined, so was lost.\n"
     ]
    },
    {
     "data": {
      "text/plain": [
       "V4(127, 0, 0, 1)"
      ]
     },
     "execution_count": 10,
     "metadata": {},
     "output_type": "execute_result"
    }
   ],
   "source": [
    "#[derive(Debug)]\n",
    "enum IpAddr {\n",
    "    V4(u8, u8, u8, u8),\n",
    "    V6(String),\n",
    "}\n",
    "\n",
    "let home = IpAddr::V4(127, 0, 0, 1);\n",
    "let loopback = IpAddr::V6(String::from(\"::1\"));\n",
    "home"
   ]
  },
  {
   "cell_type": "code",
   "execution_count": 2,
   "metadata": {
    "ExecuteTime": {
     "end_time": "2020-08-24T10:20:10.879123Z",
     "start_time": "2020-08-24T10:20:09.567Z"
    }
   },
   "outputs": [],
   "source": [
    "// https://doc.rust-lang.org/std/net/enum.IpAddr.html\n",
    "use std::net::{IpAddr, Ipv4Addr, Ipv6Addr};\n",
    "\n",
    "let localhost_v4 = IpAddr::V4(Ipv4Addr::new(127, 0, 0, 1));\n",
    "let localhost_v6 = IpAddr::V6(Ipv6Addr::new(0, 0, 0, 0, 0, 0, 0, 1));\n",
    "\n",
    "assert_eq!(\"127.0.0.1\".parse(), Ok(localhost_v4));\n",
    "assert_eq!(\"::1\".parse(), Ok(localhost_v6));\n",
    "\n",
    "assert_eq!(localhost_v4.is_ipv6(), false);\n",
    "assert_eq!(localhost_v4.is_ipv4(), true);"
   ]
  },
  {
   "cell_type": "code",
   "execution_count": 7,
   "metadata": {
    "ExecuteTime": {
     "end_time": "2020-08-24T10:22:03.708657Z",
     "start_time": "2020-08-24T10:22:01.951Z"
    }
   },
   "outputs": [
    {
     "data": {
      "text/plain": [
       "V4(127.0.0.1)"
      ]
     },
     "execution_count": 7,
     "metadata": {},
     "output_type": "execute_result"
    }
   ],
   "source": [
    "#[derive(Debug)]\n",
    "enum IpAddrEnum {\n",
    "    V4(Ipv4Addr),\n",
    "    V6(Ipv6Addr),\n",
    "}\n",
    "let localhost_v4 = IpAddrEnum::V4(Ipv4Addr::new(127, 0, 0, 1));\n",
    "localhost_v4"
   ]
  },
  {
   "cell_type": "code",
   "execution_count": 9,
   "metadata": {
    "ExecuteTime": {
     "end_time": "2020-08-24T18:56:13.903785Z",
     "start_time": "2020-08-24T18:56:13.340Z"
    }
   },
   "outputs": [],
   "source": [
    "// 一个枚举的例子：它的成员中内嵌了多种多样的类型：\n",
    "\n",
    "enum Message {\n",
    "    Quit,\n",
    "    Move { x: i32, y: i32 },\n",
    "    Write(String),\n",
    "    ChangeColor(i32, i32, i32),\n",
    "}"
   ]
  },
  {
   "cell_type": "code",
   "execution_count": 8,
   "metadata": {
    "ExecuteTime": {
     "end_time": "2020-08-24T18:56:11.228289Z",
     "start_time": "2020-08-24T18:56:09.066Z"
    }
   },
   "outputs": [],
   "source": [
    "// 如下这些结构体可以包含与之前枚举成员中相同的数据：\n",
    "\n",
    "struct QuitMessage; // 类单元结构体\n",
    "struct MoveMessage {\n",
    "    x: i32,\n",
    "    y: i32,\n",
    "}\n",
    "struct WriteMessage(String); // 元组结构体\n",
    "struct ChangeColorMessage(i32, i32, i32); // 元组结构体"
   ]
  },
  {
   "cell_type": "code",
   "execution_count": 10,
   "metadata": {
    "ExecuteTime": {
     "end_time": "2020-08-24T18:56:53.433330Z",
     "start_time": "2020-08-24T18:56:51.763Z"
    }
   },
   "outputs": [],
   "source": [
    "// 结构体和枚举还有另一个相似点：就像可以使用 impl 来为结构体定义方法那样，也可以在枚举上定义方法。\n",
    "// 这是一个定义于我们 Message 枚举上的叫做 call 的方法：\n",
    "impl Message {\n",
    "    fn call(&self) {\n",
    "        // 在这里定义方法体\n",
    "    }\n",
    "}\n",
    "\n",
    "let m = Message::Write(String::from(\"hello\"));\n",
    "m.call();"
   ]
  },
  {
   "cell_type": "code",
   "execution_count": 12,
   "metadata": {
    "ExecuteTime": {
     "end_time": "2020-08-24T18:58:44.222430Z",
     "start_time": "2020-08-24T18:58:42.944Z"
    }
   },
   "outputs": [],
   "source": [
    "// <T> 意味着 Option 枚举的 Some 成员可以包含任意类型的数据\n",
    "let some_number = Some(5);\n",
    "let some_string = Some(\"a string\");\n",
    "\n",
    "let absent_number: Option<i32> = None;"
   ]
  },
  {
   "cell_type": "code",
   "execution_count": null,
   "metadata": {},
   "outputs": [],
   "source": []
  }
 ],
 "metadata": {
  "kernelspec": {
   "display_name": "Rust",
   "language": "rust",
   "name": "rust"
  },
  "language_info": {
   "codemirror_mode": "rust",
   "file_extension": ".rs",
   "mimetype": "text/rust",
   "name": "Rust",
   "pygment_lexer": "rust",
   "version": ""
  },
  "varInspector": {
   "cols": {
    "lenName": 16,
    "lenType": 16,
    "lenVar": 40
   },
   "kernels_config": {
    "python": {
     "delete_cmd_postfix": "",
     "delete_cmd_prefix": "del ",
     "library": "var_list.py",
     "varRefreshCmd": "print(var_dic_list())"
    },
    "r": {
     "delete_cmd_postfix": ") ",
     "delete_cmd_prefix": "rm(",
     "library": "var_list.r",
     "varRefreshCmd": "cat(var_dic_list()) "
    }
   },
   "types_to_exclude": [
    "module",
    "function",
    "builtin_function_or_method",
    "instance",
    "_Feature"
   ],
   "window_display": false
  }
 },
 "nbformat": 4,
 "nbformat_minor": 4
}
