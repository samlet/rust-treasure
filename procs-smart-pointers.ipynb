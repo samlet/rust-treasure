{
 "cells": [
  {
   "cell_type": "markdown",
   "metadata": {},
   "source": [
    "标准库中最常用的一些：\n",
    "\n",
    "- Box<T>，用于在堆上分配值\n",
    "- Rc<T>，一个引用计数类型，其数据可以有多个所有者\n",
    "- Ref<T> 和 RefMut<T>，通过 RefCell<T> 访问，一个在运行时而不是在编译时执行借用规则的类型。"
   ]
  },
  {
   "cell_type": "code",
   "execution_count": 2,
   "metadata": {
    "ExecuteTime": {
     "end_time": "2020-08-25T18:13:40.266040Z",
     "start_time": "2020-08-25T18:13:38.762Z"
    }
   },
   "outputs": [
    {
     "name": "stdout",
     "output_type": "stream",
     "text": [
      "b = 5\n"
     ]
    },
    {
     "data": {
      "text/plain": [
       "()"
      ]
     },
     "execution_count": 2,
     "metadata": {},
     "output_type": "execute_result"
    }
   ],
   "source": [
    "// 使用 Box<T> 在堆上储存数据\n",
    "fn main() {\n",
    "    let b = Box::new(5);\n",
    "    println!(\"b = {}\", b);\n",
    "}\n",
    "main()"
   ]
  },
  {
   "cell_type": "code",
   "execution_count": 3,
   "metadata": {
    "ExecuteTime": {
     "end_time": "2020-08-25T18:28:46.003154Z",
     "start_time": "2020-08-25T18:28:44.712Z"
    }
   },
   "outputs": [],
   "source": [
    "async fn do_something() { /* ... */ }\n"
   ]
  },
  {
   "cell_type": "markdown",
   "metadata": {},
   "source": [
    "## Box 允许创建递归类型\n",
    "Rust 需要在编译时知道类型占用多少空间。一种无法在编译时知道大小的类型是 递归类型（recursive type），其值的一部分可以是相同类型的另一个值。这种值的嵌套理论上可以无限的进行下去，所以 Rust 不知道递归类型需要多少空间。不过 box 有一个已知的大小，所以通过在循环类型定义中插入 box，就可以创建递归类型了。\n",
    "\n",
    "让我们探索一下 cons list，一个函数式编程语言中的常见类型，来展示这个（递归类型）概念。除了递归之外，我们将要定义的 cons list 类型是很直白的，所以这个例子中的概念，在任何遇到更为复杂的涉及到递归类型的场景时都很实用。"
   ]
  },
  {
   "cell_type": "code",
   "execution_count": 5,
   "metadata": {
    "ExecuteTime": {
     "end_time": "2020-08-26T09:34:37.277707Z",
     "start_time": "2020-08-26T09:34:36.175Z"
    }
   },
   "outputs": [],
   "source": [
    "enum Message {\n",
    "    Quit,\n",
    "    Move { x: i32, y: i32 },\n",
    "    Write(String),\n",
    "    ChangeColor(i32, i32, i32),\n",
    "}"
   ]
  },
  {
   "cell_type": "code",
   "execution_count": 7,
   "metadata": {
    "ExecuteTime": {
     "end_time": "2020-08-26T09:36:20.854283Z",
     "start_time": "2020-08-26T09:36:19.855Z"
    }
   },
   "outputs": [
    {
     "data": {
      "text/plain": [
       "()"
      ]
     },
     "execution_count": 7,
     "metadata": {},
     "output_type": "execute_result"
    }
   ],
   "source": [
    "// List 值最多需要一个 i32 加上 box 指针数据的大小\n",
    "// box 只提供了间接存储和堆分配；他们并没有任何其他特殊的功能\n",
    "enum List {    \n",
    "    Cons(i32, Box<List>),\n",
    "    Nil,\n",
    "}\n",
    "\n",
    "use crate::List::{Cons, Nil};\n",
    "\n",
    "fn main() {\n",
    "    let list = Cons(1,\n",
    "        Box::new(Cons(2,\n",
    "            Box::new(Cons(3,\n",
    "                Box::new(Nil))))));\n",
    "}\n",
    "\n",
    "main()"
   ]
  },
  {
   "cell_type": "code",
   "execution_count": 10,
   "metadata": {
    "ExecuteTime": {
     "end_time": "2020-08-26T09:37:21.114907Z",
     "start_time": "2020-08-26T09:37:20.087Z"
    }
   },
   "outputs": [
    {
     "data": {
      "text/plain": [
       "()"
      ]
     },
     "execution_count": 10,
     "metadata": {},
     "output_type": "execute_result"
    }
   ],
   "source": [
    "// 通过解引用运算符追踪指针的值\n",
    "fn main() {\n",
    "    let x = 5;\n",
    "    let y = &x;\n",
    "\n",
    "    assert_eq!(5, x);\n",
    "    // 如果尝试编写 assert_eq!(5, y);，则会得到编译错误\n",
    "    // 不允许比较数字的引用与数字，因为它们是不同的类型。必须使用解引用运算符追踪引用所指向的值。\n",
    "    assert_eq!(5, *y);\n",
    "}\n",
    "main()"
   ]
  },
  {
   "cell_type": "code",
   "execution_count": 11,
   "metadata": {
    "ExecuteTime": {
     "end_time": "2020-08-26T09:38:15.436537Z",
     "start_time": "2020-08-26T09:38:14.516Z"
    }
   },
   "outputs": [
    {
     "data": {
      "text/plain": [
       "()"
      ]
     },
     "execution_count": 11,
     "metadata": {},
     "output_type": "execute_result"
    }
   ],
   "source": [
    "// 像引用一样使用 Box<T>\n",
    "fn main() {\n",
    "    let x = 5;\n",
    "    let y = Box::new(x);\n",
    "\n",
    "    assert_eq!(5, x);\n",
    "    assert_eq!(5, *y);\n",
    "}\n",
    "main()"
   ]
  },
  {
   "cell_type": "code",
   "execution_count": 14,
   "metadata": {
    "ExecuteTime": {
     "end_time": "2020-08-26T09:40:53.012021Z",
     "start_time": "2020-08-26T09:40:52.323Z"
    }
   },
   "outputs": [],
   "source": [
    "use std::ops::Deref;\n",
    "\n",
    "// 自定义智能指针\n",
    "struct MyBox<T>(T);\n",
    "\n",
    "impl<T> MyBox<T> {\n",
    "    fn new(x: T) -> MyBox<T> {\n",
    "        MyBox(x)\n",
    "    }\n",
    "}\n",
    "\n",
    "// 通过实现 Deref trait 将某类型像引用一样处理\n",
    "impl<T> Deref for MyBox<T> {\n",
    "    type Target = T;\n",
    "\n",
    "    // deref 方法体中写入了 &self.0，这样 deref 返回了我希望通过 * 运算符访问的值的引用\n",
    "    // 输入 *y 时，Rust 事实上在底层运行了如下代码：*(y.deref())\n",
    "    fn deref(&self) -> &T {\n",
    "        &self.0\n",
    "    }\n",
    "}"
   ]
  },
  {
   "cell_type": "code",
   "execution_count": 15,
   "metadata": {
    "ExecuteTime": {
     "end_time": "2020-08-26T09:41:48.369337Z",
     "start_time": "2020-08-26T09:41:47.209Z"
    }
   },
   "outputs": [
    {
     "data": {
      "text/plain": [
       "()"
      ]
     },
     "execution_count": 15,
     "metadata": {},
     "output_type": "execute_result"
    }
   ],
   "source": [
    "fn main() {\n",
    "    let x = 5;\n",
    "    let y = MyBox::new(x);\n",
    "\n",
    "    assert_eq!(5, x);\n",
    "    assert_eq!(5, *y);\n",
    "}\n",
    "main()"
   ]
  },
  {
   "cell_type": "markdown",
   "metadata": {},
   "source": [
    "## 函数和方法的隐式解引用强制多态\n",
    "解引用强制多态（deref coercions）是 Rust 在函数或方法传参上的一种便利。其将实现了 Deref 的类型的引用转换为原始类型通过 Deref 所能够转换的类型的引用。当这种特定类型的引用作为实参传递给和形参类型不同的函数或方法时，解引用强制多态将自动发生。这时会有一系列的 deref 方法被调用，把我们提供的类型转换成了参数所需的类型。\n",
    "\n",
    "解引用强制多态的加入使得 Rust 程序员编写函数和方法调用时无需增加过多显式使用 & 和 * 的引用和解引用。这个功能也使得我们可以编写更多同时作用于引用或智能指针的代码。"
   ]
  },
  {
   "cell_type": "code",
   "execution_count": 16,
   "metadata": {
    "ExecuteTime": {
     "end_time": "2020-08-26T09:43:05.618139Z",
     "start_time": "2020-08-26T09:43:04.511Z"
    }
   },
   "outputs": [
    {
     "name": "stdout",
     "output_type": "stream",
     "text": [
      "Hello, Rust!\n"
     ]
    },
    {
     "data": {
      "text/plain": [
       "()"
      ]
     },
     "execution_count": 16,
     "metadata": {},
     "output_type": "execute_result"
    }
   ],
   "source": [
    " fn hello(name: &str) {\n",
    "     println!(\"Hello, {}!\", name);\n",
    " }\n",
    "\n",
    "fn main() {\n",
    "    let m = MyBox::new(String::from(\"Rust\"));\n",
    "    // 解引用强制多态使得 Rust 自动的帮我们处理这些转换。\n",
    "    hello(&m);\n",
    "}\n",
    "main()"
   ]
  },
  {
   "cell_type": "code",
   "execution_count": 18,
   "metadata": {
    "ExecuteTime": {
     "end_time": "2020-08-26T09:45:55.377558Z",
     "start_time": "2020-08-26T09:45:54.583Z"
    }
   },
   "outputs": [
    {
     "name": "stdout",
     "output_type": "stream",
     "text": [
      "Hello, Rust!\n"
     ]
    },
    {
     "data": {
      "text/plain": [
       "()"
      ]
     },
     "execution_count": 18,
     "metadata": {},
     "output_type": "execute_result"
    }
   ],
   "source": [
    "fn main() {\n",
    "    let m = MyBox::new(String::from(\"Rust\"));\n",
    "    // 如果 Rust 没有实现解引用强制多态，为了使用 &MyBox<String> 类型的值调用 hello，则不得不编写\n",
    "    hello(&(*m)[..]);\n",
    "}\n",
    "main()"
   ]
  },
  {
   "cell_type": "markdown",
   "metadata": {},
   "source": [
    "## 解引用强制多态如何与可变性交互\n",
    "类似于如何使用 Deref trait 重载不可变引用的 * 运算符，Rust 提供了 DerefMut trait 用于重载可变引用的 * 运算符。\n",
    "\n",
    "Rust 在发现类型和 trait 实现满足三种情况时会进行解引用强制多态：\n",
    "\n",
    "- 当 T: Deref<Target=U> 时从 &T 到 &U。\n",
    "- 当 T: DerefMut<Target=U> 时从 &mut T 到 &mut U。\n",
    "- 当 T: Deref<Target=U> 时从 &mut T 到 &U。\n",
    "\n",
    "头两个情况除了可变性之外是相同的：第一种情况表明如果有一个 &T，而 T 实现了返回 U 类型的 Deref，则可以直接得到 &U。第二种情况表明对于可变引用也有着相同的行为。\n",
    "\n",
    "第三个情况有些微妙：Rust 也会将可变引用强转为不可变引用。但是反之是 不可能 的：不可变引用永远也不能强转为可变引用。因为根据借用规则，如果有一个可变引用，其必须是这些数据的唯一引用（否则程序将无法编译）。将一个可变引用转换为不可变引用永远也不会打破借用规则。将不可变引用转换为可变引用则需要数据只能有一个不可变引用，而借用规则无法保证这一点。因此，Rust 无法假设将不可变引用转换为可变引用是可能的。"
   ]
  },
  {
   "cell_type": "code",
   "execution_count": null,
   "metadata": {},
   "outputs": [],
   "source": []
  }
 ],
 "metadata": {
  "kernelspec": {
   "display_name": "Rust",
   "language": "rust",
   "name": "rust"
  },
  "language_info": {
   "codemirror_mode": "rust",
   "file_extension": ".rs",
   "mimetype": "text/rust",
   "name": "Rust",
   "pygment_lexer": "rust",
   "version": ""
  },
  "varInspector": {
   "cols": {
    "lenName": 16,
    "lenType": 16,
    "lenVar": 40
   },
   "kernels_config": {
    "python": {
     "delete_cmd_postfix": "",
     "delete_cmd_prefix": "del ",
     "library": "var_list.py",
     "varRefreshCmd": "print(var_dic_list())"
    },
    "r": {
     "delete_cmd_postfix": ") ",
     "delete_cmd_prefix": "rm(",
     "library": "var_list.r",
     "varRefreshCmd": "cat(var_dic_list()) "
    }
   },
   "types_to_exclude": [
    "module",
    "function",
    "builtin_function_or_method",
    "instance",
    "_Feature"
   ],
   "window_display": false
  }
 },
 "nbformat": 4,
 "nbformat_minor": 4
}
