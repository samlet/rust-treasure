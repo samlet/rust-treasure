{
 "cells": [
  {
   "cell_type": "markdown",
   "metadata": {},
   "source": [
    "⊕ [控制流 · Rust 程序设计语言（第二版） 简体中文版](https://kaisery.gitbooks.io/trpl-zh-cn/content/ch03-05-control-flow.html)\n"
   ]
  },
  {
   "cell_type": "code",
   "execution_count": 2,
   "metadata": {
    "ExecuteTime": {
     "end_time": "2020-08-24T06:46:24.982902Z",
     "start_time": "2020-08-24T06:46:23.516Z"
    }
   },
   "outputs": [
    {
     "name": "stdout",
     "output_type": "stream",
     "text": [
      "condition was true\n"
     ]
    },
    {
     "data": {
      "text/plain": [
       "()"
      ]
     },
     "execution_count": 2,
     "metadata": {},
     "output_type": "execute_result"
    }
   ],
   "source": [
    "let number = 3;\n",
    "\n",
    "if number < 5 {\n",
    "    println!(\"condition was true\");\n",
    "} else {\n",
    "    println!(\"condition was false\");\n",
    "}"
   ]
  },
  {
   "cell_type": "code",
   "execution_count": 3,
   "metadata": {
    "ExecuteTime": {
     "end_time": "2020-08-24T07:37:14.094623Z",
     "start_time": "2020-08-24T07:37:11.983Z"
    }
   },
   "outputs": [
    {
     "name": "stdout",
     "output_type": "stream",
     "text": [
      "number was something other than zero\n"
     ]
    },
    {
     "data": {
      "text/plain": [
       "()"
      ]
     },
     "execution_count": 3,
     "metadata": {},
     "output_type": "execute_result"
    }
   ],
   "source": [
    "let number = 3;\n",
    "\n",
    "if number != 0 {\n",
    "    println!(\"number was something other than zero\");\n",
    "}"
   ]
  },
  {
   "cell_type": "code",
   "execution_count": 4,
   "metadata": {
    "ExecuteTime": {
     "end_time": "2020-08-24T07:39:31.904879Z",
     "start_time": "2020-08-24T07:39:30.845Z"
    }
   },
   "outputs": [
    {
     "name": "stdout",
     "output_type": "stream",
     "text": [
      "number is divisible by 3\n"
     ]
    },
    {
     "data": {
      "text/plain": [
       "()"
      ]
     },
     "execution_count": 4,
     "metadata": {},
     "output_type": "execute_result"
    }
   ],
   "source": [
    "if number % 4 == 0 {\n",
    "    println!(\"number is divisible by 4\");\n",
    "} else if number % 3 == 0 {\n",
    "    println!(\"number is divisible by 3\");\n",
    "} else if number % 2 == 0 {\n",
    "    println!(\"number is divisible by 2\");\n",
    "} else {\n",
    "    println!(\"number is not divisible by 4, 3, or 2\");\n",
    "}"
   ]
  },
  {
   "cell_type": "code",
   "execution_count": 5,
   "metadata": {
    "ExecuteTime": {
     "end_time": "2020-08-24T07:40:02.716685Z",
     "start_time": "2020-08-24T07:40:01.586Z"
    }
   },
   "outputs": [
    {
     "name": "stdout",
     "output_type": "stream",
     "text": [
      "The value of number is: 5\n"
     ]
    }
   ],
   "source": [
    "// 在 let 语句中使用 if\n",
    "let condition = true;\n",
    "let number = if condition {\n",
    "    5\n",
    "} else {\n",
    "    6\n",
    "};\n",
    "\n",
    "println!(\"The value of number is: {}\", number);"
   ]
  },
  {
   "cell_type": "code",
   "execution_count": 6,
   "metadata": {
    "ExecuteTime": {
     "end_time": "2020-08-24T07:41:52.272720Z",
     "start_time": "2020-08-24T07:41:50.204Z"
    }
   },
   "outputs": [
    {
     "name": "stdout",
     "output_type": "stream",
     "text": [
      "The result is 20\n"
     ]
    }
   ],
   "source": [
    "let mut counter = 0;\n",
    "\n",
    "let result = loop {\n",
    "    counter += 1;\n",
    "\n",
    "    if counter == 10 {\n",
    "        break counter * 2;\n",
    "    }\n",
    "};\n",
    "\n",
    "println!(\"The result is {}\", result);"
   ]
  },
  {
   "cell_type": "code",
   "execution_count": 7,
   "metadata": {
    "ExecuteTime": {
     "end_time": "2020-08-24T07:42:18.036659Z",
     "start_time": "2020-08-24T07:42:17.019Z"
    }
   },
   "outputs": [
    {
     "name": "stdout",
     "output_type": "stream",
     "text": [
      "3!\n",
      "2!\n",
      "1!\n",
      "LIFTOFF!!!\n"
     ]
    }
   ],
   "source": [
    "let mut number = 3;\n",
    "\n",
    "while number != 0 {\n",
    "    println!(\"{}!\", number);\n",
    "\n",
    "    number = number - 1;\n",
    "}\n",
    "\n",
    "println!(\"LIFTOFF!!!\");"
   ]
  },
  {
   "cell_type": "code",
   "execution_count": 8,
   "metadata": {
    "ExecuteTime": {
     "end_time": "2020-08-24T07:42:37.830095Z",
     "start_time": "2020-08-24T07:42:35.891Z"
    }
   },
   "outputs": [
    {
     "name": "stdout",
     "output_type": "stream",
     "text": [
      "the value is: 10\n",
      "the value is: 20\n",
      "the value is: 30\n",
      "the value is: 40\n",
      "the value is: 50\n"
     ]
    },
    {
     "data": {
      "text/plain": [
       "()"
      ]
     },
     "execution_count": 8,
     "metadata": {},
     "output_type": "execute_result"
    }
   ],
   "source": [
    "let a = [10, 20, 30, 40, 50];\n",
    "let mut index = 0;\n",
    "\n",
    "while index < 5 {\n",
    "    println!(\"the value is: {}\", a[index]);\n",
    "\n",
    "    index = index + 1;\n",
    "}"
   ]
  },
  {
   "cell_type": "code",
   "execution_count": 9,
   "metadata": {
    "ExecuteTime": {
     "end_time": "2020-08-24T07:43:05.212472Z",
     "start_time": "2020-08-24T07:43:03.815Z"
    }
   },
   "outputs": [
    {
     "name": "stdout",
     "output_type": "stream",
     "text": [
      "the value is: 10\n",
      "the value is: 20\n",
      "the value is: 30\n",
      "the value is: 40\n",
      "the value is: 50\n"
     ]
    },
    {
     "data": {
      "text/plain": [
       "()"
      ]
     },
     "execution_count": 9,
     "metadata": {},
     "output_type": "execute_result"
    }
   ],
   "source": [
    "// 可以使用 for 循环来对一个集合的每个元素执行一些代码\n",
    "let a = [10, 20, 30, 40, 50];\n",
    "\n",
    "for element in a.iter() {\n",
    "    println!(\"the value is: {}\", element);\n",
    "}"
   ]
  },
  {
   "cell_type": "code",
   "execution_count": 10,
   "metadata": {
    "ExecuteTime": {
     "end_time": "2020-08-24T07:43:48.267940Z",
     "start_time": "2020-08-24T07:43:47.214Z"
    }
   },
   "outputs": [
    {
     "name": "stdout",
     "output_type": "stream",
     "text": [
      "3!\n",
      "2!\n",
      "1!\n",
      "LIFTOFF!!!\n"
     ]
    }
   ],
   "source": [
    "// rev，用来反转 range\n",
    "for number in (1..4).rev() {\n",
    "    println!(\"{}!\", number);\n",
    "}\n",
    "println!(\"LIFTOFF!!!\");"
   ]
  },
  {
   "cell_type": "code",
   "execution_count": null,
   "metadata": {},
   "outputs": [],
   "source": []
  }
 ],
 "metadata": {
  "kernelspec": {
   "display_name": "Rust",
   "language": "rust",
   "name": "rust"
  },
  "language_info": {
   "codemirror_mode": "rust",
   "file_extension": ".rs",
   "mimetype": "text/rust",
   "name": "Rust",
   "pygment_lexer": "rust",
   "version": ""
  },
  "varInspector": {
   "cols": {
    "lenName": 16,
    "lenType": 16,
    "lenVar": 40
   },
   "kernels_config": {
    "python": {
     "delete_cmd_postfix": "",
     "delete_cmd_prefix": "del ",
     "library": "var_list.py",
     "varRefreshCmd": "print(var_dic_list())"
    },
    "r": {
     "delete_cmd_postfix": ") ",
     "delete_cmd_prefix": "rm(",
     "library": "var_list.r",
     "varRefreshCmd": "cat(var_dic_list()) "
    }
   },
   "types_to_exclude": [
    "module",
    "function",
    "builtin_function_or_method",
    "instance",
    "_Feature"
   ],
   "window_display": false
  }
 },
 "nbformat": 4,
 "nbformat_minor": 4
}
