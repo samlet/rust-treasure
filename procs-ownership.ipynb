{
 "cells": [
  {
   "cell_type": "markdown",
   "metadata": {},
   "source": [
    "⊕ [什么是所有权？ · Rust 程序设计语言（第二版） 简体中文版](https://kaisery.gitbooks.io/trpl-zh-cn/content/ch04-01-what-is-ownership.html)\n"
   ]
  },
  {
   "cell_type": "code",
   "execution_count": 2,
   "metadata": {
    "ExecuteTime": {
     "end_time": "2020-08-24T07:45:33.608532Z",
     "start_time": "2020-08-24T07:45:32.319Z"
    }
   },
   "outputs": [
    {
     "name": "stdout",
     "output_type": "stream",
     "text": [
      "hello, world!\n"
     ]
    }
   ],
   "source": [
    "let mut s = String::from(\"hello\");\n",
    "\n",
    "s.push_str(\", world!\"); // push_str() 在字符串后追加字面值\n",
    "\n",
    "println!(\"{}\", s); // 将打印 `hello, world!`"
   ]
  },
  {
   "cell_type": "code",
   "execution_count": 3,
   "metadata": {
    "ExecuteTime": {
     "end_time": "2020-08-24T07:46:29.873561Z",
     "start_time": "2020-08-24T07:46:28.088Z"
    }
   },
   "outputs": [
    {
     "name": "stdout",
     "output_type": "stream",
     "text": [
      "s1 = hello, s2 = hello\n"
     ]
    }
   ],
   "source": [
    "let s1 = String::from(\"hello\");\n",
    "let s2 = s1.clone();\n",
    "\n",
    "println!(\"s1 = {}, s2 = {}\", s1, s2);"
   ]
  },
  {
   "cell_type": "markdown",
   "metadata": {},
   "source": [
    "## Copy trait 的特殊注解\n",
    "Rust 有一个叫做 Copy trait 的特殊注解，可以用在类似整型这样的存储在栈上的类型上（第十章详细讲解 trait）。如果一个类型拥有 Copy trait，一个旧的变量在将其赋值给其他变量后仍然可用。Rust 不允许自身或其任何部分实现了 Drop trait 的类型使用 Copy trait。如果我们对其值离开作用域时需要特殊处理的类型使用 Copy 注解，将会出现一个编译时错误。要学习如何为你的类型增加 Copy 注解，请阅读附录 C 中的 “可派生的 trait”。\n",
    "\n",
    "那么什么类型是 Copy 的呢？可以查看给定类型的文档来确认，不过作为一个通用的规则，任何简单标量值的组合可以是 Copy 的，不需要分配内存或某种形式资源的类型是 Copy 的。如下是一些 Copy 的类型：\n",
    "\n",
    "- 所有整数类型，比如 u32。\n",
    "- 布尔类型，bool，它的值是 true 和 false。\n",
    "- 所有浮点数类型，比如 f64。\n",
    "- 字符类型，char。\n",
    "- 元组，当且仅当其包含的类型也都是 Copy 的时候。比如，(i32, i32) 是 Copy 的，但 (i32, String) 就不是。\n"
   ]
  },
  {
   "cell_type": "code",
   "execution_count": 4,
   "metadata": {
    "ExecuteTime": {
     "end_time": "2020-08-24T07:46:40.225075Z",
     "start_time": "2020-08-24T07:46:39.093Z"
    }
   },
   "outputs": [
    {
     "name": "stdout",
     "output_type": "stream",
     "text": [
      "x = 5, y = 5\n"
     ]
    }
   ],
   "source": [
    "let x = 5;\n",
    "let y = x;\n",
    "\n",
    "println!(\"x = {}, y = {}\", x, y);"
   ]
  },
  {
   "cell_type": "code",
   "execution_count": 5,
   "metadata": {
    "ExecuteTime": {
     "end_time": "2020-08-24T07:48:17.097387Z",
     "start_time": "2020-08-24T07:48:15.037Z"
    }
   },
   "outputs": [
    {
     "name": "stdout",
     "output_type": "stream",
     "text": [
      "hello\n",
      "5\n"
     ]
    }
   ],
   "source": [
    "fn takes_ownership(some_string: String) { // some_string 进入作用域\n",
    "    println!(\"{}\", some_string);\n",
    "} // 这里，some_string 移出作用域并调用 `drop` 方法。占用的内存被释放\n",
    "\n",
    "fn makes_copy(some_integer: i32) { // some_integer 进入作用域\n",
    "    println!(\"{}\", some_integer);\n",
    "} // 这里，some_integer 移出作用域。不会有特殊操作\n",
    "\n",
    "let s = String::from(\"hello\");  // s 进入作用域\n",
    "\n",
    "takes_ownership(s);             // s 的值移动到函数里 ...\n",
    "                                // ... 所以到这里不再有效\n",
    "\n",
    "let x = 5;                      // x 进入作用域\n",
    "\n",
    "makes_copy(x);                  // x 应该移动函数里，\n",
    "                                // 但 i32 是 Copy 的，所以在后面可继续使用 x"
   ]
  },
  {
   "cell_type": "code",
   "execution_count": 7,
   "metadata": {
    "ExecuteTime": {
     "end_time": "2020-08-24T07:49:54.065358Z",
     "start_time": "2020-08-24T07:49:52.635Z"
    }
   },
   "outputs": [
    {
     "data": {
      "text/plain": [
       "\"hello\""
      ]
     },
     "execution_count": 7,
     "metadata": {},
     "output_type": "execute_result"
    }
   ],
   "source": [
    "// 返回值也可以转移所有权\n",
    "fn gives_ownership() -> String {             // gives_ownership 将返回值移动给\n",
    "                                             // 调用它的函数\n",
    "\n",
    "    let some_string = String::from(\"hello\"); // some_string 进入作用域.\n",
    "\n",
    "    some_string                              // 返回 some_string 并移出给调用的函数\n",
    "}\n",
    "\n",
    "// takes_and_gives_back 将传入字符串并返回该值\n",
    "fn takes_and_gives_back(a_string: String) -> String { // a_string 进入作用域\n",
    "\n",
    "    a_string  // 返回 a_string 并移出给调用的函数\n",
    "}\n",
    "\n",
    "let s1 = gives_ownership();         // gives_ownership 将返回值\n",
    "                                        // 移给 s1\n",
    "\n",
    "let s2 = String::from(\"hello\");     // s2 进入作用域\n",
    "\n",
    "let s3 = takes_and_gives_back(s2);  // s2 被移动到\n",
    "                                    // takes_and_gives_back 中, \n",
    "                                    // 它也将返回值移给 s3\n",
    "s3"
   ]
  },
  {
   "cell_type": "code",
   "execution_count": 8,
   "metadata": {
    "ExecuteTime": {
     "end_time": "2020-08-24T07:50:35.008708Z",
     "start_time": "2020-08-24T07:50:33.741Z"
    }
   },
   "outputs": [
    {
     "name": "stdout",
     "output_type": "stream",
     "text": [
      "The length of 'hello' is 5.\n"
     ]
    },
    {
     "data": {
      "text/plain": [
       "()"
      ]
     },
     "execution_count": 8,
     "metadata": {},
     "output_type": "execute_result"
    }
   ],
   "source": [
    "// 使用元组来返回多个值\n",
    "fn main() {\n",
    "    let s1 = String::from(\"hello\");\n",
    "\n",
    "    let (s2, len) = calculate_length(s1);\n",
    "\n",
    "    println!(\"The length of '{}' is {}.\", s2, len);\n",
    "}\n",
    "\n",
    "fn calculate_length(s: String) -> (String, usize) {\n",
    "    let length = s.len(); // len() 返回字符串的长度\n",
    "\n",
    "    (s, length)\n",
    "}\n",
    "\n",
    "main()"
   ]
  },
  {
   "cell_type": "code",
   "execution_count": 10,
   "metadata": {
    "ExecuteTime": {
     "end_time": "2020-08-24T07:51:56.058489Z",
     "start_time": "2020-08-24T07:51:54.801Z"
    }
   },
   "outputs": [
    {
     "name": "stdout",
     "output_type": "stream",
     "text": [
      "The length of 'hello' is 5.\n"
     ]
    },
    {
     "data": {
      "text/plain": [
       "()"
      ]
     },
     "execution_count": 10,
     "metadata": {},
     "output_type": "execute_result"
    }
   ],
   "source": [
    "fn main() {\n",
    "    let s1 = String::from(\"hello\");\n",
    "\n",
    "    let len = calculate_length(&s1);\n",
    "\n",
    "    println!(\"The length of '{}' is {}.\", s1, len);\n",
    "}\n",
    "\n",
    "// 定义并使用一个（新的）calculate_length 函数，它以一个对象的引用作为参数而不是获取值的所有权\n",
    "fn calculate_length(s: &String) -> usize {\n",
    "    s.len()\n",
    "}\n",
    "\n",
    "main()"
   ]
  },
  {
   "cell_type": "code",
   "execution_count": 12,
   "metadata": {
    "ExecuteTime": {
     "end_time": "2020-08-24T07:54:49.446831Z",
     "start_time": "2020-08-24T07:54:49.271Z"
    }
   },
   "outputs": [
    {
     "ename": "Error",
     "evalue": "cannot borrow `*some_string` as mutable, as it is behind a `&` reference",
     "output_type": "error",
     "traceback": [
      "    some_string.push_str(\", world\");",
      "\u001b[91m    ^^^^^^^^^^^\u001b[0m \u001b[94m`some_string` is a `&` reference, so the data it refers to cannot be borrowed as mutable\u001b[0m",
      "cannot borrow `*some_string` as mutable, as it is behind a `&` reference"
     ]
    }
   ],
   "source": [
    "// 尝试修改借用的值\n",
    "// 正如变量默认是不可变的，引用也一样。（默认）不允许修改引用的值。\n",
    "\n",
    "fn main() {\n",
    "    let s = String::from(\"hello\");\n",
    "\n",
    "    change(&s);\n",
    "}\n",
    "\n",
    "fn change(some_string: &String) {\n",
    "    some_string.push_str(\", world\");\n",
    "}"
   ]
  },
  {
   "cell_type": "code",
   "execution_count": 14,
   "metadata": {
    "ExecuteTime": {
     "end_time": "2020-08-24T07:55:51.858687Z",
     "start_time": "2020-08-24T07:55:51.331Z"
    }
   },
   "outputs": [],
   "source": [
    "// 必须将 s 改为 mut。然后必须创建一个可变引用 &mut s 和接受一个可变引用 some_string: &mut String\n",
    "\n",
    "fn main() {\n",
    "    let mut s = String::from(\"hello\");\n",
    "\n",
    "    change(&mut s);\n",
    "}\n",
    "\n",
    "fn change(some_string: &mut String) {\n",
    "    some_string.push_str(\", world\");\n",
    "}"
   ]
  },
  {
   "cell_type": "code",
   "execution_count": 7,
   "metadata": {
    "ExecuteTime": {
     "end_time": "2020-08-24T08:03:31.214758Z",
     "start_time": "2020-08-24T08:03:30.715Z"
    }
   },
   "outputs": [
    {
     "ename": "Error",
     "evalue": "cannot borrow `s` as mutable more than once at a time",
     "output_type": "error",
     "traceback": [
      "    let r1 = &mut s;",
      "\u001b[91m             ^^^^^^\u001b[0m \u001b[94mfirst mutable borrow occurs here\u001b[0m",
      "    let r2 = &mut s;",
      "\u001b[91m             ^^^^^^\u001b[0m \u001b[94msecond mutable borrow occurs here\u001b[0m",
      "    println!(\"{}, {}\", r1, r2);",
      "\u001b[91m                       ^^\u001b[0m \u001b[94mfirst borrow later used here\u001b[0m",
      "cannot borrow `s` as mutable more than once at a time"
     ]
    }
   ],
   "source": [
    "// 不过可变引用有一个很大的限制：在特定作用域中的特定数据有且只有一个可变引用。这些代码会失败：\n",
    "\n",
    "fn f(){\n",
    "    let mut s = String::from(\"hello\");\n",
    "\n",
    "    let r1 = &mut s;\n",
    "    let r2 = &mut s;\n",
    "\n",
    "    println!(\"{}, {}\", r1, r2);\n",
    "}\n",
    "f()"
   ]
  },
  {
   "cell_type": "markdown",
   "metadata": {},
   "source": [
    "这个限制的好处是 Rust 可以在编译时就避免数据竞争。数据竞争（data race）类似于竞态条件，它可由这三个行为造成：\n",
    "\n",
    "- 两个或更多指针同时访问同一数据。\n",
    "- 至少有一个指针被用来写入数据。\n",
    "- 没有同步数据访问的机制。\n",
    "\n",
    "数据竞争会导致未定义行为，难以在运行时追踪，并且难以诊断和修复；Rust 避免了这种情况的发生，因为它甚至不会编译存在数据竞争的代码！"
   ]
  },
  {
   "cell_type": "code",
   "execution_count": 6,
   "metadata": {
    "ExecuteTime": {
     "end_time": "2020-08-24T08:00:53.860741Z",
     "start_time": "2020-08-24T08:00:52.842Z"
    }
   },
   "outputs": [
    {
     "name": "stdout",
     "output_type": "stream",
     "text": [
      "hello\n"
     ]
    },
    {
     "data": {
      "text/plain": [
       "()"
      ]
     },
     "execution_count": 6,
     "metadata": {},
     "output_type": "execute_result"
    }
   ],
   "source": [
    "fn f(){\n",
    "    // 可以使用大括号来创建一个新的作用域，以允许拥有多个可变引用，只是不能 同时 拥有\n",
    "    let mut s = String::from(\"hello\");\n",
    "\n",
    "    {\n",
    "        let r1 = &mut s;\n",
    "\n",
    "    } // r1 在这里离开了作用域，所以我们完全可以创建一个新的引用\n",
    "\n",
    "    let r2 = &mut s;\n",
    "    println!(\"{}\", r2);\n",
    "}\n",
    "f()"
   ]
  },
  {
   "cell_type": "code",
   "execution_count": 3,
   "metadata": {
    "ExecuteTime": {
     "end_time": "2020-08-24T08:00:01.923528Z",
     "start_time": "2020-08-24T08:00:00.772Z"
    }
   },
   "outputs": [
    {
     "name": "stdout",
     "output_type": "stream",
     "text": [
      "hello and hello\n",
      "hello\n"
     ]
    },
    {
     "data": {
      "text/plain": [
       "()"
      ]
     },
     "execution_count": 3,
     "metadata": {},
     "output_type": "execute_result"
    }
   ],
   "source": [
    "fn f(){\n",
    "    let mut s = String::from(\"hello\");\n",
    "\n",
    "    let r1 = &s; // 没问题\n",
    "    let r2 = &s; // 没问题\n",
    "    println!(\"{} and {}\", r1, r2);\n",
    "    // 此位置之后 r1 和 r2 不再使用\n",
    "\n",
    "    let r3 = &mut s; // 没问题\n",
    "    println!(\"{}\", r3);\n",
    "}\n",
    "f()"
   ]
  },
  {
   "cell_type": "code",
   "execution_count": 8,
   "metadata": {
    "ExecuteTime": {
     "end_time": "2020-08-24T08:03:50.593908Z",
     "start_time": "2020-08-24T08:03:49.466Z"
    }
   },
   "outputs": [
    {
     "data": {
      "text/plain": [
       "\"hello\""
      ]
     },
     "execution_count": 8,
     "metadata": {},
     "output_type": "execute_result"
    }
   ],
   "source": [
    "fn no_dangle() -> String {\n",
    "    let s = String::from(\"hello\");\n",
    "\n",
    "    s\n",
    "}\n",
    "no_dangle()"
   ]
  },
  {
   "cell_type": "code",
   "execution_count": 10,
   "metadata": {
    "ExecuteTime": {
     "end_time": "2020-08-24T08:06:10.815517Z",
     "start_time": "2020-08-24T08:06:09.224Z"
    }
   },
   "outputs": [
    {
     "data": {
      "text/plain": [
       "5"
      ]
     },
     "execution_count": 10,
     "metadata": {},
     "output_type": "execute_result"
    }
   ],
   "source": [
    "fn first_word(s: &String) -> usize {\n",
    "    let bytes = s.as_bytes();\n",
    "    // enumerate 返回的元组中，第一个元素是索引，第二个元素是集合中元素的引用\n",
    "    for (i, &item) in bytes.iter().enumerate() {\n",
    "        if item == b' ' {\n",
    "            return i;\n",
    "        }\n",
    "    }\n",
    "\n",
    "    s.len()\n",
    "}\n",
    "\n",
    "let mut s = String::from(\"hello world\");\n",
    "\n",
    "let word = first_word(&s); // word 的值为 5\n",
    "\n",
    "s.clear(); // 这清空了字符串，使其等于 \"\"\n",
    "word"
   ]
  },
  {
   "cell_type": "code",
   "execution_count": 15,
   "metadata": {
    "ExecuteTime": {
     "end_time": "2020-08-24T08:07:41.189112Z",
     "start_time": "2020-08-24T08:07:40.204Z"
    }
   },
   "outputs": [
    {
     "name": "stdout",
     "output_type": "stream",
     "text": [
      "hello - world\n"
     ]
    },
    {
     "data": {
      "text/plain": [
       "()"
      ]
     },
     "execution_count": 15,
     "metadata": {},
     "output_type": "execute_result"
    }
   ],
   "source": [
    "// 字符串 slice（string slice）是 String 中一部分值的引用，它看起来像这样：\n",
    "fn f(){\n",
    "    let s = String::from(\"hello world\");\n",
    "\n",
    "    let hello = &s[0..5];\n",
    "    let world = &s[6..11];\n",
    "    println!(\"{} - {}\", hello, world);\n",
    "}\n",
    "f()"
   ]
  },
  {
   "cell_type": "code",
   "execution_count": 17,
   "metadata": {
    "ExecuteTime": {
     "end_time": "2020-08-24T08:09:40.304779Z",
     "start_time": "2020-08-24T08:09:38.782Z"
    }
   },
   "outputs": [
    {
     "data": {
      "text/plain": [
       "()"
      ]
     },
     "execution_count": 17,
     "metadata": {},
     "output_type": "execute_result"
    }
   ],
   "source": [
    "fn fref(){\n",
    "    let s = String::from(\"hello\");\n",
    "\n",
    "    let slice = &s[0..2];\n",
    "    let slice = &s[..2];\n",
    "    \n",
    "    // 如果 slice 包含 String 的最后一个字节，也可以舍弃尾部的数字。这意味着如下也是相同的\n",
    "    let s = String::from(\"hello\");\n",
    "\n",
    "    let len = s.len();\n",
    "\n",
    "    let slice = &s[3..len];\n",
    "    let slice = &s[3..];\n",
    "    \n",
    "    // 也可以同时舍弃这两个值来获取整个字符串的 slice。所以如下亦是相同的：\n",
    "\n",
    "    let s = String::from(\"hello\");\n",
    "\n",
    "    let len = s.len();\n",
    "\n",
    "    let slice = &s[0..len];\n",
    "    let slice = &s[..];\n",
    "}\n",
    "\n",
    "fref()"
   ]
  },
  {
   "cell_type": "code",
   "execution_count": 20,
   "metadata": {
    "ExecuteTime": {
     "end_time": "2020-08-24T08:11:42.564637Z",
     "start_time": "2020-08-24T08:11:41.208Z"
    }
   },
   "outputs": [
    {
     "name": "stdout",
     "output_type": "stream",
     "text": [
      "the first word is: hello\n"
     ]
    },
    {
     "data": {
      "text/plain": [
       "()"
      ]
     },
     "execution_count": 20,
     "metadata": {},
     "output_type": "execute_result"
    }
   ],
   "source": [
    "fn first_word(s: &String) -> &str {\n",
    "    let bytes = s.as_bytes();\n",
    "\n",
    "    for (i, &item) in bytes.iter().enumerate() {\n",
    "        if item == b' ' {\n",
    "            return &s[0..i];\n",
    "        }\n",
    "    }\n",
    "\n",
    "    &s[..]\n",
    "}\n",
    "\n",
    "fn main() {\n",
    "    let mut s = String::from(\"hello world\");\n",
    "\n",
    "    let word = first_word(&s);\n",
    "\n",
    "    // 借用规则，当拥有某值的不可变引用时，就不能再获取一个可变引用。\n",
    "    // 因为 clear 需要清空 String，它尝试获取一个可变引用。Rust不允许这样做，因而编译失败\n",
    "    // s.clear(); // 错误!\n",
    "\n",
    "    println!(\"the first word is: {}\", word);\n",
    "}\n",
    "\n",
    "main()"
   ]
  },
  {
   "cell_type": "code",
   "execution_count": 21,
   "metadata": {
    "ExecuteTime": {
     "end_time": "2020-08-24T08:13:47.295006Z",
     "start_time": "2020-08-24T08:13:45.815Z"
    }
   },
   "outputs": [
    {
     "data": {
      "text/plain": [
       "\"Hello, world!\""
      ]
     },
     "execution_count": 21,
     "metadata": {},
     "output_type": "execute_result"
    }
   ],
   "source": [
    "// 这里 s 的类型是 &str：它是一个指向二进制程序特定位置的 slice。这也就是为什么字符串字面值是不可变的；\n",
    "// &str 是一个不可变引用。\n",
    "let s = \"Hello, world!\";\n",
    "s"
   ]
  },
  {
   "cell_type": "code",
   "execution_count": 24,
   "metadata": {
    "ExecuteTime": {
     "end_time": "2020-08-24T08:15:26.905204Z",
     "start_time": "2020-08-24T08:15:25.890Z"
    }
   },
   "outputs": [
    {
     "data": {
      "text/plain": [
       "()"
      ]
     },
     "execution_count": 24,
     "metadata": {},
     "output_type": "execute_result"
    }
   ],
   "source": [
    "fn first_word(s: &str) -> &str {\n",
    "    let bytes = s.as_bytes();\n",
    "\n",
    "    for (i, &item) in bytes.iter().enumerate() {\n",
    "        if item == b' ' {\n",
    "            return &s[0..i];\n",
    "        }\n",
    "    }\n",
    "\n",
    "    &s[..]\n",
    "}\n",
    "fn main() {\n",
    "    let my_string = String::from(\"hello world\");\n",
    "\n",
    "    // first_word 中传入 `String` 的 slice\n",
    "    let word = first_word(&my_string[..]);\n",
    "\n",
    "    let my_string_literal = \"hello world\";\n",
    "\n",
    "    // first_word 中传入字符串字面值的 slice\n",
    "    let word = first_word(&my_string_literal[..]);\n",
    "\n",
    "    // 因为字符串字面值 **就是** 字符串 slice，\n",
    "    // 这样写也可以，即不使用 slice 语法！\n",
    "    let word = first_word(my_string_literal);\n",
    "}\n",
    "main()"
   ]
  },
  {
   "cell_type": "code",
   "execution_count": 30,
   "metadata": {
    "ExecuteTime": {
     "end_time": "2020-08-24T08:19:24.906971Z",
     "start_time": "2020-08-24T08:19:23.496Z"
    }
   },
   "outputs": [
    {
     "name": "stdout",
     "output_type": "stream",
     "text": [
      "2\n",
      "3\n"
     ]
    },
    {
     "data": {
      "text/plain": [
       "()"
      ]
     },
     "execution_count": 30,
     "metadata": {},
     "output_type": "execute_result"
    }
   ],
   "source": [
    "fn f(){\n",
    "    let a = [1, 2, 3, 4, 5];\n",
    "\n",
    "    let slice = &a[1..3];\n",
    "    for s in slice.iter(){\n",
    "        println!(\"{}\", s);\n",
    "    }\n",
    "}\n",
    "f()"
   ]
  },
  {
   "cell_type": "code",
   "execution_count": null,
   "metadata": {},
   "outputs": [],
   "source": []
  }
 ],
 "metadata": {
  "kernelspec": {
   "display_name": "Rust",
   "language": "rust",
   "name": "rust"
  },
  "language_info": {
   "codemirror_mode": "rust",
   "file_extension": ".rs",
   "mimetype": "text/rust",
   "name": "Rust",
   "pygment_lexer": "rust",
   "version": ""
  },
  "varInspector": {
   "cols": {
    "lenName": 16,
    "lenType": 16,
    "lenVar": 40
   },
   "kernels_config": {
    "python": {
     "delete_cmd_postfix": "",
     "delete_cmd_prefix": "del ",
     "library": "var_list.py",
     "varRefreshCmd": "print(var_dic_list())"
    },
    "r": {
     "delete_cmd_postfix": ") ",
     "delete_cmd_prefix": "rm(",
     "library": "var_list.r",
     "varRefreshCmd": "cat(var_dic_list()) "
    }
   },
   "types_to_exclude": [
    "module",
    "function",
    "builtin_function_or_method",
    "instance",
    "_Feature"
   ],
   "window_display": false
  }
 },
 "nbformat": 4,
 "nbformat_minor": 4
}
