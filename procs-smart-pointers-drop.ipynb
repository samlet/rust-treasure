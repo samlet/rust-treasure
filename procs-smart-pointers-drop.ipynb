{
 "cells": [
  {
   "cell_type": "markdown",
   "metadata": {},
   "source": [
    "对于智能指针模式来说第二个重要的 trait 是 **Drop**，其允许我们在值要离开作用域时执行一些代码。可以为任何类型提供 Drop trait 的实现，同时所指定的代码被用于释放类似于文件或网络连接的资源。我们在智能指针上下文中讨论 Drop 是因为其功能几乎总是用于实现智能指针。例如，Box<T> 自定义了 Drop 用来释放 box 所指向的堆空间。\n",
    "\n"
   ]
  },
  {
   "cell_type": "code",
   "execution_count": 2,
   "metadata": {
    "ExecuteTime": {
     "end_time": "2020-08-26T10:35:09.542747Z",
     "start_time": "2020-08-26T10:35:07.749Z"
    }
   },
   "outputs": [
    {
     "name": "stdout",
     "output_type": "stream",
     "text": [
      "CustomSmartPointers created.\n",
      "Dropping CustomSmartPointer with data `other stuff`!\n",
      "Dropping CustomSmartPointer with data `my stuff`!\n"
     ]
    },
    {
     "data": {
      "text/plain": [
       "()"
      ]
     },
     "execution_count": 2,
     "metadata": {},
     "output_type": "execute_result"
    }
   ],
   "source": [
    "// 展示了唯一定制功能就是当其实例离开作用域时，打印出 Dropping CustomSmartPointer! 的结构体 CustomSmartPointer。这会演示 Rust 何时运行 drop 函数：\n",
    "struct CustomSmartPointer {\n",
    "    data: String,\n",
    "}\n",
    "\n",
    "impl Drop for CustomSmartPointer {\n",
    "    fn drop(&mut self) {\n",
    "        println!(\"Dropping CustomSmartPointer with data `{}`!\", self.data);\n",
    "    }\n",
    "}\n",
    "\n",
    "fn main() {\n",
    "    let c = CustomSmartPointer { data: String::from(\"my stuff\") };\n",
    "    let d = CustomSmartPointer { data: String::from(\"other stuff\") };\n",
    "    println!(\"CustomSmartPointers created.\");\n",
    "}\n",
    "\n",
    "main()"
   ]
  },
  {
   "cell_type": "code",
   "execution_count": 3,
   "metadata": {
    "ExecuteTime": {
     "end_time": "2020-08-26T10:37:14.784092Z",
     "start_time": "2020-08-26T10:37:13.835Z"
    }
   },
   "outputs": [
    {
     "ename": "Error",
     "evalue": "explicit use of destructor method",
     "output_type": "error",
     "traceback": [
      "    c.drop();",
      "\u001b[91m      ^^^^\u001b[0m \u001b[94mexplicit destructor calls not allowed\u001b[0m",
      "explicit use of destructor method"
     ]
    }
   ],
   "source": [
    "// 通过 std::mem::drop 提早丢弃值\n",
    "fn main() {\n",
    "    let c = CustomSmartPointer { data: String::from(\"some data\") };\n",
    "    println!(\"CustomSmartPointer created.\");\n",
    "    c.drop();\n",
    "    println!(\"CustomSmartPointer dropped before the end of main.\");\n",
    "}\n",
    "main()"
   ]
  },
  {
   "cell_type": "markdown",
   "metadata": {},
   "source": [
    "错误信息表明不允许显式调用 drop。错误信息使用了术语 析构函数（destructor），这是一个清理实例的函数的通用编程概念。析构函数 对应创建实例的 构造函数。Rust 中的 drop 函数就是这么一个析构函数。\n",
    "\n",
    "Rust 不允许我们显式调用 drop 因为 Rust 仍然会在 main 的结尾对值自动调用 drop，这会导致一个 double free 错误，因为 Rust 会尝试清理相同的值两次。\n",
    "\n",
    "因为不能禁用当值离开作用域时自动插入的 drop，并且不能显式调用 drop，如果我们需要强制提早清理值，可以使用 std::mem::drop 函数。\n",
    "\n"
   ]
  },
  {
   "cell_type": "code",
   "execution_count": 4,
   "metadata": {
    "ExecuteTime": {
     "end_time": "2020-08-26T10:38:35.283906Z",
     "start_time": "2020-08-26T10:38:34.132Z"
    }
   },
   "outputs": [
    {
     "name": "stdout",
     "output_type": "stream",
     "text": [
      "CustomSmartPointer created.\n",
      "Dropping CustomSmartPointer with data `some data`!\n",
      "CustomSmartPointer dropped before the end of main.\n"
     ]
    },
    {
     "data": {
      "text/plain": [
       "()"
      ]
     },
     "execution_count": 4,
     "metadata": {},
     "output_type": "execute_result"
    }
   ],
   "source": [
    "// std::mem::drop 位于 prelude\n",
    "fn main() {\n",
    "    let c = CustomSmartPointer { data: String::from(\"some data\") };\n",
    "    println!(\"CustomSmartPointer created.\");\n",
    "    drop(c);\n",
    "    println!(\"CustomSmartPointer dropped before the end of main.\");\n",
    "}\n",
    "main()"
   ]
  }
 ],
 "metadata": {
  "kernelspec": {
   "display_name": "Rust",
   "language": "rust",
   "name": "rust"
  },
  "language_info": {
   "codemirror_mode": "rust",
   "file_extension": ".rs",
   "mimetype": "text/rust",
   "name": "Rust",
   "pygment_lexer": "rust",
   "version": ""
  },
  "varInspector": {
   "cols": {
    "lenName": 16,
    "lenType": 16,
    "lenVar": 40
   },
   "kernels_config": {
    "python": {
     "delete_cmd_postfix": "",
     "delete_cmd_prefix": "del ",
     "library": "var_list.py",
     "varRefreshCmd": "print(var_dic_list())"
    },
    "r": {
     "delete_cmd_postfix": ") ",
     "delete_cmd_prefix": "rm(",
     "library": "var_list.r",
     "varRefreshCmd": "cat(var_dic_list()) "
    }
   },
   "types_to_exclude": [
    "module",
    "function",
    "builtin_function_or_method",
    "instance",
    "_Feature"
   ],
   "window_display": false
  }
 },
 "nbformat": 4,
 "nbformat_minor": 4
}
