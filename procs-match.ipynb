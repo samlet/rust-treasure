{
 "cells": [
  {
   "cell_type": "code",
   "execution_count": 2,
   "metadata": {
    "ExecuteTime": {
     "end_time": "2020-08-24T19:00:21.389386Z",
     "start_time": "2020-08-24T19:00:20.881Z"
    }
   },
   "outputs": [],
   "source": [
    "enum Coin {\n",
    "    Penny,\n",
    "    Nickel,\n",
    "    Dime,\n",
    "    Quarter,\n",
    "}\n",
    "\n",
    "fn value_in_cents(coin: Coin) -> u8 {\n",
    "    match coin {\n",
    "        Coin::Penny => 1,\n",
    "        Coin::Nickel => 5,\n",
    "        Coin::Dime => 10,\n",
    "        Coin::Quarter => 25,\n",
    "    }\n",
    "}"
   ]
  },
  {
   "cell_type": "code",
   "execution_count": 3,
   "metadata": {
    "ExecuteTime": {
     "end_time": "2020-08-24T19:00:49.981869Z",
     "start_time": "2020-08-24T19:00:49.262Z"
    }
   },
   "outputs": [],
   "source": [
    "fn value_in_cents(coin: Coin) -> u8 {\n",
    "    match coin {\n",
    "        Coin::Penny => {\n",
    "            println!(\"Lucky penny!\");\n",
    "            1\n",
    "        },\n",
    "        Coin::Nickel => 5,\n",
    "        Coin::Dime => 10,\n",
    "        Coin::Quarter => 25,\n",
    "    }\n",
    "}"
   ]
  },
  {
   "cell_type": "code",
   "execution_count": 5,
   "metadata": {
    "ExecuteTime": {
     "end_time": "2020-08-24T19:02:37.255476Z",
     "start_time": "2020-08-24T19:02:35.832Z"
    }
   },
   "outputs": [
    {
     "name": "stdout",
     "output_type": "stream",
     "text": [
      "State quarter from Alaska!\n"
     ]
    },
    {
     "data": {
      "text/plain": [
       "25"
      ]
     },
     "execution_count": 5,
     "metadata": {},
     "output_type": "execute_result"
    }
   ],
   "source": [
    " #[derive(Debug)]\n",
    " enum UsState {\n",
    "    Alabama,\n",
    "    Alaska,\n",
    " }\n",
    "\n",
    " enum Coin {\n",
    "    Penny,\n",
    "    Nickel,\n",
    "    Dime,\n",
    "    Quarter(UsState),\n",
    " }\n",
    "\n",
    "fn value_in_cents(coin: Coin) -> u8 {\n",
    "    match coin {\n",
    "        Coin::Penny => 1,\n",
    "        Coin::Nickel => 5,\n",
    "        Coin::Dime => 10,\n",
    "        Coin::Quarter(state) => {\n",
    "            println!(\"State quarter from {:?}!\", state);\n",
    "            25\n",
    "        },\n",
    "    }\n",
    "}\n",
    "\n",
    "value_in_cents(Coin::Quarter(UsState::Alaska))"
   ]
  },
  {
   "cell_type": "code",
   "execution_count": 6,
   "metadata": {
    "ExecuteTime": {
     "end_time": "2020-08-24T19:03:15.218702Z",
     "start_time": "2020-08-24T19:03:13.738Z"
    }
   },
   "outputs": [
    {
     "data": {
      "text/plain": [
       "None"
      ]
     },
     "execution_count": 6,
     "metadata": {},
     "output_type": "execute_result"
    }
   ],
   "source": [
    "// 匹配 Option<T>\n",
    "fn plus_one(x: Option<i32>) -> Option<i32> {\n",
    "    match x {\n",
    "        None => None,\n",
    "        Some(i) => Some(i + 1),\n",
    "    }\n",
    "}\n",
    "\n",
    "let five = Some(5);\n",
    "let six = plus_one(five);\n",
    "let none = plus_one(None);\n",
    "none"
   ]
  },
  {
   "cell_type": "code",
   "execution_count": 7,
   "metadata": {
    "ExecuteTime": {
     "end_time": "2020-08-24T19:03:55.510327Z",
     "start_time": "2020-08-24T19:03:53.874Z"
    }
   },
   "outputs": [
    {
     "data": {
      "text/plain": [
       "()"
      ]
     },
     "execution_count": 7,
     "metadata": {},
     "output_type": "execute_result"
    }
   ],
   "source": [
    "// _ 通配符\n",
    "let some_u8_value = 0u8;\n",
    "match some_u8_value {\n",
    "    1 => println!(\"one\"),\n",
    "    3 => println!(\"three\"),\n",
    "    5 => println!(\"five\"),\n",
    "    7 => println!(\"seven\"),\n",
    "    _ => (),\n",
    "}"
   ]
  },
  {
   "cell_type": "code",
   "execution_count": 9,
   "metadata": {
    "ExecuteTime": {
     "end_time": "2020-08-24T19:05:10.658634Z",
     "start_time": "2020-08-24T19:05:09.219Z"
    }
   },
   "outputs": [
    {
     "data": {
      "text/plain": [
       "()"
      ]
     },
     "execution_count": 9,
     "metadata": {},
     "output_type": "execute_result"
    }
   ],
   "source": [
    "// if let 语法让我们以一种不那么冗长的方式结合 if 和 let，\n",
    "// 来处理只匹配一个模式的值而忽略其他模式的情况。考虑示例 6-6 中的程序，\n",
    "// 它匹配一个 Option<u8> 值并只希望当值为 3 时执行代码：\n",
    "\n",
    "let some_u8_value = Some(0u8);\n",
    "match some_u8_value {\n",
    "    Some(3) => println!(\"three\"),\n",
    "    _ => (),\n",
    "}\n",
    "\n",
    "if let Some(3) = some_u8_value {\n",
    "    println!(\"three\");\n",
    "}"
   ]
  },
  {
   "cell_type": "code",
   "execution_count": 10,
   "metadata": {
    "ExecuteTime": {
     "end_time": "2020-08-24T19:05:57.392791Z",
     "start_time": "2020-08-24T19:05:55.627Z"
    }
   },
   "outputs": [
    {
     "data": {
      "text/plain": [
       "()"
      ]
     },
     "execution_count": 10,
     "metadata": {},
     "output_type": "execute_result"
    }
   ],
   "source": [
    "let coin = Coin::Penny;\n",
    "let mut count = 0;\n",
    "match coin {\n",
    "    Coin::Quarter(state) => println!(\"State quarter from {:?}!\", state),\n",
    "    _ => count += 1,\n",
    "}"
   ]
  },
  {
   "cell_type": "code",
   "execution_count": 12,
   "metadata": {
    "ExecuteTime": {
     "end_time": "2020-08-24T19:06:58.946065Z",
     "start_time": "2020-08-24T19:06:57.712Z"
    }
   },
   "outputs": [
    {
     "data": {
      "text/plain": [
       "1"
      ]
     },
     "execution_count": 12,
     "metadata": {},
     "output_type": "execute_result"
    }
   ],
   "source": [
    "let coin = Coin::Penny;\n",
    "let mut count = 0;\n",
    "if let Coin::Quarter(state) = coin {\n",
    "    println!(\"State quarter from {:?}!\", state);\n",
    "} else {\n",
    "    count += 1;\n",
    "}\n",
    "count"
   ]
  },
  {
   "cell_type": "code",
   "execution_count": null,
   "metadata": {},
   "outputs": [],
   "source": []
  }
 ],
 "metadata": {
  "kernelspec": {
   "display_name": "Rust",
   "language": "rust",
   "name": "rust"
  },
  "language_info": {
   "codemirror_mode": "rust",
   "file_extension": ".rs",
   "mimetype": "text/rust",
   "name": "Rust",
   "pygment_lexer": "rust",
   "version": ""
  },
  "varInspector": {
   "cols": {
    "lenName": 16,
    "lenType": 16,
    "lenVar": 40
   },
   "kernels_config": {
    "python": {
     "delete_cmd_postfix": "",
     "delete_cmd_prefix": "del ",
     "library": "var_list.py",
     "varRefreshCmd": "print(var_dic_list())"
    },
    "r": {
     "delete_cmd_postfix": ") ",
     "delete_cmd_prefix": "rm(",
     "library": "var_list.r",
     "varRefreshCmd": "cat(var_dic_list()) "
    }
   },
   "types_to_exclude": [
    "module",
    "function",
    "builtin_function_or_method",
    "instance",
    "_Feature"
   ],
   "window_display": false
  }
 },
 "nbformat": 4,
 "nbformat_minor": 4
}
