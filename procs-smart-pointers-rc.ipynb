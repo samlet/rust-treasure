{
 "cells": [
  {
   "cell_type": "code",
   "execution_count": 3,
   "metadata": {
    "ExecuteTime": {
     "end_time": "2020-08-26T10:41:04.221033Z",
     "start_time": "2020-08-26T10:41:03.759Z"
    }
   },
   "outputs": [
    {
     "ename": "Error",
     "evalue": "unused variable: `b`",
     "output_type": "error",
     "traceback": [
      "    let b = Cons(3, Box::new(a));",
      "\u001b[91m        ^\u001b[0m \u001b[94m\u001b[0m",
      "unused variable: `b`"
     ]
    },
    {
     "ename": "Error",
     "evalue": "unused variable: `c`",
     "output_type": "error",
     "traceback": [
      "    let c = Cons(4, Box::new(a));",
      "\u001b[91m        ^\u001b[0m \u001b[94m\u001b[0m",
      "unused variable: `c`"
     ]
    },
    {
     "ename": "Error",
     "evalue": "use of moved value: `a`",
     "output_type": "error",
     "traceback": [
      "    let b = Cons(3, Box::new(a));",
      "\u001b[91m                             ^\u001b[0m \u001b[94mvalue moved here\u001b[0m",
      "    let c = Cons(4, Box::new(a));",
      "\u001b[91m                             ^\u001b[0m \u001b[94mvalue used here after move\u001b[0m",
      "    let a = Cons(5,",
      "\u001b[91m        ^\u001b[0m \u001b[94mmove occurs because `a` has type `List`, which does not implement the `Copy` trait\u001b[0m",
      "use of moved value: `a`"
     ]
    }
   ],
   "source": [
    "// 不能用两个 Box<T> 的列表尝试共享第三个列表的所有权\n",
    "enum List {\n",
    "    Cons(i32, Box<List>),\n",
    "    Nil,\n",
    "}\n",
    "\n",
    "use crate::List::{Cons, Nil};\n",
    "\n",
    "fn main() {\n",
    "    let a = Cons(5,\n",
    "        Box::new(Cons(10,\n",
    "            Box::new(Nil))));\n",
    "    let b = Cons(3, Box::new(a));\n",
    "    let c = Cons(4, Box::new(a));\n",
    "}\n",
    "main()"
   ]
  },
  {
   "cell_type": "markdown",
   "metadata": {},
   "source": [
    "### 修改 List 的定义为使用 Rc<T> 代替 Box<T>\n",
    "现在每一个 Cons 变量都包含一个值和一个指向 List 的 Rc。当创建 b 时，不同于获取 a 的所有权，这里会克隆 a 所包含的 Rc，这会将引用计数从 1 增加到 2 并允许 a 和 b 共享 Rc 中数据的所有权。创建 c 时也会克隆 a，这会将引用计数从 2 增加为 3。**每次调用 Rc::clone**，Rc 中数据的引用计数都会增加，直到有零个引用之前其数据都不会被清理。"
   ]
  },
  {
   "cell_type": "code",
   "execution_count": 4,
   "metadata": {
    "ExecuteTime": {
     "end_time": "2020-08-26T10:42:59.329095Z",
     "start_time": "2020-08-26T10:42:58.006Z"
    }
   },
   "outputs": [
    {
     "data": {
      "text/plain": [
       "()"
      ]
     },
     "execution_count": 4,
     "metadata": {},
     "output_type": "execute_result"
    }
   ],
   "source": [
    "enum List {\n",
    "    Cons(i32, Rc<List>),\n",
    "    Nil,\n",
    "}\n",
    "\n",
    "use crate::List::{Cons, Nil};\n",
    "use std::rc::Rc;\n",
    "\n",
    "fn main() {\n",
    "    let a = Rc::new(Cons(5, Rc::new(Cons(10, Rc::new(Nil)))));\n",
    "    let b = Cons(3, Rc::clone(&a));\n",
    "    let c = Cons(4, Rc::clone(&a));\n",
    "}\n",
    "\n",
    "main()"
   ]
  },
  {
   "cell_type": "markdown",
   "metadata": {},
   "source": [
    "也可以调用 a.clone() 而不是 Rc::clone(&a)，不过在这里 Rust 的习惯是使用 Rc::clone。Rc::clone 的实现并不像大部分类型的 clone 实现那样对所有数据进行深拷贝。`Rc::clone` **只会增加引用计数**，这并不会花费多少时间。深拷贝可能会花费很长时间。通过使用 Rc::clone 进行引用计数，可以明显的区别深拷贝类的克隆和增加引用计数类的克隆。当查找代码中的性能问题时，只需考虑深拷贝类的克隆而无需考虑 Rc::clone 调用。\n",
    "\n"
   ]
  },
  {
   "cell_type": "code",
   "execution_count": 5,
   "metadata": {
    "ExecuteTime": {
     "end_time": "2020-08-26T10:46:00.115993Z",
     "start_time": "2020-08-26T10:45:59.021Z"
    }
   },
   "outputs": [
    {
     "name": "stdout",
     "output_type": "stream",
     "text": [
      "count after creating a = 1\n",
      "count after creating b = 2\n",
      "count after creating c = 3\n",
      "count after c goes out of scope = 2\n"
     ]
    },
    {
     "data": {
      "text/plain": [
       "()"
      ]
     },
     "execution_count": 5,
     "metadata": {},
     "output_type": "execute_result"
    }
   ],
   "source": [
    "fn main() {\n",
    "    let a = Rc::new(Cons(5, Rc::new(Cons(10, Rc::new(Nil)))));\n",
    "    println!(\"count after creating a = {}\", Rc::strong_count(&a));\n",
    "    let b = Cons(3, Rc::clone(&a));\n",
    "    println!(\"count after creating b = {}\", Rc::strong_count(&a));\n",
    "    {\n",
    "        let c = Cons(4, Rc::clone(&a));\n",
    "        println!(\"count after creating c = {}\", Rc::strong_count(&a));\n",
    "    }\n",
    "    println!(\"count after c goes out of scope = {}\", Rc::strong_count(&a));\n",
    "}\n",
    "\n",
    "main()"
   ]
  },
  {
   "cell_type": "markdown",
   "metadata": {},
   "source": [
    "### 不可变引用\n",
    "通过不可变引用， Rc<T> 允许在程序的多个部分之间只读地共享数据。如果 Rc<T> 也允许多个可变引用，则会违反第四章讨论的借用规则之一：相同位置的多个可变借用可能造成数据竞争和不一致。不过可以修改数据是非常有用的！在下一部分，我们将讨论内部可变性模式和 RefCell<T> 类型，它可以与 Rc<T> 结合使用来处理不可变性的限制。"
   ]
  },
  {
   "cell_type": "markdown",
   "metadata": {},
   "source": [
    "⊕ [RefCell<T> 与内部可变性模式 · Rust 程序设计语言（第二版） 简体中文版](https://kaisery.gitbooks.io/trpl-zh-cn/content/ch15-05-interior-mutability.html)\n"
   ]
  },
  {
   "cell_type": "markdown",
   "metadata": {},
   "source": [
    "对于引用和 `Box<T>`，借用规则的不可变性作用于编译时。对于 `RefCell<T>`，这些不可变性作用于 运行时。对于引用，如果违反这些规则，会得到一个编译错误。而对于 `RefCell<T>`，如果违反这些规则程序会 panic 并退出。\n",
    "\n",
    "在编译时检查借用规则的优势是这些错误将在开发过程的早期被捕获，同时对运行时没有性能影响，因为所有的分析都提前完成了。为此，在编译时检查借用规则是大部分情况的最佳选择，这也正是其为何是 Rust 的默认行为。\n",
    "\n",
    "+ **[ws_rust/restaurant/src/messenger.rs](./restaurant/src/messenger.rs)**"
   ]
  },
  {
   "cell_type": "markdown",
   "metadata": {},
   "source": [
    "## `RefCell<T>` 在运行时记录借用\n",
    "当创建不可变和可变引用时，我们分别使用 & 和 &mut 语法。对于 RefCell<T> 来说，则是 borrow 和 borrow_mut 方法，这属于 RefCell<T> 安全 API 的一部分。borrow 方法返回 Ref 类型的智能指针，borrow_mut 方法返回 RefMut 类型的智能指针。这两个类型都实现了 Deref，所以可以当作常规引用对待。\n",
    "\n",
    "RefCell<T> 记录当前有多少个活动的 Ref<T> 和 RefMut<T> 智能指针。每次调用 borrow，RefCell<T> 将活动的不可变借用计数加一。当 Ref 值离开作用域时，不可变借用计数减一。就像编译时借用规则一样，RefCell<T> 在任何时候只允许有多个不可变借用或一个可变借用。\n",
    "\n",
    "如果我们尝试违反这些规则，相比引用时的编译时错误，RefCell<T> 的实现会在运行时 panic!。示例 15-23 展示了对示例 15-22 中 send 实现的修改，这里我们故意尝试在相同作用域创建两个可变借用以便演示 RefCell<T> 不允许我们在运行时这么做：\n",
    "\n",
    "文件名: src/lib.rs\n",
    "\n",
    "```rust\n",
    "impl Messenger for MockMessenger {\n",
    "    fn send(&self, message: &str) {\n",
    "        let mut one_borrow = self.sent_messages.borrow_mut();\n",
    "        let mut two_borrow = self.sent_messages.borrow_mut();\n",
    "\n",
    "        one_borrow.push(String::from(message));\n",
    "        two_borrow.push(String::from(message));\n",
    "    }\n",
    "}\n",
    "```\n",
    "示例 15-23：在同一作用域中创建两个可变引用并观察 RefCell<T> panic\n",
    "\n",
    "这里为 borrow_mut 返回的 RefMut 智能指针创建了 one_borrow 变量。接着用相同的方式在变量 two_borrow 创建了另一个可变借用。这会在相同作用域中创建两个可变引用，这是不允许的。当运行库的测试时，示例 15-23 编译时不会有任何错误，不过测试会失败：\n",
    "```\n",
    "---- tests::it_sends_an_over_75_percent_warning_message stdout ----\n",
    "    thread 'tests::it_sends_an_over_75_percent_warning_message' panicked at\n",
    "'already borrowed: BorrowMutError', src/libcore/result.rs:906:4\n",
    "note: Run with `RUST_BACKTRACE=1` for a backtrace.\n",
    "```\n",
    "注意代码 panic 和信息 already borrowed: BorrowMutError。这也就是 RefCell<T> 如何在运行时处理违反借用规则的情况。\n",
    "\n",
    "在运行时捕获借用错误而不是编译时意味着将会在开发过程的后期才会发现错误，甚至有可能发布到生产环境才发现；还会因为在运行时而不是编译时记录借用而导致少量的运行时性能惩罚。然而，使用 RefCell 使得在只允许不可变值的上下文中编写修改自身以记录消息的 mock 对象成为可能。虽然有取舍，但是我们可以选择使用 RefCell<T> 来获得比常规引用所能提供的更多的功能。"
   ]
  },
  {
   "cell_type": "code",
   "execution_count": 6,
   "metadata": {
    "ExecuteTime": {
     "end_time": "2020-08-26T11:38:25.104236Z",
     "start_time": "2020-08-26T11:38:23.065Z"
    }
   },
   "outputs": [
    {
     "name": "stdout",
     "output_type": "stream",
     "text": [
      "a after = Cons(RefCell { value: 15 }, Nil)\n",
      "b after = Cons(RefCell { value: 6 }, Cons(RefCell { value: 15 }, Nil))\n",
      "c after = Cons(RefCell { value: 10 }, Cons(RefCell { value: 15 }, Nil))\n"
     ]
    },
    {
     "data": {
      "text/plain": [
       "()"
      ]
     },
     "execution_count": 6,
     "metadata": {},
     "output_type": "execute_result"
    }
   ],
   "source": [
    "// 结合 Rc<T> 和 RefCell<T> 来拥有多个可变数据所有者\n",
    "#[derive(Debug)]\n",
    "enum List {\n",
    "    Cons(Rc<RefCell<i32>>, Rc<List>),\n",
    "    Nil,\n",
    "}\n",
    "\n",
    "use crate::List::{Cons, Nil};\n",
    "use std::rc::Rc;\n",
    "use std::cell::RefCell;\n",
    "\n",
    "fn main() {\n",
    "    let value = Rc::new(RefCell::new(5));\n",
    "\n",
    "    let a = Rc::new(Cons(Rc::clone(&value), Rc::new(Nil)));\n",
    "\n",
    "    let b = Cons(Rc::new(RefCell::new(6)), Rc::clone(&a));\n",
    "    let c = Cons(Rc::new(RefCell::new(10)), Rc::clone(&a));\n",
    "\n",
    "    *value.borrow_mut() += 10;\n",
    "\n",
    "    println!(\"a after = {:?}\", a);\n",
    "    println!(\"b after = {:?}\", b);\n",
    "    println!(\"c after = {:?}\", c);\n",
    "}\n",
    "\n",
    "main()"
   ]
  },
  {
   "cell_type": "markdown",
   "metadata": {},
   "source": [
    "### 避免引用循环：将 Rc<T> 变为 Weak<T>\n",
    "强引用代表如何共享 Rc<T> 实例的所有权，但弱引用并不属于所有权关系。他们不会造成引用循环，因为任何弱引用的循环会在其相关的强引用计数为 0 时被打断。\n",
    "\n",
    "因为 Weak<T> 引用的值可能已经被丢弃了，为了使用 Weak<T> 所指向的值，我们必须确保其值仍然有效。**为此可以调用 Weak<T> 实例的 upgrade 方法，这会返回 Option<Rc<T>>**。如果 Rc<T> 值还未被丢弃，则结果是 Some；如果 Rc<T> 已被丢弃，则结果是 None。因为 upgrade 返回一个 Option<T>，我们确信 Rust 会处理 Some 和 None 的情况，所以它不会返回非法指针。"
   ]
  },
  {
   "cell_type": "code",
   "execution_count": 9,
   "metadata": {
    "ExecuteTime": {
     "end_time": "2020-08-26T11:46:12.520667Z",
     "start_time": "2020-08-26T11:46:10.694Z"
    }
   },
   "outputs": [
    {
     "data": {
      "text/plain": [
       "()"
      ]
     },
     "execution_count": 9,
     "metadata": {},
     "output_type": "execute_result"
    }
   ],
   "source": [
    "// 创建树形数据结构：带有子结点的 Node\n",
    "// use std::rc::Rc;\n",
    "// use std::cell::RefCell;\n",
    "\n",
    "#[derive(Debug)]\n",
    "struct Node {\n",
    "    value: i32,\n",
    "    children: RefCell<Vec<Rc<Node>>>,\n",
    "}\n",
    "\n",
    "fn main() {\n",
    "    let leaf = Rc::new(Node {\n",
    "        value: 3,\n",
    "        children: RefCell::new(vec![]),\n",
    "    });\n",
    "\n",
    "    let branch = Rc::new(Node {\n",
    "        value: 5,\n",
    "        children: RefCell::new(vec![Rc::clone(&leaf)]),\n",
    "    });\n",
    "}\n",
    "\n",
    "main()"
   ]
  },
  {
   "cell_type": "markdown",
   "metadata": {},
   "source": [
    "### 增加从子到父的引用\n",
    "为了使子结点知道其父结点，需要在 Node 结构体定义中增加一个 parent 字段。问题是 parent 的类型应该是什么。我们知道其不能包含 Rc<T>，因为这样 leaf.parent 将会指向 branch 而 branch.children 会包含 leaf 的指针，这会形成引用循环，会造成其 strong_count 永远也不会为 0.\n",
    "\n",
    "现在换一种方式思考这个关系，父结点应该拥有其子结点：如果父结点被丢弃了，其子结点也应该被丢弃。然而子结点不应该拥有其父结点：如果丢弃子结点，其父结点应该依然存在。这正是弱引用的例子！\n",
    "\n",
    "所以 parent 使用 Weak<T> 类型而不是 Rc<T>，具体来说是 RefCell<Weak<Node>>。现在 Node 结构体定义看起来像这样："
   ]
  },
  {
   "cell_type": "code",
   "execution_count": 2,
   "metadata": {
    "ExecuteTime": {
     "end_time": "2020-08-26T11:47:53.428163Z",
     "start_time": "2020-08-26T11:47:52.894Z"
    }
   },
   "outputs": [],
   "source": [
    "use std::rc::{Rc, Weak};\n",
    "use std::cell::RefCell;\n",
    "\n",
    "#[derive(Debug)]\n",
    "struct Node {\n",
    "    value: i32,\n",
    "    parent: RefCell<Weak<Node>>,\n",
    "    children: RefCell<Vec<Rc<Node>>>,\n",
    "}"
   ]
  },
  {
   "cell_type": "code",
   "execution_count": 4,
   "metadata": {
    "ExecuteTime": {
     "end_time": "2020-08-26T12:00:04.152201Z",
     "start_time": "2020-08-26T12:00:02.734Z"
    }
   },
   "outputs": [
    {
     "name": "stdout",
     "output_type": "stream",
     "text": [
      "leaf parent = None\n",
      "leaf parent = Some(Node { value: 5, parent: RefCell { value: (Weak) }, children: RefCell { value: [Node { value: 3, parent: RefCell { value: (Weak) }, children: RefCell { value: [] } }] } })\n"
     ]
    },
    {
     "data": {
      "text/plain": [
       "()"
      ]
     },
     "execution_count": 4,
     "metadata": {},
     "output_type": "execute_result"
    }
   ],
   "source": [
    "fn main() {\n",
    "    let leaf = Rc::new(Node {\n",
    "        value: 3,\n",
    "        parent: RefCell::new(Weak::new()),\n",
    "        children: RefCell::new(vec![]),\n",
    "    });\n",
    "\n",
    "    println!(\"leaf parent = {:?}\", leaf.parent.borrow().upgrade());\n",
    "\n",
    "    let branch = Rc::new(Node {\n",
    "        value: 5,\n",
    "        parent: RefCell::new(Weak::new()),\n",
    "        children: RefCell::new(vec![Rc::clone(&leaf)]),\n",
    "    });\n",
    "    \n",
    "    // 使用 Rc::downgrade 函数来从 branch 中的 Rc 值创建了一个指向 branch 的 Weak<Node> 引用\n",
    "    *leaf.parent.borrow_mut() = Rc::downgrade(&branch);\n",
    "\n",
    "    println!(\"leaf parent = {:?}\", leaf.parent.borrow().upgrade());\n",
    "}\n",
    "\n",
    "main()"
   ]
  },
  {
   "cell_type": "code",
   "execution_count": 6,
   "metadata": {
    "ExecuteTime": {
     "end_time": "2020-08-26T12:00:45.840993Z",
     "start_time": "2020-08-26T12:00:44.442Z"
    }
   },
   "outputs": [
    {
     "name": "stdout",
     "output_type": "stream",
     "text": [
      "leaf strong = 1, weak = 0\n",
      "branch strong = 1, weak = 1\n",
      "leaf strong = 2, weak = 0\n",
      "leaf parent = None\n",
      "leaf strong = 1, weak = 0\n"
     ]
    },
    {
     "data": {
      "text/plain": [
       "()"
      ]
     },
     "execution_count": 6,
     "metadata": {},
     "output_type": "execute_result"
    }
   ],
   "source": [
    "// 可视化 strong_count 和 weak_count 的改变\n",
    "\n",
    "fn main() {\n",
    "    let leaf = Rc::new(Node {\n",
    "        value: 3,\n",
    "        parent: RefCell::new(Weak::new()),\n",
    "        children: RefCell::new(vec![]),\n",
    "    });\n",
    "\n",
    "    println!(\n",
    "        \"leaf strong = {}, weak = {}\",\n",
    "        Rc::strong_count(&leaf),\n",
    "        Rc::weak_count(&leaf),\n",
    "    );\n",
    "\n",
    "    {\n",
    "        let branch = Rc::new(Node {\n",
    "            value: 5,\n",
    "            parent: RefCell::new(Weak::new()),\n",
    "            children: RefCell::new(vec![Rc::clone(&leaf)]),\n",
    "        });\n",
    "\n",
    "        *leaf.parent.borrow_mut() = Rc::downgrade(&branch);\n",
    "\n",
    "        println!(\n",
    "            \"branch strong = {}, weak = {}\",\n",
    "            Rc::strong_count(&branch),\n",
    "            Rc::weak_count(&branch),\n",
    "        );\n",
    "\n",
    "        println!(\n",
    "            \"leaf strong = {}, weak = {}\",\n",
    "            Rc::strong_count(&leaf),\n",
    "            Rc::weak_count(&leaf),\n",
    "        );\n",
    "    }\n",
    "\n",
    "    println!(\"leaf parent = {:?}\", leaf.parent.borrow().upgrade());\n",
    "    println!(\n",
    "        \"leaf strong = {}, weak = {}\",\n",
    "        Rc::strong_count(&leaf),\n",
    "        Rc::weak_count(&leaf),\n",
    "    );\n",
    "}\n",
    "\n",
    "main()"
   ]
  }
 ],
 "metadata": {
  "kernelspec": {
   "display_name": "Rust",
   "language": "rust",
   "name": "rust"
  },
  "language_info": {
   "codemirror_mode": "rust",
   "file_extension": ".rs",
   "mimetype": "text/rust",
   "name": "Rust",
   "pygment_lexer": "rust",
   "version": ""
  },
  "varInspector": {
   "cols": {
    "lenName": 16,
    "lenType": 16,
    "lenVar": 40
   },
   "kernels_config": {
    "python": {
     "delete_cmd_postfix": "",
     "delete_cmd_prefix": "del ",
     "library": "var_list.py",
     "varRefreshCmd": "print(var_dic_list())"
    },
    "r": {
     "delete_cmd_postfix": ") ",
     "delete_cmd_prefix": "rm(",
     "library": "var_list.r",
     "varRefreshCmd": "cat(var_dic_list()) "
    }
   },
   "types_to_exclude": [
    "module",
    "function",
    "builtin_function_or_method",
    "instance",
    "_Feature"
   ],
   "window_display": false
  }
 },
 "nbformat": 4,
 "nbformat_minor": 4
}
