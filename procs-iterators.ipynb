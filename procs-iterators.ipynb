{
 "cells": [
  {
   "cell_type": "code",
   "execution_count": 2,
   "metadata": {
    "ExecuteTime": {
     "end_time": "2020-08-25T15:40:14.375284Z",
     "start_time": "2020-08-25T15:40:12.436Z"
    }
   },
   "outputs": [
    {
     "name": "stdout",
     "output_type": "stream",
     "text": [
      "Got: 1\n",
      "Got: 2\n",
      "Got: 3\n"
     ]
    },
    {
     "data": {
      "text/plain": [
       "()"
      ]
     },
     "execution_count": 2,
     "metadata": {},
     "output_type": "execute_result"
    }
   ],
   "source": [
    "let v1 = vec![1, 2, 3];\n",
    "\n",
    "let v1_iter = v1.iter();\n",
    "\n",
    "for val in v1_iter {\n",
    "    println!(\"Got: {}\", val);\n",
    "}"
   ]
  },
  {
   "cell_type": "code",
   "execution_count": 3,
   "metadata": {
    "ExecuteTime": {
     "end_time": "2020-08-25T16:43:02.820711Z",
     "start_time": "2020-08-25T16:43:00.413Z"
    }
   },
   "outputs": [
    {
     "data": {
      "text/plain": [
       "()"
      ]
     },
     "execution_count": 3,
     "metadata": {},
     "output_type": "execute_result"
    }
   ],
   "source": [
    "fn iterator_demonstration() {\n",
    "    let v1 = vec![1, 2, 3];\n",
    "\n",
    "    let mut v1_iter = v1.iter();\n",
    "\n",
    "    assert_eq!(v1_iter.next(), Some(&1));\n",
    "    assert_eq!(v1_iter.next(), Some(&2));\n",
    "    assert_eq!(v1_iter.next(), Some(&3));\n",
    "    assert_eq!(v1_iter.next(), None);\n",
    "}\n",
    "iterator_demonstration()"
   ]
  },
  {
   "cell_type": "markdown",
   "metadata": {},
   "source": [
    "需要注意到从 next 调用中得到的值是 vector 的不可变引用。iter 方法生成一个不可变引用的迭代器。如果我们需要一个获取 v1 所有权并返回拥有所有权的迭代器，则可以调用 into_iter 而不是 iter。类似的，如果我们希望迭代可变引用，则可以调用 iter_mut 而不是 iter。"
   ]
  },
  {
   "cell_type": "markdown",
   "metadata": {},
   "source": [
    "这些调用 next 方法的方法被称为 消费适配器（consuming adaptors），因为调用他们会消耗迭代器。一个消费适配器的例子是 sum 方法。这个方法获取迭代器的所有权并反复调用 next 来遍历迭代器，因而会消费迭代器。当其遍历每一个项时，它将每一个项加总到一个总和并在迭代完成时返回总和。示例 13-16 有一个展示 sum 方法使用的测试：\n",
    "\n"
   ]
  },
  {
   "cell_type": "code",
   "execution_count": 4,
   "metadata": {
    "ExecuteTime": {
     "end_time": "2020-08-25T16:45:21.427283Z",
     "start_time": "2020-08-25T16:45:19.512Z"
    }
   },
   "outputs": [
    {
     "data": {
      "text/plain": [
       "()"
      ]
     },
     "execution_count": 4,
     "metadata": {},
     "output_type": "execute_result"
    }
   ],
   "source": [
    "fn iterator_sum() {\n",
    "    let v1 = vec![1, 2, 3];\n",
    "\n",
    "    let v1_iter = v1.iter();\n",
    "\n",
    "    let total: i32 = v1_iter.sum();\n",
    "\n",
    "    assert_eq!(total, 6);\n",
    "}\n",
    "iterator_sum()"
   ]
  },
  {
   "cell_type": "code",
   "execution_count": 5,
   "metadata": {
    "ExecuteTime": {
     "end_time": "2020-08-25T16:45:57.093015Z",
     "start_time": "2020-08-25T16:45:55.792Z"
    }
   },
   "outputs": [],
   "source": [
    "let v1: Vec<i32> = vec![1, 2, 3];\n",
    "// 产生其他迭代器的方法\n",
    "let v2: Vec<_> = v1.iter().map(|x| x + 1).collect();\n",
    "\n",
    "assert_eq!(v2, vec![2, 3, 4]);"
   ]
  },
  {
   "cell_type": "code",
   "execution_count": 8,
   "metadata": {
    "ExecuteTime": {
     "end_time": "2020-08-25T16:47:38.794050Z",
     "start_time": "2020-08-25T16:47:36.802Z"
    }
   },
   "outputs": [
    {
     "data": {
      "text/plain": [
       "()"
      ]
     },
     "execution_count": 8,
     "metadata": {},
     "output_type": "execute_result"
    }
   ],
   "source": [
    "#[derive(PartialEq, Debug)]\n",
    "struct Shoe {\n",
    "    size: u32,\n",
    "    style: String,\n",
    "}\n",
    "\n",
    "// 使用闭包获取环境\n",
    "fn shoes_in_my_size(shoes: Vec<Shoe>, shoe_size: u32) -> Vec<Shoe> {\n",
    "    shoes.into_iter()\n",
    "        .filter(|s| s.size == shoe_size)\n",
    "        .collect()\n",
    "}\n",
    "\n",
    "// #[test]\n",
    "fn filters_by_size() {\n",
    "    let shoes = vec![\n",
    "        Shoe { size: 10, style: String::from(\"sneaker\") },\n",
    "        Shoe { size: 13, style: String::from(\"sandal\") },\n",
    "        Shoe { size: 10, style: String::from(\"boot\") },\n",
    "    ];\n",
    "\n",
    "    let in_my_size = shoes_in_my_size(shoes, 10);\n",
    "\n",
    "    assert_eq!(\n",
    "        in_my_size,\n",
    "        vec![\n",
    "            Shoe { size: 10, style: String::from(\"sneaker\") },\n",
    "            Shoe { size: 10, style: String::from(\"boot\") },\n",
    "        ]\n",
    "    );\n",
    "}\n",
    "\n",
    "filters_by_size()"
   ]
  },
  {
   "cell_type": "code",
   "execution_count": 9,
   "metadata": {
    "ExecuteTime": {
     "end_time": "2020-08-25T16:49:44.673841Z",
     "start_time": "2020-08-25T16:49:43.587Z"
    }
   },
   "outputs": [],
   "source": [
    "// 实现 Iterator trait 来创建自定义迭代器\n",
    "\n",
    "struct Counter {\n",
    "    count: u32,\n",
    "}\n",
    "\n",
    "impl Counter {\n",
    "    fn new() -> Counter {\n",
    "        Counter { count: 0 }\n",
    "    }\n",
    "}\n",
    "\n",
    "impl Iterator for Counter {\n",
    "    type Item = u32;\n",
    "\n",
    "    fn next(&mut self) -> Option<Self::Item> {\n",
    "        self.count += 1;\n",
    "\n",
    "        if self.count < 6 {\n",
    "            Some(self.count)\n",
    "        } else {\n",
    "            None\n",
    "        }\n",
    "    }\n",
    "}"
   ]
  },
  {
   "cell_type": "code",
   "execution_count": 10,
   "metadata": {
    "ExecuteTime": {
     "end_time": "2020-08-25T16:51:33.262336Z",
     "start_time": "2020-08-25T16:51:31.037Z"
    }
   },
   "outputs": [
    {
     "data": {
      "text/plain": [
       "()"
      ]
     },
     "execution_count": 10,
     "metadata": {},
     "output_type": "execute_result"
    }
   ],
   "source": [
    "fn calling_next_directly() {\n",
    "    let mut counter = Counter::new();\n",
    "\n",
    "    assert_eq!(counter.next(), Some(1));\n",
    "    assert_eq!(counter.next(), Some(2));\n",
    "    assert_eq!(counter.next(), Some(3));\n",
    "    assert_eq!(counter.next(), Some(4));\n",
    "    assert_eq!(counter.next(), Some(5));\n",
    "    assert_eq!(counter.next(), None);\n",
    "}\n",
    "calling_next_directly()"
   ]
  },
  {
   "cell_type": "code",
   "execution_count": 11,
   "metadata": {
    "ExecuteTime": {
     "end_time": "2020-08-25T16:52:16.911167Z",
     "start_time": "2020-08-25T16:52:15.255Z"
    }
   },
   "outputs": [
    {
     "data": {
      "text/plain": [
       "()"
      ]
     },
     "execution_count": 11,
     "metadata": {},
     "output_type": "execute_result"
    }
   ],
   "source": [
    "fn using_other_iterator_trait_methods() {\n",
    "    let sum: u32 = Counter::new().zip(Counter::new().skip(1))\n",
    "                                 .map(|(a, b)| a * b)\n",
    "                                 .filter(|x| x % 3 == 0)\n",
    "                                 .sum();\n",
    "    assert_eq!(18, sum);\n",
    "}\n",
    "using_other_iterator_trait_methods()"
   ]
  },
  {
   "cell_type": "code",
   "execution_count": 17,
   "metadata": {
    "ExecuteTime": {
     "end_time": "2020-08-25T16:53:53.305179Z",
     "start_time": "2020-08-25T16:53:52.083Z"
    }
   },
   "outputs": [
    {
     "data": {
      "text/plain": [
       "18"
      ]
     },
     "execution_count": 17,
     "metadata": {},
     "output_type": "execute_result"
    }
   ],
   "source": [
    "{\n",
    "    let sum: u32 =Counter::new().zip(Counter::new().skip(1))\n",
    "                                 .map(|(a, b)| a * b)\n",
    "                                 .filter(|x| x % 3 == 0)\n",
    "                                 .sum();\n",
    "    sum\n",
    "}"
   ]
  },
  {
   "cell_type": "code",
   "execution_count": 28,
   "metadata": {
    "ExecuteTime": {
     "end_time": "2020-08-25T17:00:52.601294Z",
     "start_time": "2020-08-25T17:00:51.236Z"
    }
   },
   "outputs": [
    {
     "data": {
      "text/plain": [
       "150"
      ]
     },
     "execution_count": 28,
     "metadata": {},
     "output_type": "execute_result"
    }
   ],
   "source": [
    "{\n",
    "    let s:u32=Counter::new().map(|a| a*10).sum();\n",
    "    s\n",
    "}"
   ]
  },
  {
   "cell_type": "code",
   "execution_count": 35,
   "metadata": {
    "ExecuteTime": {
     "end_time": "2020-08-25T17:10:04.879531Z",
     "start_time": "2020-08-25T17:10:03.364Z"
    }
   },
   "outputs": [
    {
     "data": {
      "text/plain": [
       "[\"safe, fast, productive.\"]"
      ]
     },
     "execution_count": 35,
     "metadata": {},
     "output_type": "execute_result"
    }
   ],
   "source": [
    "{\n",
    "    let contents = \"\\\n",
    "Rust:\n",
    "safe, fast, productive.\n",
    "Pick three.\";\n",
    "    let query=\"safe\";\n",
    "    let result:Vec<&str>=contents.lines()\n",
    "            .filter(|line| line.contains(query))\n",
    "            .collect();\n",
    "    result\n",
    "}"
   ]
  }
 ],
 "metadata": {
  "kernelspec": {
   "display_name": "Rust",
   "language": "rust",
   "name": "rust"
  },
  "language_info": {
   "codemirror_mode": "rust",
   "file_extension": ".rs",
   "mimetype": "text/rust",
   "name": "Rust",
   "pygment_lexer": "rust",
   "version": ""
  },
  "varInspector": {
   "cols": {
    "lenName": 16,
    "lenType": 16,
    "lenVar": 40
   },
   "kernels_config": {
    "python": {
     "delete_cmd_postfix": "",
     "delete_cmd_prefix": "del ",
     "library": "var_list.py",
     "varRefreshCmd": "print(var_dic_list())"
    },
    "r": {
     "delete_cmd_postfix": ") ",
     "delete_cmd_prefix": "rm(",
     "library": "var_list.r",
     "varRefreshCmd": "cat(var_dic_list()) "
    }
   },
   "types_to_exclude": [
    "module",
    "function",
    "builtin_function_or_method",
    "instance",
    "_Feature"
   ],
   "window_display": false
  }
 },
 "nbformat": 4,
 "nbformat_minor": 4
}
