{
 "cells": [
  {
   "cell_type": "markdown",
   "metadata": {},
   "source": [
    "## trait：定义共享的行为\n",
    "trait 告诉 Rust 编译器某个特定类型拥有可能与其他类型共享的功能。可以通过 trait 以一种抽象的方式定义共享的行为。可以使用 trait bounds 指定泛型是任何拥有特定行为的类型。\n",
    "\n",
    "注意：trait 类似于其他语言中的常被称为 接口（interfaces）的功能，虽然有一些不同。\n",
    "\n",
    ".. trait 定义是一种将方法签名组合起来的方法，目的是定义一个实现某些目的所必需的行为的集合。"
   ]
  },
  {
   "cell_type": "code",
   "execution_count": 2,
   "metadata": {
    "ExecuteTime": {
     "end_time": "2020-08-24T23:55:34.402124Z",
     "start_time": "2020-08-24T23:55:33.306Z"
    }
   },
   "outputs": [],
   "source": [
    "pub trait Summary {\n",
    "    fn summarize(&self) -> String;\n",
    "}"
   ]
  },
  {
   "cell_type": "markdown",
   "metadata": {},
   "source": [
    "现在我们定义了 Summary trait，接着就可以在多媒体聚合库中需要拥有这个行为的类型上实现它了。示例 10-13 中展示了 NewsArticle 结构体上 Summary trait 的一个实现，它使用标题、作者和创建的位置作为 summarize 的返回值。对于 Tweet 结构体，我们选择将 summarize 定义为用户名后跟推文的全部文本作为返回值，并假设推文内容已经被限制为 280 字符以内。\n",
    "\n"
   ]
  },
  {
   "cell_type": "code",
   "execution_count": 3,
   "metadata": {
    "ExecuteTime": {
     "end_time": "2020-08-24T23:56:27.466162Z",
     "start_time": "2020-08-24T23:56:26.770Z"
    }
   },
   "outputs": [],
   "source": [
    "// 在 NewsArticle 和 Tweet 类型上实现 Summary trait\n",
    "pub struct NewsArticle {\n",
    "    pub headline: String,\n",
    "    pub location: String,\n",
    "    pub author: String,\n",
    "    pub content: String,\n",
    "}\n",
    "\n",
    "impl Summary for NewsArticle {\n",
    "    fn summarize(&self) -> String {\n",
    "        format!(\"{}, by {} ({})\", self.headline, self.author, self.location)\n",
    "    }\n",
    "}\n",
    "\n",
    "pub struct Tweet {\n",
    "    pub username: String,\n",
    "    pub content: String,\n",
    "    pub reply: bool,\n",
    "    pub retweet: bool,\n",
    "}\n",
    "\n",
    "impl Summary for Tweet {\n",
    "    fn summarize(&self) -> String {\n",
    "        format!(\"{}: {}\", self.username, self.content)\n",
    "    }\n",
    "}"
   ]
  },
  {
   "cell_type": "code",
   "execution_count": 4,
   "metadata": {
    "ExecuteTime": {
     "end_time": "2020-08-24T23:57:12.625794Z",
     "start_time": "2020-08-24T23:57:10.675Z"
    }
   },
   "outputs": [
    {
     "name": "stdout",
     "output_type": "stream",
     "text": [
      "1 new tweet: horse_ebooks: of course, as you probably already know, people\n"
     ]
    }
   ],
   "source": [
    "// 一旦实现了 trait，我们就可以用与 NewsArticle 和 Tweet 实例的非 trait 方法一样的方式调用 trait 方法了：\n",
    "\n",
    "let tweet = Tweet {\n",
    "    username: String::from(\"horse_ebooks\"),\n",
    "    content: String::from(\"of course, as you probably already know, people\"),\n",
    "    reply: false,\n",
    "    retweet: false,\n",
    "};\n",
    "\n",
    "println!(\"1 new tweet: {}\", tweet.summarize());"
   ]
  },
  {
   "cell_type": "markdown",
   "metadata": {},
   "source": [
    "实现 trait 时需要注意的一个限制是，只有当 trait 或者要实现 trait 的类型位于 crate 的本地作用域时，才能为该类型实现 trait。例如，可以为 aggregator crate 的自定义类型 Tweet 实现如标准库中的 Display trait，这是因为 Tweet 类型位于 aggregator crate 本地的作用域中。类似地，也可以在 aggregator crate 中为 Vec<T> 实现 Summary，这是因为 Summary trait 位于 aggregator crate 本地作用域中。\n",
    "\n",
    "但是不能为外部类型实现外部 trait。例如，不能在 aggregator crate 中为 Vec<T> 实现 Display trait。这是因为 Display 和 Vec<T> 都定义于标准库中，它们并不位于 aggregator crate 本地作用域中。这个限制是被称为 相干性（coherence） 的程序属性的一部分，或者更具体的说是 孤儿规则（orphan rule），其得名于不存在父类型。这条规则确保了其他人编写的代码不会破坏你代码，反之亦然。没有这条规则的话，两个 crate 可以分别对相同类型实现相同的 trait，而 Rust 将无从得知应该使用哪一个实现。"
   ]
  },
  {
   "cell_type": "code",
   "execution_count": 3,
   "metadata": {
    "ExecuteTime": {
     "end_time": "2020-08-25T00:01:47.811413Z",
     "start_time": "2020-08-25T00:01:46.284Z"
    }
   },
   "outputs": [
    {
     "name": "stdout",
     "output_type": "stream",
     "text": [
      "New article available! (Read more...)\n"
     ]
    }
   ],
   "source": [
    "// 如何为 Summary trait 的 summarize 方法指定一个默认的字符串值\n",
    "pub trait Summary {\n",
    "    fn summarize(&self) -> String {\n",
    "        String::from(\"(Read more...)\")\n",
    "    }\n",
    "}\n",
    "pub struct NewsArticle {\n",
    "    pub headline: String,\n",
    "    pub location: String,\n",
    "    pub author: String,\n",
    "    pub content: String,\n",
    "}\n",
    "// 使用这个默认实现\n",
    "impl Summary for NewsArticle {}\n",
    "\n",
    "let article = NewsArticle {\n",
    "    headline: String::from(\"Penguins win the Stanley Cup Championship!\"),\n",
    "    location: String::from(\"Pittsburgh, PA, USA\"),\n",
    "    author: String::from(\"Iceburgh\"),\n",
    "    content: String::from(\"The Pittsburgh Penguins once again are the best\n",
    "    hockey team in the NHL.\"),\n",
    "};\n",
    "\n",
    "// 虽然我们不再直接为 NewsArticle 定义 summarize 方法了，\n",
    "// 但是我们提供了一个默认实现并且指定 NewsArticle 实现 Summary trait。因此，我们仍然可以对 NewsArticle 实例调用 summarize 方法\n",
    "println!(\"New article available! {}\", article.summarize());"
   ]
  },
  {
   "cell_type": "markdown",
   "metadata": {},
   "source": [
    "默认实现允许调用相同 trait 中的其他方法，哪怕这些方法没有默认实现。如此，trait 可以提供很多有用的功能而只需要实现指定一小部分内容。例如，我们可以定义 Summary trait，使其具有一个需要实现的 summarize_author 方法，然后定义一个 summarize 方法，此方法的默认实现调用 summarize_author 方法：\n",
    "\n"
   ]
  },
  {
   "cell_type": "code",
   "execution_count": 3,
   "metadata": {
    "ExecuteTime": {
     "end_time": "2020-08-25T00:02:55.075329Z",
     "start_time": "2020-08-25T00:02:53.358Z"
    }
   },
   "outputs": [
    {
     "name": "stdout",
     "output_type": "stream",
     "text": [
      "1 new tweet: (Read more from @horse_ebooks...)\n"
     ]
    }
   ],
   "source": [
    "pub trait Summary {\n",
    "    fn summarize_author(&self) -> String;\n",
    "\n",
    "    fn summarize(&self) -> String {\n",
    "        format!(\"(Read more from {}...)\", self.summarize_author())\n",
    "    }\n",
    "}\n",
    "\n",
    "pub struct Tweet {\n",
    "    pub username: String,\n",
    "    pub content: String,\n",
    "    pub reply: bool,\n",
    "    pub retweet: bool,\n",
    "}\n",
    "\n",
    "impl Summary for Tweet {\n",
    "    fn summarize_author(&self) -> String {\n",
    "        format!(\"@{}\", self.username)\n",
    "    }\n",
    "}\n",
    "\n",
    "let tweet = Tweet {\n",
    "    username: String::from(\"horse_ebooks\"),\n",
    "    content: String::from(\"of course, as you probably already know, people\"),\n",
    "    reply: false,\n",
    "    retweet: false,\n",
    "};\n",
    "\n",
    "println!(\"1 new tweet: {}\", tweet.summarize());"
   ]
  },
  {
   "cell_type": "code",
   "execution_count": 5,
   "metadata": {
    "ExecuteTime": {
     "end_time": "2020-08-25T00:05:14.422769Z",
     "start_time": "2020-08-25T00:05:12.501Z"
    }
   },
   "outputs": [
    {
     "name": "stdout",
     "output_type": "stream",
     "text": [
      "Breaking news! (Read more from @horse_ebooks...)\n"
     ]
    },
    {
     "data": {
      "text/plain": [
       "()"
      ]
     },
     "execution_count": 5,
     "metadata": {},
     "output_type": "execute_result"
    }
   ],
   "source": [
    "// 如何使用 trait 来接受多种不同类型的参数。\n",
    "// 定义一个函数 notify 来调用其参数 item 上的 summarize 方法，\n",
    "// 该参数是实现了 Summary trait 的某种类型\n",
    "pub fn notify(item: impl Summary) {\n",
    "    println!(\"Breaking news! {}\", item.summarize());\n",
    "}\n",
    "\n",
    "notify(tweet)"
   ]
  },
  {
   "cell_type": "code",
   "execution_count": 6,
   "metadata": {
    "ExecuteTime": {
     "end_time": "2020-08-25T00:05:57.641890Z",
     "start_time": "2020-08-25T00:05:56.739Z"
    }
   },
   "outputs": [],
   "source": [
    "// impl Trait 语法适用于直观的例子，它不过是一个较长形式的语法糖。这被称为 trait bound，这看起来像：\n",
    "\n",
    "pub fn notify<T: Summary>(item: T) {\n",
    "    println!(\"Breaking news! {}\", item.summarize());\n",
    "}"
   ]
  },
  {
   "cell_type": "code",
   "execution_count": 7,
   "metadata": {
    "ExecuteTime": {
     "end_time": "2020-08-25T00:06:32.448804Z",
     "start_time": "2020-08-25T00:06:31.882Z"
    }
   },
   "outputs": [],
   "source": [
    "pub fn notify(item1: impl Summary, item2: impl Summary) {}\n",
    "pub fn notify<T: Summary>(item1: T, item2: T) {}"
   ]
  },
  {
   "cell_type": "code",
   "execution_count": 9,
   "metadata": {
    "ExecuteTime": {
     "end_time": "2020-08-25T00:08:09.132886Z",
     "start_time": "2020-08-25T00:08:08.009Z"
    }
   },
   "outputs": [],
   "source": [
    "use std::fmt::Display;\n",
    "\n",
    "// 通过 + 指定多个 trait bound\n",
    "pub fn notify(item: impl Summary + Display) {\n",
    "}\n",
    "pub fn notify<T: Summary + Display>(item: T) {\n",
    "}"
   ]
  },
  {
   "cell_type": "markdown",
   "metadata": {},
   "source": [
    "### 通过 where 简化 trait bound\n",
    "然而，使用过多的 trait bound 也有缺点。每个泛型有其自己的 trait bound，所以有多个泛型参数的函数在名称和参数列表之间会有很长的 trait bound 信息，这使得函数签名难以阅读。为此，Rust 有另一个在函数签名之后的 where 从句中指定 trait bound 的语法。所以除了这么写：\n",
    "\n",
    "```\n",
    "fn some_function<T: Display + Clone, U: Clone + Debug>(t: T, u: U) -> i32 {\n",
    "```\n",
    "还可以像这样使用 where 从句：\n",
    "```\n",
    "fn some_function<T, U>(t: T, u: U) -> i32\n",
    "    where T: Display + Clone,\n",
    "          U: Clone + Debug\n",
    "{\n",
    "```\n",
    "这个函数签名就显得不那么杂乱，函数名、参数列表和返回值类型都离得很近，看起来类似没有很多 trait bounds 的函数。"
   ]
  },
  {
   "cell_type": "code",
   "execution_count": 10,
   "metadata": {
    "ExecuteTime": {
     "end_time": "2020-08-25T00:11:34.143339Z",
     "start_time": "2020-08-25T00:11:33.428Z"
    }
   },
   "outputs": [],
   "source": [
    "// 在返回值中使用 impl Trait 语法，来返回实现了某个 trait 的类型\n",
    "fn returns_summarizable() -> impl Summary {\n",
    "    Tweet {\n",
    "        username: String::from(\"horse_ebooks\"),\n",
    "        content: String::from(\"of course, as you probably already know, people\"),\n",
    "        reply: false,\n",
    "        retweet: false,\n",
    "    }\n",
    "}"
   ]
  },
  {
   "cell_type": "code",
   "execution_count": 3,
   "metadata": {
    "ExecuteTime": {
     "end_time": "2020-08-25T00:14:45.887859Z",
     "start_time": "2020-08-25T00:14:45.640Z"
    }
   },
   "outputs": [
    {
     "ename": "Error",
     "evalue": "`if` and `else` have incompatible types",
     "output_type": "error",
     "traceback": [
      "        Tweet {",
      "            username: String::from(\"horse_ebooks\"),",
      "            content: String::from(\"of course, as you probably already know, people\"),",
      "            reply: false,",
      "            retweet: false,",
      "        }",
      "\u001b[91m        ^\u001b[0m \u001b[94mexpected struct `NewsArticle`, found struct `Tweet`\u001b[0m",
      "        NewsArticle {",
      "            headline: String::from(\"Penguins win the Stanley Cup Championship!\"),",
      "            location: String::from(\"Pittsburgh, PA, USA\"),",
      "            author: String::from(\"Iceburgh\"),",
      "            content: String::from(\"The Pittsburgh Penguins once again are the best",
      "            hockey team in the NHL.\"),",
      "        }",
      "\u001b[91m        ^\u001b[0m \u001b[94mexpected because of this\u001b[0m",
      "    if switch {",
      "        NewsArticle {",
      "            headline: String::from(\"Penguins win the Stanley Cup Championship!\"),",
      "            location: String::from(\"Pittsburgh, PA, USA\"),",
      "            author: String::from(\"Iceburgh\"),",
      "            content: String::from(\"The Pittsburgh Penguins once again are the best",
      "            hockey team in the NHL.\"),",
      "        }",
      "    } else {",
      "        Tweet {",
      "            username: String::from(\"horse_ebooks\"),",
      "            content: String::from(\"of course, as you probably already know, people\"),",
      "            reply: false,",
      "            retweet: false,",
      "        }",
      "    }",
      "\u001b[91m    ^\u001b[0m \u001b[94m`if` and `else` have incompatible types\u001b[0m",
      "`if` and `else` have incompatible types"
     ]
    }
   ],
   "source": [
    "pub trait Summary {\n",
    "    fn summarize(&self) -> String {\n",
    "        String::from(\"(Read more...)\")\n",
    "    }\n",
    "}\n",
    "pub struct NewsArticle {\n",
    "    pub headline: String,\n",
    "    pub location: String,\n",
    "    pub author: String,\n",
    "    pub content: String,\n",
    "}\n",
    "impl Summary for NewsArticle {}\n",
    "pub struct Tweet {\n",
    "    pub username: String,\n",
    "    pub content: String,\n",
    "    pub reply: bool,\n",
    "    pub retweet: bool,\n",
    "}\n",
    "impl Summary for Tweet {}\n",
    "\n",
    "fn returns_summarizable(switch: bool) -> impl Summary {\n",
    "    if switch {\n",
    "        NewsArticle {\n",
    "            headline: String::from(\"Penguins win the Stanley Cup Championship!\"),\n",
    "            location: String::from(\"Pittsburgh, PA, USA\"),\n",
    "            author: String::from(\"Iceburgh\"),\n",
    "            content: String::from(\"The Pittsburgh Penguins once again are the best\n",
    "            hockey team in the NHL.\"),\n",
    "        }\n",
    "    } else {\n",
    "        Tweet {\n",
    "            username: String::from(\"horse_ebooks\"),\n",
    "            content: String::from(\"of course, as you probably already know, people\"),\n",
    "            reply: false,\n",
    "            retweet: false,\n",
    "        }\n",
    "    }\n",
    "}"
   ]
  },
  {
   "cell_type": "markdown",
   "metadata": {},
   "source": [
    "这里尝试返回 NewsArticle 或 Tweet。这不能编译，因为 impl Trait 工作方式的限制。第十七章的 [“为使用不同类型的值而设计的 trait 对象”][using-trait-objects-that-allow-for-values-of-different-types] 部分会介绍如何编写这样一个函数。"
   ]
  },
  {
   "cell_type": "markdown",
   "metadata": {},
   "source": [
    "### 使用 trait bounds 来修复 largest 函数\n",
    "\n",
    "为了只对实现了 Copy 的类型调用这些代码，可以在 T 的 trait bounds 中增加 Copy！示例 10-15 中展示了一个可以编译的泛型版本的 largest 函数的完整代码，只要传递给 largest 的 slice 值的类型实现了 PartialOrd 和 Copy 这两个 trait，例如 i32 和 char：\n",
    "\n"
   ]
  },
  {
   "cell_type": "code",
   "execution_count": 4,
   "metadata": {
    "ExecuteTime": {
     "end_time": "2020-08-25T00:19:39.728674Z",
     "start_time": "2020-08-25T00:19:38.208Z"
    }
   },
   "outputs": [
    {
     "name": "stdout",
     "output_type": "stream",
     "text": [
      "The largest number is 100\n",
      "The largest char is y\n"
     ]
    },
    {
     "data": {
      "text/plain": [
       "()"
      ]
     },
     "execution_count": 4,
     "metadata": {},
     "output_type": "execute_result"
    }
   ],
   "source": [
    "fn largest<T: PartialOrd + Copy>(list: &[T]) -> T {\n",
    "    let mut largest = list[0];\n",
    "\n",
    "    for &item in list.iter() {\n",
    "        if item > largest {\n",
    "            largest = item;\n",
    "        }\n",
    "    }\n",
    "\n",
    "    largest\n",
    "}\n",
    "\n",
    "fn main() {\n",
    "    let number_list = vec![34, 50, 25, 100, 65];\n",
    "\n",
    "    let result = largest(&number_list);\n",
    "    println!(\"The largest number is {}\", result);\n",
    "\n",
    "    let char_list = vec!['y', 'm', 'a', 'q'];\n",
    "\n",
    "    let result = largest(&char_list);\n",
    "    println!(\"The largest char is {}\", result);\n",
    "}\n",
    "\n",
    "main()"
   ]
  },
  {
   "cell_type": "markdown",
   "metadata": {},
   "source": [
    "如果并不希望限制 largest 函数只能用于实现了 Copy trait 的类型，我们可以在 T 的 trait bounds 中指定 Clone 而不是 Copy。并克隆 slice 的每一个值使得 largest 函数拥有其所有权。使用 clone 函数意味着对于类似 String 这样拥有堆上数据的类型，会潜在的分配更多堆上空间，而堆分配在涉及大量数据时可能会相当缓慢。\n",
    "\n",
    "另一种 largest 的实现方式是返回在 slice 中 T 值的引用。如果我们将函数返回值从 T 改为 &T 并改变函数体使其能够返回一个引用，我们将不需要任何 Clone 或 Copy 的 trait bounds 而且也不会有任何的堆分配。"
   ]
  },
  {
   "cell_type": "markdown",
   "metadata": {},
   "source": [
    "### 使用 trait bound 有条件地实现方法\n",
    "通过使用带有 trait bound 的泛型参数的 impl 块，可以有条件地只为那些实现了特定 trait 的类型实现方法。例如，示例 10-16 中的类型 Pair<T> 总是实现了 new 方法，不过只有那些为 T 类型实现了 PartialOrd trait （来允许比较） 和 Display trait （来启用打印）的 Pair<T> 才会实现 cmp_display 方法：\n",
    "\n"
   ]
  },
  {
   "cell_type": "code",
   "execution_count": 5,
   "metadata": {
    "ExecuteTime": {
     "end_time": "2020-08-25T00:23:35.784474Z",
     "start_time": "2020-08-25T00:23:35.084Z"
    }
   },
   "outputs": [],
   "source": [
    "use std::fmt::Display;\n",
    "\n",
    "struct Pair<T> {\n",
    "    x: T,\n",
    "    y: T,\n",
    "}\n",
    "\n",
    "impl<T> Pair<T> {\n",
    "    fn new(x: T, y: T) -> Self {\n",
    "        Self {\n",
    "            x,\n",
    "            y,\n",
    "        }\n",
    "    }\n",
    "}\n",
    "\n",
    "impl<T: Display + PartialOrd> Pair<T> {\n",
    "    fn cmp_display(&self) {\n",
    "        if self.x >= self.y {\n",
    "            println!(\"The largest member is x = {}\", self.x);\n",
    "        } else {\n",
    "            println!(\"The largest member is y = {}\", self.y);\n",
    "        }\n",
    "    }\n",
    "}\n"
   ]
  },
  {
   "cell_type": "markdown",
   "metadata": {},
   "source": [
    "### 对任何实现了特定 trait 的类型有条件地实现 trait\n",
    "也可以对任何实现了特定 trait 的类型有条件地实现 trait。对任何满足特定 trait bound 的类型实现 trait 被称为 blanket implementations，他们被广泛的用于 Rust 标准库中。例如，标准库为任何实现了 Display trait 的类型实现了 ToString trait。这个 impl 块看起来像这样：\n",
    "```\n",
    "impl<T: Display> ToString for T {\n",
    "    // --snip--\n",
    "}\n",
    "```\n",
    "因为标准库有了这些 blanket implementation，我们可以对任何实现了 Display trait 的类型调用由 ToString 定义的 to_string 方法。例如，可以将整型转换为对应的 String 值，因为整型实现了 Display：\n",
    "```\n",
    "let s = 3.to_string();\n",
    "```\n",
    "blanket implementation 会出现在 trait 文档的 “Implementers” 部分。\n",
    "\n",
    "trait 和 trait bound 让我们使用泛型类型参数来减少重复，并仍然能够向编译器明确指定泛型类型需要拥有哪些行为。因为我们向编译器提供了 trait bound 信息，它就可以检查代码中所用到的具体类型是否提供了正确的行为。在动态类型语言中，如果我们尝试调用一个类型并没有实现的方法，会在运行时出现错误。Rust 将这些错误移动到了编译时，甚至在代码能够运行之前就强迫我们修复错误。另外，我们也无需编写运行时检查行为的代码，因为在编译时就已经检查过了，这样相比其他那些不愿放弃泛型灵活性的语言有更好的性能。\n",
    "\n",
    "这里还有一种泛型，我们一直在使用它甚至都没有察觉它的存在，这就是 生命周期（lifetimes）。不同于其他泛型帮助我们确保类型拥有期望的行为，生命周期则有助于确保引用在我们需要他们的时候一直有效。让我们学习生命周期是如何做到这些的。"
   ]
  }
 ],
 "metadata": {
  "kernelspec": {
   "display_name": "Rust",
   "language": "rust",
   "name": "rust"
  },
  "language_info": {
   "codemirror_mode": "rust",
   "file_extension": ".rs",
   "mimetype": "text/rust",
   "name": "Rust",
   "pygment_lexer": "rust",
   "version": ""
  },
  "varInspector": {
   "cols": {
    "lenName": 16,
    "lenType": 16,
    "lenVar": 40
   },
   "kernels_config": {
    "python": {
     "delete_cmd_postfix": "",
     "delete_cmd_prefix": "del ",
     "library": "var_list.py",
     "varRefreshCmd": "print(var_dic_list())"
    },
    "r": {
     "delete_cmd_postfix": ") ",
     "delete_cmd_prefix": "rm(",
     "library": "var_list.r",
     "varRefreshCmd": "cat(var_dic_list()) "
    }
   },
   "types_to_exclude": [
    "module",
    "function",
    "builtin_function_or_method",
    "instance",
    "_Feature"
   ],
   "window_display": false
  }
 },
 "nbformat": 4,
 "nbformat_minor": 4
}
