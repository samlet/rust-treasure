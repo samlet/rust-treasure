{
 "cells": [
  {
   "cell_type": "code",
   "execution_count": 2,
   "metadata": {
    "ExecuteTime": {
     "end_time": "2020-08-24T08:20:24.505943Z",
     "start_time": "2020-08-24T08:20:23.922Z"
    }
   },
   "outputs": [],
   "source": [
    "struct User {\n",
    "    username: String,\n",
    "    email: String,\n",
    "    sign_in_count: u64,\n",
    "    active: bool,\n",
    "}"
   ]
  },
  {
   "cell_type": "code",
   "execution_count": 5,
   "metadata": {
    "ExecuteTime": {
     "end_time": "2020-08-24T08:21:06.772539Z",
     "start_time": "2020-08-24T08:21:04.943Z"
    }
   },
   "outputs": [
    {
     "data": {
      "text/plain": [
       "\"someone@example.com\""
      ]
     },
     "execution_count": 5,
     "metadata": {},
     "output_type": "execute_result"
    }
   ],
   "source": [
    "let user1 = User {\n",
    "    email: String::from(\"someone@example.com\"),\n",
    "    username: String::from(\"someusername123\"),\n",
    "    active: true,\n",
    "    sign_in_count: 1,\n",
    "};\n",
    "user1.email"
   ]
  },
  {
   "cell_type": "code",
   "execution_count": 6,
   "metadata": {
    "ExecuteTime": {
     "end_time": "2020-08-24T08:21:30.574537Z",
     "start_time": "2020-08-24T08:21:29.447Z"
    }
   },
   "outputs": [],
   "source": [
    "let mut user1 = User {\n",
    "    email: String::from(\"someone@example.com\"),\n",
    "    username: String::from(\"someusername123\"),\n",
    "    active: true,\n",
    "    sign_in_count: 1,\n",
    "};\n",
    "\n",
    "user1.email = String::from(\"anotheremail@example.com\");"
   ]
  },
  {
   "cell_type": "code",
   "execution_count": 7,
   "metadata": {
    "ExecuteTime": {
     "end_time": "2020-08-24T08:21:58.829370Z",
     "start_time": "2020-08-24T08:21:58.126Z"
    }
   },
   "outputs": [],
   "source": [
    "fn build_user(email: String, username: String) -> User {\n",
    "    User {\n",
    "        email: email,\n",
    "        username: username,\n",
    "        active: true,\n",
    "        sign_in_count: 1,\n",
    "    }\n",
    "}\n",
    "\n",
    "// 为函数参数起与结构体字段相同的名字是可以理解的，\n",
    "// 但是不得不重复 email 和 username 字段名称与变量有些啰嗦。\n",
    "// 如果结构体有更多字段，重复每个名称就更加烦人了"
   ]
  },
  {
   "cell_type": "code",
   "execution_count": 10,
   "metadata": {
    "ExecuteTime": {
     "end_time": "2020-08-24T08:24:39.385440Z",
     "start_time": "2020-08-24T08:24:37.612Z"
    }
   },
   "outputs": [
    {
     "data": {
      "text/plain": [
       "1"
      ]
     },
     "execution_count": 10,
     "metadata": {},
     "output_type": "execute_result"
    }
   ],
   "source": [
    "// build_user 函数使用了字段初始化简写语法，因为 email 和 username 参数与结构体字段同名\n",
    "fn build_user(email: String, username: String) -> User {\n",
    "    User {\n",
    "        email,\n",
    "        username,\n",
    "        active: true,\n",
    "        sign_in_count: 1,\n",
    "    }\n",
    "}\n",
    "\n",
    "build_user(\"a@b.com\".into(), \"samlet\".into()).sign_in_count"
   ]
  },
  {
   "cell_type": "code",
   "execution_count": 13,
   "metadata": {
    "ExecuteTime": {
     "end_time": "2020-08-24T08:25:51.470626Z",
     "start_time": "2020-08-24T08:25:50.342Z"
    }
   },
   "outputs": [
    {
     "data": {
      "text/plain": [
       "1"
      ]
     },
     "execution_count": 13,
     "metadata": {},
     "output_type": "execute_result"
    }
   ],
   "source": [
    " let user1 = User {\n",
    "     email: String::from(\"someone@example.com\"),\n",
    "     username: String::from(\"someusername123\"),\n",
    "     active: true,\n",
    "     sign_in_count: 1,\n",
    " };\n",
    "\n",
    "let user2 = User {\n",
    "    email: String::from(\"another@example.com\"),\n",
    "    username: String::from(\"anotherusername567\"),\n",
    "    // .. 语法指定了剩余未显式设置值的字段应有与给定实例对应字段相同的值。\n",
    "    ..user1\n",
    "};\n",
    "\n",
    "user2.sign_in_count"
   ]
  },
  {
   "cell_type": "code",
   "execution_count": 17,
   "metadata": {
    "ExecuteTime": {
     "end_time": "2020-08-24T08:27:00.487762Z",
     "start_time": "2020-08-24T08:26:58.998Z"
    }
   },
   "outputs": [
    {
     "data": {
      "text/plain": [
       "0"
      ]
     },
     "execution_count": 17,
     "metadata": {},
     "output_type": "execute_result"
    }
   ],
   "source": [
    "// 使用没有命名字段的元组结构体来创建不同的类型\n",
    "struct Color(i32, i32, i32);\n",
    "struct Point(i32, i32, i32);\n",
    "\n",
    "let black = Color(0, 0, 0);\n",
    "let origin = Point(0, 0, 0);\n",
    "\n",
    "// 元组结构体实例类似于元组：可以将其解构为单独的部分，也可以使用 . 后跟索引来访问单独的值，等等。\n",
    "black.0"
   ]
  },
  {
   "cell_type": "code",
   "execution_count": 18,
   "metadata": {
    "ExecuteTime": {
     "end_time": "2020-08-24T08:29:23.992896Z",
     "start_time": "2020-08-24T08:29:22.377Z"
    }
   },
   "outputs": [
    {
     "name": "stdout",
     "output_type": "stream",
     "text": [
      "The area of the rectangle is 1500 square pixels.\n"
     ]
    },
    {
     "data": {
      "text/plain": [
       "()"
      ]
     },
     "execution_count": 18,
     "metadata": {},
     "output_type": "execute_result"
    }
   ],
   "source": [
    "fn main() {\n",
    "    let width1 = 30;\n",
    "    let height1 = 50;\n",
    "\n",
    "    println!(\n",
    "        \"The area of the rectangle is {} square pixels.\",\n",
    "        area(width1, height1)\n",
    "    );\n",
    "}\n",
    "\n",
    "fn area(width: u32, height: u32) -> u32 {\n",
    "    width * height\n",
    "}\n",
    "\n",
    "main()"
   ]
  },
  {
   "cell_type": "code",
   "execution_count": 20,
   "metadata": {
    "ExecuteTime": {
     "end_time": "2020-08-24T08:29:53.021404Z",
     "start_time": "2020-08-24T08:29:51.226Z"
    }
   },
   "outputs": [
    {
     "name": "stdout",
     "output_type": "stream",
     "text": [
      "The area of the rectangle is 1500 square pixels.\n"
     ]
    },
    {
     "data": {
      "text/plain": [
       "()"
      ]
     },
     "execution_count": 20,
     "metadata": {},
     "output_type": "execute_result"
    }
   ],
   "source": [
    "// 使用元组重构\n",
    "\n",
    "fn main() {\n",
    "    let rect1 = (30, 50);\n",
    "\n",
    "    println!(\n",
    "        \"The area of the rectangle is {} square pixels.\",\n",
    "        area(rect1)\n",
    "    );\n",
    "}\n",
    "\n",
    "fn area(dimensions: (u32, u32)) -> u32 {\n",
    "    dimensions.0 * dimensions.1\n",
    "}\n",
    "main()"
   ]
  },
  {
   "cell_type": "code",
   "execution_count": 21,
   "metadata": {
    "ExecuteTime": {
     "end_time": "2020-08-24T08:31:13.517870Z",
     "start_time": "2020-08-24T08:31:11.922Z"
    }
   },
   "outputs": [
    {
     "name": "stdout",
     "output_type": "stream",
     "text": [
      "The area of the rectangle is 1500 square pixels.\n"
     ]
    },
    {
     "data": {
      "text/plain": [
       "()"
      ]
     },
     "execution_count": 21,
     "metadata": {},
     "output_type": "execute_result"
    }
   ],
   "source": [
    "// 使用结构体重构：赋予更多意义\n",
    "\n",
    "struct Rectangle {\n",
    "    width: u32,\n",
    "    height: u32,\n",
    "}\n",
    "\n",
    "fn main() {\n",
    "    let rect1 = Rectangle { width: 30, height: 50 };\n",
    "\n",
    "    println!(\n",
    "        \"The area of the rectangle is {} square pixels.\",\n",
    "        area(&rect1)\n",
    "    );\n",
    "}\n",
    "\n",
    "fn area(rectangle: &Rectangle) -> u32 {\n",
    "    rectangle.width * rectangle.height\n",
    "}\n",
    "\n",
    "main()"
   ]
  },
  {
   "cell_type": "code",
   "execution_count": 25,
   "metadata": {
    "ExecuteTime": {
     "end_time": "2020-08-24T08:33:29.910460Z",
     "start_time": "2020-08-24T08:33:28.619Z"
    }
   },
   "outputs": [
    {
     "name": "stdout",
     "output_type": "stream",
     "text": [
      "rect1 is Rectangle { width: 30, height: 50 }\n",
      "rect1 is Rectangle {\n",
      "    width: 30,\n",
      "    height: 50,\n",
      "}\n"
     ]
    },
    {
     "data": {
      "text/plain": [
       "()"
      ]
     },
     "execution_count": 25,
     "metadata": {},
     "output_type": "execute_result"
    }
   ],
   "source": [
    "// Rust 确实 包含了打印出调试信息的功能，不过我们必须为结构体显式选择这个功能。\n",
    "// 为此，在结构体定义之前加上 #[derive(Debug)] 注解\n",
    "#[derive(Debug)]\n",
    "struct Rectangle {\n",
    "    width: u32,\n",
    "    height: u32,\n",
    "}\n",
    "\n",
    "fn main() {\n",
    "    let rect1 = Rectangle { width: 30, height: 50 };\n",
    "\n",
    "    println!(\"rect1 is {:?}\", rect1);\n",
    "    // 更易读一点的输出\n",
    "    println!(\"rect1 is {:#?}\", rect1);\n",
    "}\n",
    "main()"
   ]
  },
  {
   "cell_type": "code",
   "execution_count": 27,
   "metadata": {
    "ExecuteTime": {
     "end_time": "2020-08-24T08:35:37.687506Z",
     "start_time": "2020-08-24T08:35:36.536Z"
    }
   },
   "outputs": [
    {
     "name": "stdout",
     "output_type": "stream",
     "text": [
      "The area of the rectangle is 1500 square pixels.\n"
     ]
    },
    {
     "data": {
      "text/plain": [
       "()"
      ]
     },
     "execution_count": 27,
     "metadata": {},
     "output_type": "execute_result"
    }
   ],
   "source": [
    "#[derive(Debug)]\n",
    "struct Rectangle {\n",
    "    width: u32,\n",
    "    height: u32,\n",
    "}\n",
    "\n",
    "impl Rectangle {\n",
    "    // 仍然需要在 self 前面加上 &，就像 &Rectangle 一样。方法可以选择获取 self 的所有权，\n",
    "    // 或者像我们这里一样不可变地借用 self，或者可变地借用 self，就跟其他参数一样。\n",
    "    fn area(&self) -> u32 {\n",
    "        self.width * self.height\n",
    "    }\n",
    "}\n",
    "\n",
    "fn main() {\n",
    "    let rect1 = Rectangle { width: 30, height: 50 };\n",
    "\n",
    "    println!(\n",
    "        \"The area of the rectangle is {} square pixels.\",\n",
    "        rect1.area()\n",
    "    );\n",
    "}\n",
    "\n",
    "main()"
   ]
  },
  {
   "cell_type": "code",
   "execution_count": 29,
   "metadata": {
    "ExecuteTime": {
     "end_time": "2020-08-24T08:39:14.907105Z",
     "start_time": "2020-08-24T08:39:13.263Z"
    }
   },
   "outputs": [
    {
     "name": "stdout",
     "output_type": "stream",
     "text": [
      "Can rect1 hold rect2? true\n",
      "Can rect1 hold rect3? false\n"
     ]
    },
    {
     "data": {
      "text/plain": [
       "()"
      ]
     },
     "execution_count": 29,
     "metadata": {},
     "output_type": "execute_result"
    }
   ],
   "source": [
    "#[derive(Debug)]\n",
    "struct Rectangle {\n",
    "    width: u32,\n",
    "    height: u32,\n",
    "}\n",
    "\n",
    "impl Rectangle {\n",
    "    fn area(&self) -> u32 {\n",
    "        self.width * self.height\n",
    "    }\n",
    "\n",
    "    fn can_hold(&self, other: &Rectangle) -> bool {\n",
    "        self.width > other.width && self.height > other.height\n",
    "    }\n",
    "}\n",
    "\n",
    "fn main() {\n",
    "    let rect1 = Rectangle { width: 30, height: 50 };\n",
    "    let rect2 = Rectangle { width: 10, height: 40 };\n",
    "    let rect3 = Rectangle { width: 60, height: 45 };\n",
    "\n",
    "    println!(\"Can rect1 hold rect2? {}\", rect1.can_hold(&rect2));\n",
    "    println!(\"Can rect1 hold rect3? {}\", rect1.can_hold(&rect3));\n",
    "}\n",
    "\n",
    "main()"
   ]
  },
  {
   "cell_type": "markdown",
   "metadata": {},
   "source": [
    "## 关联函数\n",
    "impl 块的另一个有用的功能是：允许在 impl 块中定义 不 以 self 作为参数的函数。这被称为 关联函数（associated functions），因为它们与结构体相关联。它们仍是函数而不是方法，因为它们并不作用于一个结构体的实例。你已经使用过 String::from 关联函数了。\n",
    "\n",
    "关联函数经常被用作返回一个结构体新实例的构造函数。例如我们可以提供一个关联函数，它接受一个维度参数并且同时作为宽和高，这样可以更轻松的创建一个正方形 Rectangle 而不必指定两次同样的值：\n",
    "\n",
    "\n"
   ]
  },
  {
   "cell_type": "code",
   "execution_count": 6,
   "metadata": {
    "ExecuteTime": {
     "end_time": "2020-08-24T08:43:32.214283Z",
     "start_time": "2020-08-24T08:43:31.189Z"
    }
   },
   "outputs": [
    {
     "data": {
      "text/plain": [
       "Rectangle { width: 15, height: 15 }"
      ]
     },
     "execution_count": 6,
     "metadata": {},
     "output_type": "execute_result"
    }
   ],
   "source": [
    "#[derive(Debug)]\n",
    "struct Rectangle {\n",
    "    width: u32,\n",
    "    height: u32,\n",
    "}\n",
    "\n",
    "impl Rectangle {\n",
    "    fn square(size: u32) -> Rectangle {\n",
    "        Rectangle { width: size, height: size }\n",
    "    }\n",
    "}\n",
    "\n",
    "// 每个结构体都允许拥有多个 impl 块。\n",
    "impl Rectangle {\n",
    "    fn can_hold(&self, other: &Rectangle) -> bool {\n",
    "        self.width > other.width && self.height > other.height\n",
    "    }\n",
    "}\n",
    "\n",
    "Rectangle::square(15)"
   ]
  }
 ],
 "metadata": {
  "kernelspec": {
   "display_name": "Rust",
   "language": "rust",
   "name": "rust"
  },
  "language_info": {
   "codemirror_mode": "rust",
   "file_extension": ".rs",
   "mimetype": "text/rust",
   "name": "Rust",
   "pygment_lexer": "rust",
   "version": ""
  },
  "varInspector": {
   "cols": {
    "lenName": 16,
    "lenType": 16,
    "lenVar": 40
   },
   "kernels_config": {
    "python": {
     "delete_cmd_postfix": "",
     "delete_cmd_prefix": "del ",
     "library": "var_list.py",
     "varRefreshCmd": "print(var_dic_list())"
    },
    "r": {
     "delete_cmd_postfix": ") ",
     "delete_cmd_prefix": "rm(",
     "library": "var_list.r",
     "varRefreshCmd": "cat(var_dic_list()) "
    }
   },
   "types_to_exclude": [
    "module",
    "function",
    "builtin_function_or_method",
    "instance",
    "_Feature"
   ],
   "window_display": false
  }
 },
 "nbformat": 4,
 "nbformat_minor": 4
}
