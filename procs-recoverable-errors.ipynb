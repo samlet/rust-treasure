{
 "cells": [
  {
   "cell_type": "code",
   "execution_count": 2,
   "metadata": {
    "ExecuteTime": {
     "end_time": "2020-08-24T20:44:52.021624Z",
     "start_time": "2020-08-24T20:44:51.028Z"
    }
   },
   "outputs": [
    {
     "data": {
      "text/plain": [
       "()"
      ]
     },
     "execution_count": 2,
     "metadata": {},
     "output_type": "execute_result"
    }
   ],
   "source": [
    "use std::fs::File;\n",
    "\n",
    "fn main() {\n",
    "    let f = File::open(\"hello.txt\");\n",
    "}\n",
    "main()"
   ]
  },
  {
   "cell_type": "code",
   "execution_count": 3,
   "metadata": {
    "ExecuteTime": {
     "end_time": "2020-08-24T20:45:23.470056Z",
     "start_time": "2020-08-24T20:45:22.412Z"
    }
   },
   "outputs": [
    {
     "name": "stderr",
     "output_type": "stream",
     "text": [
      "thread '<unnamed>' panicked at 'Problem opening the file: Os { code: 2, kind: NotFound, message: \"No such file or directory\" }', src/lib.rs:9:13\n",
      "stack backtrace:\n",
      "   0: _ZL12preoptimized\n",
      "   1: _ZL12preoptimized\n",
      "   2: _ZL12preoptimized\n",
      "   3: _ZL12preoptimized\n",
      "   4: _ZL12preoptimized\n",
      "   5: _ZL12preoptimized\n",
      "   6: _ZL12preoptimized\n",
      "   7: _ZL12preoptimized\n",
      "   8: _ZL12preoptimized\n",
      "   9: evcxr::runtime::Runtime::run_loop\n",
      "  10: evcxr::runtime::runtime_hook\n",
      "  11: evcxr_jupyter::main\n",
      "  12: std::rt::lang_start::{{closure}}\n",
      "  13: std::rt::lang_start_internal\n",
      "  14: main\n",
      "note: Some details are omitted, run with `RUST_BACKTRACE=full` for a verbose backtrace.\n"
     ]
    },
    {
     "ename": "Error",
     "evalue": "Child process terminated with status: exit code: 101",
     "output_type": "error",
     "traceback": [
      "Child process terminated with status: exit code: 101"
     ]
    }
   ],
   "source": [
    "fn main() {\n",
    "    let f = File::open(\"hello.txt\");\n",
    "\n",
    "    let f = match f {\n",
    "        Ok(file) => file,\n",
    "        Err(error) => {\n",
    "            panic!(\"Problem opening the file: {:?}\", error)\n",
    "        },\n",
    "    };\n",
    "}\n",
    "main()"
   ]
  },
  {
   "cell_type": "code",
   "execution_count": 2,
   "metadata": {
    "ExecuteTime": {
     "end_time": "2020-08-24T20:46:37.151695Z",
     "start_time": "2020-08-24T20:46:36.066Z"
    }
   },
   "outputs": [
    {
     "data": {
      "text/plain": [
       "()"
      ]
     },
     "execution_count": 2,
     "metadata": {},
     "output_type": "execute_result"
    }
   ],
   "source": [
    "// 匹配不同的错误\n",
    "use std::fs::File;\n",
    "use std::io::ErrorKind;\n",
    "\n",
    "fn main() {\n",
    "    let f = File::open(\"hello.txt\");\n",
    "\n",
    "    let f = match f {\n",
    "        Ok(file) => file,\n",
    "        Err(error) => match error.kind() {\n",
    "            ErrorKind::NotFound => match File::create(\"hello.txt\") {\n",
    "                Ok(fc) => fc,\n",
    "                Err(e) => panic!(\"Problem creating the file: {:?}\", e),\n",
    "            },\n",
    "            other_error => panic!(\"Problem opening the file: {:?}\", other_error),\n",
    "        },\n",
    "    };\n",
    "}\n",
    "main()"
   ]
  },
  {
   "cell_type": "code",
   "execution_count": 3,
   "metadata": {
    "ExecuteTime": {
     "end_time": "2020-08-24T20:47:50.919033Z",
     "start_time": "2020-08-24T20:47:49.818Z"
    }
   },
   "outputs": [
    {
     "data": {
      "text/plain": [
       "()"
      ]
     },
     "execution_count": 3,
     "metadata": {},
     "output_type": "execute_result"
    }
   ],
   "source": [
    "// Result<T, E> 有很多接受闭包的方法，并采用 match 表达式实现。一个更老练的 Rustacean 可能会这么写：\n",
    "fn main() {\n",
    "    let f = File::open(\"hello.txt\").unwrap_or_else(|error| {\n",
    "        if error.kind() == ErrorKind::NotFound {\n",
    "            File::create(\"hello.txt\").unwrap_or_else(|error| {\n",
    "                panic!(\"Problem creating the file: {:?}\", error);\n",
    "            })\n",
    "        } else {\n",
    "            panic!(\"Problem opening the file: {:?}\", error);\n",
    "        }\n",
    "    });\n",
    "}\n",
    "main()\n",
    "\n",
    "// 在处理错误时，还有很多这类方法可以消除大量嵌套的 match 表达式。"
   ]
  },
  {
   "cell_type": "code",
   "execution_count": 5,
   "metadata": {
    "ExecuteTime": {
     "end_time": "2020-08-24T20:49:37.132303Z",
     "start_time": "2020-08-24T20:49:35.939Z"
    }
   },
   "outputs": [
    {
     "name": "stderr",
     "output_type": "stream",
     "text": [
      "thread '<unnamed>' panicked at 'called `Result::unwrap()` on an `Err` value: Os { code: 2, kind: NotFound, message: \"No such file or directory\" }', src/lib.rs:6:13\n",
      "stack backtrace:\n",
      "   0: _ZL12preoptimized\n",
      "   1: _ZL12preoptimized\n",
      "   2: _ZL12preoptimized\n",
      "   3: _ZL12preoptimized\n",
      "   4: _ZL12preoptimized\n",
      "   5: _ZL12preoptimized\n",
      "   6: _ZL12preoptimized\n",
      "   7: _ZL12preoptimized\n",
      "   8: _ZL12preoptimized\n",
      "   9: _ZL12preoptimized\n",
      "  10: evcxr::runtime::Runtime::run_loop\n",
      "  11: evcxr::runtime::runtime_hook\n",
      "  12: evcxr_jupyter::main\n",
      "  13: std::rt::lang_start::{{closure}}\n",
      "  14: std::rt::lang_start_internal\n",
      "  15: main\n",
      "note: Some details are omitted, run with `RUST_BACKTRACE=full` for a verbose backtrace.\n"
     ]
    },
    {
     "ename": "Error",
     "evalue": "Child process terminated with status: exit code: 101",
     "output_type": "error",
     "traceback": [
      "Child process terminated with status: exit code: 101"
     ]
    }
   ],
   "source": [
    "fn main() {\n",
    "    let f = File::open(\"hello_.txt\").unwrap();\n",
    "}\n",
    "main()"
   ]
  },
  {
   "cell_type": "code",
   "execution_count": 8,
   "metadata": {
    "ExecuteTime": {
     "end_time": "2020-08-24T20:50:36.341748Z",
     "start_time": "2020-08-24T20:50:35.386Z"
    }
   },
   "outputs": [
    {
     "name": "stderr",
     "output_type": "stream",
     "text": [
      "thread '<unnamed>' panicked at 'Failed to open hello.txt: Os { code: 2, kind: NotFound, message: \"No such file or directory\" }', src/lib.rs:7:13\n",
      "stack backtrace:\n",
      "   0: _ZL12preoptimized\n",
      "   1: _ZL12preoptimized\n",
      "   2: _ZL12preoptimized\n",
      "   3: _ZL12preoptimized\n",
      "   4: _ZL12preoptimized\n",
      "   5: _ZL12preoptimized\n",
      "   6: _ZL12preoptimized\n",
      "   7: _ZL12preoptimized\n",
      "   8: _ZL12preoptimized\n",
      "   9: _ZL12preoptimized\n",
      "  10: evcxr::runtime::Runtime::run_loop\n",
      "  11: evcxr::runtime::runtime_hook\n",
      "  12: evcxr_jupyter::main\n",
      "  13: std::rt::lang_start::{{closure}}\n",
      "  14: std::rt::lang_start_internal\n",
      "  15: main\n",
      "note: Some details are omitted, run with `RUST_BACKTRACE=full` for a verbose backtrace.\n"
     ]
    },
    {
     "ename": "Error",
     "evalue": "Child process terminated with status: exit code: 101",
     "output_type": "error",
     "traceback": [
      "Child process terminated with status: exit code: 101"
     ]
    }
   ],
   "source": [
    "// 使用 expect 而不是 unwrap 并提供一个好的错误信息可以表明你的意图并更易于追踪 panic 的根源。\n",
    "// expect 与 unwrap 的使用方式一样：返回文件句柄或调用 panic! 宏。\n",
    "// expect 用来调用 panic! 的错误信息将会作为参数传递给 expect ，\n",
    "// 而不像unwrap 那样使用默认的 panic! 信息\n",
    "fn main() {\n",
    "    let f = File::open(\"hello_.txt\").expect(\"Failed to open hello.txt\");\n",
    "}\n",
    "main()"
   ]
  },
  {
   "cell_type": "code",
   "execution_count": 4,
   "metadata": {
    "ExecuteTime": {
     "end_time": "2020-08-24T20:53:40.207461Z",
     "start_time": "2020-08-24T20:53:39.395Z"
    }
   },
   "outputs": [
    {
     "data": {
      "text/plain": [
       "Err(Os { code: 2, kind: NotFound, message: \"No such file or directory\" })"
      ]
     },
     "execution_count": 4,
     "metadata": {},
     "output_type": "execute_result"
    }
   ],
   "source": [
    "use std::io;\n",
    "use std::io::Read;\n",
    "use std::fs::File;\n",
    "\n",
    "// 一个函数使用 match 将错误返回给代码调用者\n",
    "fn read_username_from_file() -> Result<String, io::Error> {\n",
    "    let f = File::open(\"hello_.txt\");\n",
    "\n",
    "    let mut f = match f {\n",
    "        Ok(file) => file,\n",
    "        Err(e) => return Err(e),\n",
    "    };\n",
    "\n",
    "    let mut s = String::new();\n",
    "\n",
    "    match f.read_to_string(&mut s) {\n",
    "        Ok(_) => Ok(s),\n",
    "        Err(e) => Err(e),\n",
    "    }\n",
    "}\n",
    "\n",
    "read_username_from_file()"
   ]
  },
  {
   "cell_type": "code",
   "execution_count": 7,
   "metadata": {
    "ExecuteTime": {
     "end_time": "2020-08-24T20:58:46.914152Z",
     "start_time": "2020-08-24T20:58:45.868Z"
    }
   },
   "outputs": [
    {
     "data": {
      "text/plain": [
       "Ok(\"\")"
      ]
     },
     "execution_count": 7,
     "metadata": {},
     "output_type": "execute_result"
    }
   ],
   "source": [
    "fn read_username_from_file() -> Result<String, io::Error> {\n",
    "    let mut f = File::open(\"hello.txt\")?;\n",
    "    let mut s = String::new();\n",
    "    f.read_to_string(&mut s)?;\n",
    "    Ok(s)\n",
    "}\n",
    "read_username_from_file()"
   ]
  },
  {
   "cell_type": "code",
   "execution_count": 6,
   "metadata": {
    "ExecuteTime": {
     "end_time": "2020-08-24T20:54:48.371969Z",
     "start_time": "2020-08-24T20:54:47.461Z"
    }
   },
   "outputs": [
    {
     "data": {
      "text/plain": [
       "Err(Os { code: 2, kind: NotFound, message: \"No such file or directory\" })"
      ]
     },
     "execution_count": 6,
     "metadata": {},
     "output_type": "execute_result"
    }
   ],
   "source": [
    "// ? 运算符消除了大量样板代码并使得函数的实现更简单。\n",
    "// 我们甚至可以在 ? 之后直接使用链式方法调用来进一步缩短代码\n",
    "fn read_username_from_file() -> Result<String, io::Error> {\n",
    "    let mut s = String::new();\n",
    "\n",
    "    File::open(\"hello_.txt\")?.read_to_string(&mut s)?;\n",
    "\n",
    "    Ok(s)\n",
    "}\n",
    "read_username_from_file()"
   ]
  },
  {
   "cell_type": "markdown",
   "metadata": {},
   "source": [
    "Result 值之后的 **?** 被定义为与示例 9-6 中定义的处理 Result 值的 match 表达式有着完全相同的工作方式。如果 Result 的值是 Ok，这个表达式将会返回 Ok 中的值而程序将继续执行。如果值是 Err，Err 中的值将作为整个函数的返回值，就好像使用了 return 关键字一样，这样错误值就被传播给了调用者。\n",
    "\n",
    "⊕ [Result 与可恢复的错误 · Rust 程序设计语言（第二版） 简体中文版](https://kaisery.gitbooks.io/trpl-zh-cn/content/ch09-02-recoverable-errors-with-result.html)\n",
    "\n"
   ]
  },
  {
   "cell_type": "code",
   "execution_count": 8,
   "metadata": {
    "ExecuteTime": {
     "end_time": "2020-08-24T20:59:40.470051Z",
     "start_time": "2020-08-24T20:59:39.492Z"
    }
   },
   "outputs": [
    {
     "data": {
      "text/plain": [
       "Ok(\"\")"
      ]
     },
     "execution_count": 8,
     "metadata": {},
     "output_type": "execute_result"
    }
   ],
   "source": [
    "use std::fs;\n",
    "\n",
    "// 将文件读取到一个字符串是相当常见的操作，所以 Rust 提供了名为 fs::read_to_string 的函数，\n",
    "// 它会打开文件、新建一个 String、读取文件的内容，并将内容放入 String，接着返回它。\n",
    "fn read_username_from_file() -> Result<String, io::Error> {\n",
    "    fs::read_to_string(\"hello.txt\")\n",
    "}\n",
    "read_username_from_file()"
   ]
  },
  {
   "cell_type": "code",
   "execution_count": 12,
   "metadata": {
    "ExecuteTime": {
     "end_time": "2020-08-24T21:02:08.670530Z",
     "start_time": "2020-08-24T21:02:07.579Z"
    }
   },
   "outputs": [
    {
     "data": {
      "text/plain": [
       "Err(Os { code: 2, kind: NotFound, message: \"No such file or directory\" })"
      ]
     },
     "execution_count": 12,
     "metadata": {},
     "output_type": "execute_result"
    }
   ],
   "source": [
    "use std::error::Error;\n",
    "\n",
    "// Box<dyn Error> 被称为 “trait 对象”（“trait object”），\n",
    "// 可以理解 Box<dyn Error> 为使用 ? 时 main 允许返回的 “任何类型的错误”。\n",
    "fn main() -> Result<(), Box<dyn Error>> {\n",
    "    let f = File::open(\"hello_.txt\")?;\n",
    "\n",
    "    Ok(())\n",
    "}\n",
    "main()"
   ]
  },
  {
   "cell_type": "code",
   "execution_count": 14,
   "metadata": {
    "ExecuteTime": {
     "end_time": "2020-08-24T21:04:39.940115Z",
     "start_time": "2020-08-24T21:04:38.350Z"
    }
   },
   "outputs": [
    {
     "data": {
      "text/plain": [
       "V4(127.0.0.1)"
      ]
     },
     "execution_count": 14,
     "metadata": {},
     "output_type": "execute_result"
    }
   ],
   "source": [
    "use std::net::IpAddr;\n",
    "\n",
    "// 硬编码的字符来创建一个 IpAddr 实例。可以看出 127.0.0.1 是一个有效的 IP 地址，所以这里使用 unwrap 是可以接受的。\n",
    "let home: IpAddr = \"127.0.0.1\".parse().unwrap();\n",
    "home"
   ]
  },
  {
   "cell_type": "code",
   "execution_count": 18,
   "metadata": {
    "ExecuteTime": {
     "end_time": "2020-08-24T21:07:53.859925Z",
     "start_time": "2020-08-24T21:07:51.923Z"
    }
   },
   "outputs": [
    {
     "data": {
      "text/plain": [
       "Guess { value: 5 }"
      ]
     },
     "execution_count": 18,
     "metadata": {},
     "output_type": "execute_result"
    }
   ],
   "source": [
    "#[derive(Debug)]\n",
    "pub struct Guess {\n",
    "    value: i32,\n",
    "}\n",
    "\n",
    "impl Guess {\n",
    "    pub fn new(value: i32) -> Guess {\n",
    "        if value < 1 || value > 100 {\n",
    "            panic!(\"Guess value must be between 1 and 100, got {}.\", value);\n",
    "        }\n",
    "\n",
    "        Guess {\n",
    "            value\n",
    "        }\n",
    "    }\n",
    "\n",
    "    pub fn value(&self) -> i32 {\n",
    "        self.value\n",
    "    }\n",
    "}\n",
    "\n",
    "Guess::new(5)"
   ]
  }
 ],
 "metadata": {
  "kernelspec": {
   "display_name": "Rust",
   "language": "rust",
   "name": "rust"
  },
  "language_info": {
   "codemirror_mode": "rust",
   "file_extension": ".rs",
   "mimetype": "text/rust",
   "name": "Rust",
   "pygment_lexer": "rust",
   "version": ""
  },
  "varInspector": {
   "cols": {
    "lenName": 16,
    "lenType": 16,
    "lenVar": 40
   },
   "kernels_config": {
    "python": {
     "delete_cmd_postfix": "",
     "delete_cmd_prefix": "del ",
     "library": "var_list.py",
     "varRefreshCmd": "print(var_dic_list())"
    },
    "r": {
     "delete_cmd_postfix": ") ",
     "delete_cmd_prefix": "rm(",
     "library": "var_list.r",
     "varRefreshCmd": "cat(var_dic_list()) "
    }
   },
   "types_to_exclude": [
    "module",
    "function",
    "builtin_function_or_method",
    "instance",
    "_Feature"
   ],
   "window_display": false
  }
 },
 "nbformat": 4,
 "nbformat_minor": 4
}
